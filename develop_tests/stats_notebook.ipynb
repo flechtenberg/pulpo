{
 "cells": [
  {
   "cell_type": "markdown",
   "id": "653abd19",
   "metadata": {},
   "source": [
    "# Global sensitivity Analysis for PULPO\n",
    "\n",
    "In this notebook we show the workflow for the global sensitivity analysis (GSA) in PULPO."
   ]
  },
  {
   "cell_type": "code",
   "execution_count": 80,
   "id": "7cbd9bcc",
   "metadata": {},
   "outputs": [
    {
     "name": "stdout",
     "output_type": "stream",
     "text": [
      "The autoreload extension is already loaded. To reload it, use:\n",
      "  %reload_ext autoreload\n"
     ]
    }
   ],
   "source": [
    "%load_ext autoreload\n",
    "%autoreload 2\n",
    "import sys\n",
    "sys.path.append('../')\n",
    "sys.path.append('../develop_test')\n",
    "import stats as pulpostats\n",
    "import numpy as np\n",
    "import pandas as pd"
   ]
  },
  {
   "cell_type": "markdown",
   "id": "588029bb",
   "metadata": {},
   "source": [
    "## 1. Defining the case\n",
    "\n",
    "The case for which the sensitivity analysis will be performed for is on a solution of the LP:\n",
    "\n",
    "$$\n",
    "    \\begin{align}\n",
    "        & \\underset{s, slack}{\\text{min}}  && z_h \\\\\n",
    "        & \\text{s.t.}   && \\sum_{j}(a_{i,j}\\cdot s_j) = f_i && \\forall i \\\\\n",
    "        &               && s_j^{low} \\leq s_j \\leq s_j^{high} && \\forall j \\\\\n",
    "        &               && z_h = \\sum_e \\sum_j (q_{h,e}\\cdot b_{e,j} \\cdot s_j) && \\forall h \\\\\n",
    "    \\end{align}\n",
    "$$\n"
   ]
  },
  {
   "cell_type": "markdown",
   "id": "0c30d80e",
   "metadata": {},
   "source": [
    "### 1.1. Rice husk problem\n"
   ]
  },
  {
   "cell_type": "code",
   "execution_count": null,
   "id": "c920c084",
   "metadata": {},
   "outputs": [],
   "source": [
    "case_study = pulpostats.RiceHuskCase()\n",
    "case_study.create_pulpo_worker()\n",
    "case_study.define_problem()\n",
    "result_data = case_study.solve_and_summarize(file_name=\"rice_husc_test\")\n"
   ]
  },
  {
   "cell_type": "markdown",
   "id": "75063e1b",
   "metadata": {},
   "source": [
    "### 1.2. Defining the electricity showcase problem"
   ]
  },
  {
   "cell_type": "code",
   "execution_count": null,
   "id": "dd119e09",
   "metadata": {},
   "outputs": [],
   "source": [
    "case_study = pulpostats.ElectricityCase()\n",
    "case_study.create_pulpo_worker()\n",
    "case_study.define_problem()\n",
    "result_data = case_study.solve_and_summarize(file_name='electricity_test')"
   ]
  },
  {
   "cell_type": "markdown",
   "id": "fc4e64d8",
   "metadata": {},
   "source": [
    "### 1.3. Defining the Ammonia case study"
   ]
  },
  {
   "cell_type": "code",
   "execution_count": 2,
   "id": "73760f89",
   "metadata": {},
   "outputs": [
    {
     "name": "stdout",
     "output_type": "stream",
     "text": [
      "Creating Instance\n",
      "Instance created\n",
      "Running HiGHS 1.8.0 (git hash: eda5cbe): Copyright (c) 2024 HiGHS under MIT licence terms\n",
      "Cols:       47102 lower bounds    less than or equal to       -1e+20 are treated as -Infinity\n",
      "Cols:       47102 upper bounds greater than or equal to        1e+20 are treated as +Infinity\n",
      "Rows:       23537 lower bounds    less than or equal to       -1e+20 are treated as -Infinity\n",
      "Rows:       23549 upper bounds greater than or equal to        1e+20 are treated as +Infinity\n",
      "WARNING: LP matrix packed vector contains 23121 |values| in [0, 1e-09] less than or equal to 1e-09: ignored\n",
      "optimal solution found:  3854302129.3511605\n"
     ]
    },
    {
     "data": {
      "text/markdown": [
       "## Total Impact(s)"
      ],
      "text/plain": [
       "<IPython.core.display.Markdown object>"
      ]
     },
     "metadata": {},
     "output_type": "display_data"
    },
    {
     "data": {
      "application/vnd.microsoft.datawrangler.viewer.v0+json": {
       "columns": [
        {
         "name": "Method",
         "rawType": "object",
         "type": "string"
        },
        {
         "name": "Weight",
         "rawType": "int64",
         "type": "integer"
        },
        {
         "name": "Value",
         "rawType": "float64",
         "type": "float"
        }
       ],
       "conversionMethod": "pd.DataFrame",
       "ref": "0c59d3ff-2f5e-45bc-83eb-9cfad45517b2",
       "rows": [
        [
         "('IPCC 2021', 'climate change', 'GWP 100a, incl. H and bio CO2')",
         "1",
         "3854302129.3511605"
        ]
       ],
       "shape": {
        "columns": 2,
        "rows": 1
       }
      },
      "text/html": [
       "<div>\n",
       "<style scoped>\n",
       "    .dataframe tbody tr th:only-of-type {\n",
       "        vertical-align: middle;\n",
       "    }\n",
       "\n",
       "    .dataframe tbody tr th {\n",
       "        vertical-align: top;\n",
       "    }\n",
       "\n",
       "    .dataframe thead th {\n",
       "        text-align: right;\n",
       "    }\n",
       "</style>\n",
       "<table border=\"1\" class=\"dataframe\">\n",
       "  <thead>\n",
       "    <tr style=\"text-align: right;\">\n",
       "      <th></th>\n",
       "      <th>Weight</th>\n",
       "      <th>Value</th>\n",
       "    </tr>\n",
       "    <tr>\n",
       "      <th>Method</th>\n",
       "      <th></th>\n",
       "      <th></th>\n",
       "    </tr>\n",
       "  </thead>\n",
       "  <tbody>\n",
       "    <tr>\n",
       "      <th>('IPCC 2021', 'climate change', 'GWP 100a, incl. H and bio CO2')</th>\n",
       "      <td>1</td>\n",
       "      <td>3.854302e+09</td>\n",
       "    </tr>\n",
       "  </tbody>\n",
       "</table>\n",
       "</div>"
      ],
      "text/plain": [
       "                                                    Weight         Value\n",
       "Method                                                                  \n",
       "('IPCC 2021', 'climate change', 'GWP 100a, incl...       1  3.854302e+09"
      ]
     },
     "metadata": {},
     "output_type": "display_data"
    },
    {
     "data": {
      "text/markdown": [
       "## Choices Made"
      ],
      "text/plain": [
       "<IPython.core.display.Markdown object>"
      ]
     },
     "metadata": {},
     "output_type": "display_data"
    },
    {
     "data": {
      "text/markdown": [
       "### ammonia"
      ],
      "text/plain": [
       "<IPython.core.display.Markdown object>"
      ]
     },
     "metadata": {},
     "output_type": "display_data"
    },
    {
     "data": {
      "application/vnd.microsoft.datawrangler.viewer.v0+json": {
       "columns": [
        {
         "name": "Metadata",
         "rawType": "object",
         "type": "string"
        },
        {
         "name": "Value",
         "rawType": "float64",
         "type": "float"
        },
        {
         "name": "Capacity",
         "rawType": "float64",
         "type": "float"
        }
       ],
       "conversionMethod": "pd.DataFrame",
       "ref": "20acd3fe-329e-48c5-9030-8cb8e0d5dc56",
       "rows": [
        [
         "ammonia production, from nitrogen and hydrogen | ammonia production, from nitrogen and hydrogen | RER",
         "2010086100.2038004",
         "1e+20"
        ]
       ],
       "shape": {
        "columns": 2,
        "rows": 1
       }
      },
      "text/html": [
       "<div>\n",
       "<style scoped>\n",
       "    .dataframe tbody tr th:only-of-type {\n",
       "        vertical-align: middle;\n",
       "    }\n",
       "\n",
       "    .dataframe tbody tr th {\n",
       "        vertical-align: top;\n",
       "    }\n",
       "\n",
       "    .dataframe thead th {\n",
       "        text-align: right;\n",
       "    }\n",
       "</style>\n",
       "<table border=\"1\" class=\"dataframe\">\n",
       "  <thead>\n",
       "    <tr style=\"text-align: right;\">\n",
       "      <th></th>\n",
       "      <th>Value</th>\n",
       "      <th>Capacity</th>\n",
       "    </tr>\n",
       "    <tr>\n",
       "      <th>Metadata</th>\n",
       "      <th></th>\n",
       "      <th></th>\n",
       "    </tr>\n",
       "  </thead>\n",
       "  <tbody>\n",
       "    <tr>\n",
       "      <th>ammonia production, from nitrogen and hydrogen | ammonia production, from nitrogen and hydrogen | RER</th>\n",
       "      <td>2.010086e+09</td>\n",
       "      <td>1.000000e+20</td>\n",
       "    </tr>\n",
       "  </tbody>\n",
       "</table>\n",
       "</div>"
      ],
      "text/plain": [
       "                                                           Value      Capacity\n",
       "Metadata                                                                      \n",
       "ammonia production, from nitrogen and hydrogen ...  2.010086e+09  1.000000e+20"
      ]
     },
     "metadata": {},
     "output_type": "display_data"
    },
    {
     "data": {
      "text/markdown": [
       "### methane_market"
      ],
      "text/plain": [
       "<IPython.core.display.Markdown object>"
      ]
     },
     "metadata": {},
     "output_type": "display_data"
    },
    {
     "data": {
      "application/vnd.microsoft.datawrangler.viewer.v0+json": {
       "columns": [
        {
         "name": "Metadata",
         "rawType": "object",
         "type": "string"
        },
        {
         "name": "Value",
         "rawType": "float64",
         "type": "float"
        },
        {
         "name": "Capacity",
         "rawType": "float64",
         "type": "float"
        }
       ],
       "conversionMethod": "pd.DataFrame",
       "ref": "9938f9da-4cf9-4583-900d-e138ac5e17e3",
       "rows": [
        [
         "market group for natural gas, high pressure | natural gas, high pressure | Europe without Switzerland",
         "2095477954.5670016",
         "1e+20"
        ],
        [
         "market for bio methane | methane | RER",
         "209215583.2631964",
         "1e+20"
        ]
       ],
       "shape": {
        "columns": 2,
        "rows": 2
       }
      },
      "text/html": [
       "<div>\n",
       "<style scoped>\n",
       "    .dataframe tbody tr th:only-of-type {\n",
       "        vertical-align: middle;\n",
       "    }\n",
       "\n",
       "    .dataframe tbody tr th {\n",
       "        vertical-align: top;\n",
       "    }\n",
       "\n",
       "    .dataframe thead th {\n",
       "        text-align: right;\n",
       "    }\n",
       "</style>\n",
       "<table border=\"1\" class=\"dataframe\">\n",
       "  <thead>\n",
       "    <tr style=\"text-align: right;\">\n",
       "      <th></th>\n",
       "      <th>Value</th>\n",
       "      <th>Capacity</th>\n",
       "    </tr>\n",
       "    <tr>\n",
       "      <th>Metadata</th>\n",
       "      <th></th>\n",
       "      <th></th>\n",
       "    </tr>\n",
       "  </thead>\n",
       "  <tbody>\n",
       "    <tr>\n",
       "      <th>market group for natural gas, high pressure | natural gas, high pressure | Europe without Switzerland</th>\n",
       "      <td>2.095478e+09</td>\n",
       "      <td>1.000000e+20</td>\n",
       "    </tr>\n",
       "    <tr>\n",
       "      <th>market for bio methane | methane | RER</th>\n",
       "      <td>2.092156e+08</td>\n",
       "      <td>1.000000e+20</td>\n",
       "    </tr>\n",
       "  </tbody>\n",
       "</table>\n",
       "</div>"
      ],
      "text/plain": [
       "                                                           Value      Capacity\n",
       "Metadata                                                                      \n",
       "market group for natural gas, high pressure | n...  2.095478e+09  1.000000e+20\n",
       "market for bio methane | methane | RER              2.092156e+08  1.000000e+20"
      ]
     },
     "metadata": {},
     "output_type": "display_data"
    },
    {
     "data": {
      "text/markdown": [
       "### hydrogen_market"
      ],
      "text/plain": [
       "<IPython.core.display.Markdown object>"
      ]
     },
     "metadata": {},
     "output_type": "display_data"
    },
    {
     "data": {
      "application/vnd.microsoft.datawrangler.viewer.v0+json": {
       "columns": [
        {
         "name": "Metadata",
         "rawType": "object",
         "type": "string"
        },
        {
         "name": "Value",
         "rawType": "float64",
         "type": "float"
        },
        {
         "name": "Capacity",
         "rawType": "float64",
         "type": "float"
        }
       ],
       "conversionMethod": "pd.DataFrame",
       "ref": "f92cd735-a3e1-4c2b-8c2d-ed5e6cd6833f",
       "rows": [
        [
         "market for hydrogen, gaseous, low pressure | hydrogen, gaseous, low pressure | RER",
         "203475856.50314912",
         "1e+20"
        ],
        [
         "market for hydrogen | hydrogen | RER",
         "150299997.7603555",
         "1e+20"
        ]
       ],
       "shape": {
        "columns": 2,
        "rows": 2
       }
      },
      "text/html": [
       "<div>\n",
       "<style scoped>\n",
       "    .dataframe tbody tr th:only-of-type {\n",
       "        vertical-align: middle;\n",
       "    }\n",
       "\n",
       "    .dataframe tbody tr th {\n",
       "        vertical-align: top;\n",
       "    }\n",
       "\n",
       "    .dataframe thead th {\n",
       "        text-align: right;\n",
       "    }\n",
       "</style>\n",
       "<table border=\"1\" class=\"dataframe\">\n",
       "  <thead>\n",
       "    <tr style=\"text-align: right;\">\n",
       "      <th></th>\n",
       "      <th>Value</th>\n",
       "      <th>Capacity</th>\n",
       "    </tr>\n",
       "    <tr>\n",
       "      <th>Metadata</th>\n",
       "      <th></th>\n",
       "      <th></th>\n",
       "    </tr>\n",
       "  </thead>\n",
       "  <tbody>\n",
       "    <tr>\n",
       "      <th>market for hydrogen, gaseous, low pressure | hydrogen, gaseous, low pressure | RER</th>\n",
       "      <td>2.034759e+08</td>\n",
       "      <td>1.000000e+20</td>\n",
       "    </tr>\n",
       "    <tr>\n",
       "      <th>market for hydrogen | hydrogen | RER</th>\n",
       "      <td>1.503000e+08</td>\n",
       "      <td>1.000000e+20</td>\n",
       "    </tr>\n",
       "  </tbody>\n",
       "</table>\n",
       "</div>"
      ],
      "text/plain": [
       "                                                           Value      Capacity\n",
       "Metadata                                                                      \n",
       "market for hydrogen, gaseous, low pressure | hy...  2.034759e+08  1.000000e+20\n",
       "market for hydrogen | hydrogen | RER                1.503000e+08  1.000000e+20"
      ]
     },
     "metadata": {},
     "output_type": "display_data"
    },
    {
     "data": {
      "text/markdown": [
       "### ammonia_market"
      ],
      "text/plain": [
       "<IPython.core.display.Markdown object>"
      ]
     },
     "metadata": {},
     "output_type": "display_data"
    },
    {
     "data": {
      "application/vnd.microsoft.datawrangler.viewer.v0+json": {
       "columns": [
        {
         "name": "Metadata",
         "rawType": "object",
         "type": "string"
        },
        {
         "name": "Value",
         "rawType": "float64",
         "type": "float"
        },
        {
         "name": "Capacity",
         "rawType": "float64",
         "type": "float"
        }
       ],
       "conversionMethod": "pd.DataFrame",
       "ref": "f12ce726-2a7b-4db5-8c31-d666942fe107",
       "rows": [
        [
         "market for ammonia | ammonia | RER",
         "3000128433.0354557",
         "1e+20"
        ]
       ],
       "shape": {
        "columns": 2,
        "rows": 1
       }
      },
      "text/html": [
       "<div>\n",
       "<style scoped>\n",
       "    .dataframe tbody tr th:only-of-type {\n",
       "        vertical-align: middle;\n",
       "    }\n",
       "\n",
       "    .dataframe tbody tr th {\n",
       "        vertical-align: top;\n",
       "    }\n",
       "\n",
       "    .dataframe thead th {\n",
       "        text-align: right;\n",
       "    }\n",
       "</style>\n",
       "<table border=\"1\" class=\"dataframe\">\n",
       "  <thead>\n",
       "    <tr style=\"text-align: right;\">\n",
       "      <th></th>\n",
       "      <th>Value</th>\n",
       "      <th>Capacity</th>\n",
       "    </tr>\n",
       "    <tr>\n",
       "      <th>Metadata</th>\n",
       "      <th></th>\n",
       "      <th></th>\n",
       "    </tr>\n",
       "  </thead>\n",
       "  <tbody>\n",
       "    <tr>\n",
       "      <th>market for ammonia | ammonia | RER</th>\n",
       "      <td>3.000128e+09</td>\n",
       "      <td>1.000000e+20</td>\n",
       "    </tr>\n",
       "  </tbody>\n",
       "</table>\n",
       "</div>"
      ],
      "text/plain": [
       "                                           Value      Capacity\n",
       "Metadata                                                      \n",
       "market for ammonia | ammonia | RER  3.000128e+09  1.000000e+20"
      ]
     },
     "metadata": {},
     "output_type": "display_data"
    },
    {
     "data": {
      "text/markdown": [
       "### hydrogen"
      ],
      "text/plain": [
       "<IPython.core.display.Markdown object>"
      ]
     },
     "metadata": {},
     "output_type": "display_data"
    },
    {
     "data": {
      "application/vnd.microsoft.datawrangler.viewer.v0+json": {
       "columns": [
        {
         "name": "Metadata",
         "rawType": "object",
         "type": "string"
        },
        {
         "name": "Value",
         "rawType": "float64",
         "type": "float"
        },
        {
         "name": "Capacity",
         "rawType": "float64",
         "type": "float"
        }
       ],
       "conversionMethod": "pd.DataFrame",
       "ref": "ff10d7e9-158e-4e09-b4a1-faa2c9f7d99d",
       "rows": [
        [
         "hydrogen production, steam methane reforming, w/ CCS | hydrogen production, biomethane, with CCS | RER",
         "150000000.0",
         "150000000.0"
        ],
        [
         "hydrogen production, plastics gasification, w/ CCS | hydrogen production, plastics gasification, with CCS | RER",
         "300000.0",
         "300000.0"
        ]
       ],
       "shape": {
        "columns": 2,
        "rows": 2
       }
      },
      "text/html": [
       "<div>\n",
       "<style scoped>\n",
       "    .dataframe tbody tr th:only-of-type {\n",
       "        vertical-align: middle;\n",
       "    }\n",
       "\n",
       "    .dataframe tbody tr th {\n",
       "        vertical-align: top;\n",
       "    }\n",
       "\n",
       "    .dataframe thead th {\n",
       "        text-align: right;\n",
       "    }\n",
       "</style>\n",
       "<table border=\"1\" class=\"dataframe\">\n",
       "  <thead>\n",
       "    <tr style=\"text-align: right;\">\n",
       "      <th></th>\n",
       "      <th>Value</th>\n",
       "      <th>Capacity</th>\n",
       "    </tr>\n",
       "    <tr>\n",
       "      <th>Metadata</th>\n",
       "      <th></th>\n",
       "      <th></th>\n",
       "    </tr>\n",
       "  </thead>\n",
       "  <tbody>\n",
       "    <tr>\n",
       "      <th>hydrogen production, steam methane reforming, w/ CCS | hydrogen production, biomethane, with CCS | RER</th>\n",
       "      <td>150000000.0</td>\n",
       "      <td>150000000.0</td>\n",
       "    </tr>\n",
       "    <tr>\n",
       "      <th>hydrogen production, plastics gasification, w/ CCS | hydrogen production, plastics gasification, with CCS | RER</th>\n",
       "      <td>300000.0</td>\n",
       "      <td>300000.0</td>\n",
       "    </tr>\n",
       "  </tbody>\n",
       "</table>\n",
       "</div>"
      ],
      "text/plain": [
       "                                                          Value     Capacity\n",
       "Metadata                                                                    \n",
       "hydrogen production, steam methane reforming, w...  150000000.0  150000000.0\n",
       "hydrogen production, plastics gasification, w/ ...     300000.0     300000.0"
      ]
     },
     "metadata": {},
     "output_type": "display_data"
    },
    {
     "data": {
      "text/markdown": [
       "### heat"
      ],
      "text/plain": [
       "<IPython.core.display.Markdown object>"
      ]
     },
     "metadata": {},
     "output_type": "display_data"
    },
    {
     "data": {
      "application/vnd.microsoft.datawrangler.viewer.v0+json": {
       "columns": [
        {
         "name": "Metadata",
         "rawType": "object",
         "type": "string"
        },
        {
         "name": "Value",
         "rawType": "float64",
         "type": "float"
        },
        {
         "name": "Capacity",
         "rawType": "float64",
         "type": "float"
        }
       ],
       "conversionMethod": "pd.DataFrame",
       "ref": "8e355ea1-095a-42ee-943c-fcdb3731b034",
       "rows": [
        [
         "heat from methane | heat from methane | RER",
         "7854816363.325655",
         "1e+20"
        ],
        [
         "heat from methane, w/ CCS | heat from biomethane, with CCS | RER",
         "1400000000.0",
         "1400000000.0"
        ]
       ],
       "shape": {
        "columns": 2,
        "rows": 2
       }
      },
      "text/html": [
       "<div>\n",
       "<style scoped>\n",
       "    .dataframe tbody tr th:only-of-type {\n",
       "        vertical-align: middle;\n",
       "    }\n",
       "\n",
       "    .dataframe tbody tr th {\n",
       "        vertical-align: top;\n",
       "    }\n",
       "\n",
       "    .dataframe thead th {\n",
       "        text-align: right;\n",
       "    }\n",
       "</style>\n",
       "<table border=\"1\" class=\"dataframe\">\n",
       "  <thead>\n",
       "    <tr style=\"text-align: right;\">\n",
       "      <th></th>\n",
       "      <th>Value</th>\n",
       "      <th>Capacity</th>\n",
       "    </tr>\n",
       "    <tr>\n",
       "      <th>Metadata</th>\n",
       "      <th></th>\n",
       "      <th></th>\n",
       "    </tr>\n",
       "  </thead>\n",
       "  <tbody>\n",
       "    <tr>\n",
       "      <th>heat from methane | heat from methane | RER</th>\n",
       "      <td>7.854816e+09</td>\n",
       "      <td>1.000000e+20</td>\n",
       "    </tr>\n",
       "    <tr>\n",
       "      <th>heat from methane, w/ CCS | heat from biomethane, with CCS | RER</th>\n",
       "      <td>1.400000e+09</td>\n",
       "      <td>1.400000e+09</td>\n",
       "    </tr>\n",
       "  </tbody>\n",
       "</table>\n",
       "</div>"
      ],
      "text/plain": [
       "                                                           Value      Capacity\n",
       "Metadata                                                                      \n",
       "heat from methane | heat from methane | RER         7.854816e+09  1.000000e+20\n",
       "heat from methane, w/ CCS | heat from biomethan...  1.400000e+09  1.400000e+09"
      ]
     },
     "metadata": {},
     "output_type": "display_data"
    },
    {
     "data": {
      "text/markdown": [
       "### biomethane"
      ],
      "text/plain": [
       "<IPython.core.display.Markdown object>"
      ]
     },
     "metadata": {},
     "output_type": "display_data"
    },
    {
     "data": {
      "application/vnd.microsoft.datawrangler.viewer.v0+json": {
       "columns": [
        {
         "name": "Metadata",
         "rawType": "object",
         "type": "string"
        },
        {
         "name": "Value",
         "rawType": "float64",
         "type": "float"
        },
        {
         "name": "Capacity",
         "rawType": "float64",
         "type": "float"
        }
       ],
       "conversionMethod": "pd.DataFrame",
       "ref": "bf235005-d26a-4833-99ec-3d876e1257ba",
       "rows": [
        [
         "biogas upgrading to biomethane, chemical scrubbing | biomethane, 24 bar | RER",
         "135123426.30824456",
         "1e+20"
        ],
        [
         "biogas upgrading to biomethane, chemical scrubbing w/ CCS | biomethane, 24 bar | RER",
         "36000000.00000001",
         "36000000.00000001"
        ],
        [
         "biogas upgrading to biomethane, water scrubbing w/ CCS | biomethane, 24 bar | RER",
         "36000000.00000001",
         "36000000.00000001"
        ]
       ],
       "shape": {
        "columns": 2,
        "rows": 3
       }
      },
      "text/html": [
       "<div>\n",
       "<style scoped>\n",
       "    .dataframe tbody tr th:only-of-type {\n",
       "        vertical-align: middle;\n",
       "    }\n",
       "\n",
       "    .dataframe tbody tr th {\n",
       "        vertical-align: top;\n",
       "    }\n",
       "\n",
       "    .dataframe thead th {\n",
       "        text-align: right;\n",
       "    }\n",
       "</style>\n",
       "<table border=\"1\" class=\"dataframe\">\n",
       "  <thead>\n",
       "    <tr style=\"text-align: right;\">\n",
       "      <th></th>\n",
       "      <th>Value</th>\n",
       "      <th>Capacity</th>\n",
       "    </tr>\n",
       "    <tr>\n",
       "      <th>Metadata</th>\n",
       "      <th></th>\n",
       "      <th></th>\n",
       "    </tr>\n",
       "  </thead>\n",
       "  <tbody>\n",
       "    <tr>\n",
       "      <th>biogas upgrading to biomethane, chemical scrubbing | biomethane, 24 bar | RER</th>\n",
       "      <td>1.351234e+08</td>\n",
       "      <td>1.000000e+20</td>\n",
       "    </tr>\n",
       "    <tr>\n",
       "      <th>biogas upgrading to biomethane, chemical scrubbing w/ CCS | biomethane, 24 bar | RER</th>\n",
       "      <td>3.600000e+07</td>\n",
       "      <td>3.600000e+07</td>\n",
       "    </tr>\n",
       "    <tr>\n",
       "      <th>biogas upgrading to biomethane, water scrubbing w/ CCS | biomethane, 24 bar | RER</th>\n",
       "      <td>3.600000e+07</td>\n",
       "      <td>3.600000e+07</td>\n",
       "    </tr>\n",
       "  </tbody>\n",
       "</table>\n",
       "</div>"
      ],
      "text/plain": [
       "                                                           Value      Capacity\n",
       "Metadata                                                                      \n",
       "biogas upgrading to biomethane, chemical scrubb...  1.351234e+08  1.000000e+20\n",
       "biogas upgrading to biomethane, chemical scrubb...  3.600000e+07  3.600000e+07\n",
       "biogas upgrading to biomethane, water scrubbing...  3.600000e+07  3.600000e+07"
      ]
     },
     "metadata": {},
     "output_type": "display_data"
    },
    {
     "data": {
      "text/markdown": [
       "## Constraints"
      ],
      "text/plain": [
       "<IPython.core.display.Markdown object>"
      ]
     },
     "metadata": {},
     "output_type": "display_data"
    },
    {
     "data": {
      "text/markdown": [
       "### Constraints Upper"
      ],
      "text/plain": [
       "<IPython.core.display.Markdown object>"
      ]
     },
     "metadata": {},
     "output_type": "display_data"
    },
    {
     "data": {
      "application/vnd.microsoft.datawrangler.viewer.v0+json": {
       "columns": [
        {
         "name": "ID",
         "rawType": "int64",
         "type": "integer"
        },
        {
         "name": "Key",
         "rawType": "object",
         "type": "unknown"
        },
        {
         "name": "Metadata",
         "rawType": "object",
         "type": "string"
        },
        {
         "name": "Value",
         "rawType": "float64",
         "type": "float"
        },
        {
         "name": "Limit",
         "rawType": "float64",
         "type": "float"
        }
       ],
       "conversionMethod": "pd.DataFrame",
       "ref": "a120976d-e9a3-4c7f-8cfe-04398a26d14d",
       "rows": [
        [
         "23532",
         "('ammonia-reduced', 'a2610a42cd93afb46b13b2e95273e1f7_copy1')",
         "anaerobic digestion of animal manure, with biogenic carbon uptake | biogas | RER",
         "360000000.0",
         "360000000.0"
        ]
       ],
       "shape": {
        "columns": 4,
        "rows": 1
       }
      },
      "text/html": [
       "<div>\n",
       "<style scoped>\n",
       "    .dataframe tbody tr th:only-of-type {\n",
       "        vertical-align: middle;\n",
       "    }\n",
       "\n",
       "    .dataframe tbody tr th {\n",
       "        vertical-align: top;\n",
       "    }\n",
       "\n",
       "    .dataframe thead th {\n",
       "        text-align: right;\n",
       "    }\n",
       "</style>\n",
       "<table border=\"1\" class=\"dataframe\">\n",
       "  <thead>\n",
       "    <tr style=\"text-align: right;\">\n",
       "      <th></th>\n",
       "      <th>Key</th>\n",
       "      <th>Metadata</th>\n",
       "      <th>Value</th>\n",
       "      <th>Limit</th>\n",
       "    </tr>\n",
       "    <tr>\n",
       "      <th>ID</th>\n",
       "      <th></th>\n",
       "      <th></th>\n",
       "      <th></th>\n",
       "      <th></th>\n",
       "    </tr>\n",
       "  </thead>\n",
       "  <tbody>\n",
       "    <tr>\n",
       "      <th>23532</th>\n",
       "      <td>(ammonia-reduced, a2610a42cd93afb46b13b2e95273...</td>\n",
       "      <td>anaerobic digestion of animal manure, with bio...</td>\n",
       "      <td>360000000.0</td>\n",
       "      <td>360000000.0</td>\n",
       "    </tr>\n",
       "  </tbody>\n",
       "</table>\n",
       "</div>"
      ],
      "text/plain": [
       "                                                     Key  \\\n",
       "ID                                                         \n",
       "23532  (ammonia-reduced, a2610a42cd93afb46b13b2e95273...   \n",
       "\n",
       "                                                Metadata        Value  \\\n",
       "ID                                                                      \n",
       "23532  anaerobic digestion of animal manure, with bio...  360000000.0   \n",
       "\n",
       "             Limit  \n",
       "ID                  \n",
       "23532  360000000.0  "
      ]
     },
     "metadata": {},
     "output_type": "display_data"
    }
   ],
   "source": [
    "case_study = pulpostats.AmmoniaCase()\n",
    "case_study.create_pulpo_worker()\n",
    "case_study.define_problem()\n",
    "result_data = case_study.solve_and_summarize(file_name='ammonia_test')\n"
   ]
  },
  {
   "cell_type": "markdown",
   "id": "1e690c9c",
   "metadata": {},
   "source": [
    "## 2. Filtering out negletable uncertain parameters\n",
    "\n",
    "**Reformulating the problem for the sensitivity analysis**\n",
    "\n",
    "We only consider uncertainty in the $B$ and $Q$ parameter matrizes. The scaling vector is given by the optimal solution.\n",
    "\n",
    "We will look at the environmental impact objective:\n",
    "\n",
    "$$\n",
    "    e(Q, B) =  Q \\cdot B \\cdot s\n",
    "$$"
   ]
  },
  {
   "cell_type": "code",
   "execution_count": 22,
   "id": "12cb2e9a",
   "metadata": {},
   "outputs": [],
   "source": [
    "paramfilter = pulpostats.ParameterFilter(\n",
    "    result_data=result_data, \n",
    "    lci_data=case_study.pulpo_worker.lci_data, \n",
    "    choices = case_study.choices,\n",
    "    demand = case_study.demand,\n",
    "    method = case_study.method\n",
    "    )"
   ]
  },
  {
   "cell_type": "markdown",
   "id": "e87c448a",
   "metadata": {},
   "source": [
    "Using the basic scaling vector which only includes the optimal choices in the scaling vector"
   ]
  },
  {
   "cell_type": "code",
   "execution_count": 23,
   "id": "ce337f57",
   "metadata": {},
   "outputs": [],
   "source": [
    "scaling_vector_series = paramfilter.prepare_sampling(scaling_vector_strategy='naive')"
   ]
  },
  {
   "cell_type": "markdown",
   "id": "48fe6282",
   "metadata": {},
   "source": [
    "Using the scaling vector constructed from all choices"
   ]
  },
  {
   "cell_type": "code",
   "execution_count": 24,
   "id": "e255401f",
   "metadata": {},
   "outputs": [],
   "source": [
    "scaling_vector_series = paramfilter.prepare_sampling(scaling_vector_strategy='constructed_demand')"
   ]
  },
  {
   "cell_type": "markdown",
   "id": "ba4046aa",
   "metadata": {},
   "source": [
    "Compute the LCA scores and return the characterized inventory to be used for the filtering"
   ]
  },
  {
   "cell_type": "code",
   "execution_count": 25,
   "id": "90bcc5e9",
   "metadata": {},
   "outputs": [
    {
     "name": "stdout",
     "output_type": "stream",
     "text": [
      "chosen environmental impact method: ('IPCC 2021', 'climate change', 'GWP 100a, incl. H and bio CO2')\n",
      "The total impact is: 5.391816e+01\n"
     ]
    }
   ],
   "source": [
    "lca_score, characterized_inventory = paramfilter.compute_LCI_LCIA(scaling_vector_series)"
   ]
  },
  {
   "cell_type": "markdown",
   "id": "68ff5f70",
   "metadata": {},
   "source": [
    "Plot the largest contributors"
   ]
  },
  {
   "cell_type": "code",
   "execution_count": 29,
   "id": "aef3fbb3",
   "metadata": {},
   "outputs": [
    {
     "data": {
      "image/png": "[encoded data removed]",
      "text/plain": [
       "<Figure size 477.858x295.333 with 1 Axes>"
      ]
     },
     "metadata": {},
     "output_type": "display_data"
    }
   ],
   "source": [
    "paramfilter.plot_top_processes(characterized_inventory, top_amount=19)"
   ]
  },
  {
   "cell_type": "markdown",
   "id": "fbc9bffd",
   "metadata": {},
   "source": [
    "Filtering out the inventoryflows $B_{i,j}$ that have a neglectable impact"
   ]
  },
  {
   "cell_type": "code",
   "execution_count": 34,
   "id": "64d77b21",
   "metadata": {},
   "outputs": [
    {
     "name": "stdout",
     "output_type": "stream",
     "text": [
      "Characterized inventory: (2648, 23557) 26580\n",
      "Filtered characterized inventory: (2648, 23557) 982\n",
      "Deviation from LCA score: 0.009995784029205534\n",
      "inventory (2648, 23557) filtering resulted in 982 of 26580 exchanges (99.0% of total impact) and took 0.003 seconds.\n"
     ]
    }
   ],
   "source": [
    "cutoff = 0.00002\n",
    "filtered_inventory_indcs = paramfilter.filter_inventoryflows(characterized_inventory, lca_score, cutoff)"
   ]
  },
  {
   "cell_type": "code",
   "execution_count": 35,
   "id": "446da0b2",
   "metadata": {},
   "outputs": [
    {
     "name": "stdout",
     "output_type": "stream",
     "text": [
      "CHARACTERIZATION MATRIX (2648,) filtering resulted in 27 of 111 characterization factors\n"
     ]
    }
   ],
   "source": [
    "filtered_characterization_indcs = paramfilter.filter_characterization_factors(filtered_inventory_indcs)"
   ]
  },
  {
   "cell_type": "markdown",
   "id": "974808a5",
   "metadata": {},
   "source": [
    "## 3. Getting the uncertainty of the parameter values"
   ]
  },
  {
   "cell_type": "markdown",
   "id": "f4f310e5",
   "metadata": {},
   "source": [
    "### 3.1. Interventions flows"
   ]
  },
  {
   "cell_type": "markdown",
   "id": "82e49eb4",
   "metadata": {},
   "source": [
    "Extract the metadata containing the uncertainty information to the filtered intervention flows and seperate the metadata into the parameters with and without defined uncertainty information"
   ]
  },
  {
   "cell_type": "code",
   "execution_count": 84,
   "id": "aab2b382",
   "metadata": {},
   "outputs": [
    {
     "name": "stdout",
     "output_type": "stream",
     "text": [
      "Parameters with uncertainty information: 863 \n",
      "Parameters without uncertainty information: 93\n",
      "Parameters with uncertainty information: 0 \n",
      "Parameters without uncertainty information: 26\n"
     ]
    }
   ],
   "source": [
    "uncertainty_importer = pulpostats.UncertaintyImporter(lci_data=case_study.pulpo_worker.lci_data)\n",
    "backgroundDB_filtInv_indcs = uncertainty_importer.get_intervention_indcs_to_db('ecoinvent-3.10-cutoff', filtered_inventory_indcs)\n",
    "foregroundDB_filtInv_indcs = uncertainty_importer.get_intervention_indcs_to_db('ammonia-reduced', filtered_inventory_indcs)\n",
    "bg_inventory_metadata_df = uncertainty_importer.get_intervention_meta(inventory_indices=backgroundDB_filtInv_indcs)\n",
    "fg_inventory_metadata_df = uncertainty_importer.get_intervention_meta(inventory_indices=foregroundDB_filtInv_indcs)\n",
    "bg_inventory_defined,  bg_inventory_undefined = uncertainty_importer.separate(bg_inventory_metadata_df)\n",
    "fg_inventory_defined,  fg_inventory_undefined = uncertainty_importer.separate(fg_inventory_metadata_df)\n"
   ]
  },
  {
   "cell_type": "markdown",
   "id": "2cad4575",
   "metadata": {},
   "source": [
    "Apply the triangular strategy using bound interpolation to the missing intervention uncertainty parameters in the background database"
   ]
  },
  {
   "cell_type": "code",
   "execution_count": 93,
   "id": "6a6eda0f",
   "metadata": {},
   "outputs": [
    {
     "name": "stdout",
     "output_type": "stream",
     "text": [
      "upper spread statistics\n",
      "mean: 0.9512\n",
      "mode: 0    3.466758\n",
      "dtype: float64\n",
      "median: 0.5730\n",
      "std: 1.1150\n",
      "min: 0.0582\n",
      "max: 8.0184\n",
      "\n",
      "\n",
      "lower spread statistics\n",
      "mean: 0.3923\n",
      "mode: 0    0.776124\n",
      "dtype: float64\n",
      "median: 0.3643\n",
      "std: 0.1824\n",
      "min: 0.0550\n",
      "max: 0.8891\n",
      "\n",
      "The upper spread scaling factor for intervention flows is: 0.5730084852467614\n",
      "The lower spread scaling factor for intervention flows is: 0.36427551829003174\n",
      "uncertain parameters with negative median value:\n",
      "            input  output  type  uncertainty_type      amount         loc  \\\n",
      "row  col                                                                    \n",
      "2129 1603    3721    5966     2                 5 -186.611023 -186.611023   \n",
      "     4358    3721    8721     2                 5 -493.676880 -493.676880   \n",
      "     10497   3721   14860     2                 5 -493.676880 -493.676880   \n",
      "     11086   3721   15449     2                 5 -648.320374 -648.320374   \n",
      "     17241   3721   21604     2                 5 -186.469284 -186.469284   \n",
      "     20654   3721   25017     2                 5 -493.676880 -493.676880   \n",
      "     21095   3721   25458     2                 5 -669.673340 -669.673340   \n",
      "     23088   3721   27451     2                 5 -669.673340 -669.673340   \n",
      "\n",
      "            scale  shape      minimum     maximum  negative  \n",
      "row  col                                                     \n",
      "2129 1603     NaN    NaN  -297.582764 -116.063571      True  \n",
      "     4358     NaN    NaN  -773.438213 -315.825753      True  \n",
      "     10497    NaN    NaN  -783.872269 -309.192569      True  \n",
      "     11086    NaN    NaN  -994.106016 -428.495978      True  \n",
      "     17241    NaN    NaN  -286.845410 -122.657724      True  \n",
      "     20654    NaN    NaN  -749.723399 -330.901841      True  \n",
      "     21095    NaN    NaN -1075.396636 -411.745110      True  \n",
      "     23088    NaN    NaN -1037.999612 -435.519314      True  \n"
     ]
    },
    {
     "name": "stderr",
     "output_type": "stream",
     "text": [
      "/Users/hausslingbhl/Library/CloudStorage/OneDrive-UniversiteitLeiden/13_Code/03_Chapter_3/pulpo_flechtenberg/pulpo/develop_tests/stats.py:1040: FutureWarning: Setting an item of incompatible dtype is deprecated and will raise an error in a future version of pandas. Value '4.322629157403707' has dtype incompatible with float32, please explicitly cast to a compatible dtype first.\n",
      "  metadata_df.loc[undefined_indx, 'maximum'] = amount + upper_scaling_fac * abs(amount)\n",
      "/Users/hausslingbhl/Library/CloudStorage/OneDrive-UniversiteitLeiden/13_Code/03_Chapter_3/pulpo_flechtenberg/pulpo/develop_tests/stats.py:1041: FutureWarning: Setting an item of incompatible dtype is deprecated and will raise an error in a future version of pandas. Value '1.7572749624168806' has dtype incompatible with float32, please explicitly cast to a compatible dtype first.\n",
      "  metadata_df.loc[undefined_indx, 'minimum'] = amount - lower_scaling_fac * abs(amount)\n"
     ]
    },
    {
     "data": {
      "image/png": "[encoded data removed]",
      "text/plain": [
       "<Figure size 640x480 with 1 Axes>"
      ]
     },
     "metadata": {},
     "output_type": "display_data"
    }
   ],
   "source": [
    "if_bg_triangular_strategy = pulpostats.TriangularBoundInterpolationStrategy(\n",
    "    metadata_df=bg_inventory_metadata_df,\n",
    "    defined_uncertainty_metadata=bg_inventory_defined,\n",
    "    undefined_uncertainty_indices= bg_inventory_undefined,\n",
    "    noise_interval={'min':.1, 'max':.1}\n",
    "    )"
   ]
  },
  {
   "cell_type": "markdown",
   "id": "bcf913f8",
   "metadata": {},
   "source": [
    "Apply the Uniform strategy for the uncertainty parameters in the foreground database"
   ]
  },
  {
   "cell_type": "code",
   "execution_count": 109,
   "id": "29ae9328",
   "metadata": {},
   "outputs": [
    {
     "name": "stderr",
     "output_type": "stream",
     "text": [
      "/Users/hausslingbhl/Library/CloudStorage/OneDrive-UniversiteitLeiden/13_Code/03_Chapter_3/pulpo_flechtenberg/pulpo/develop_tests/stats.py:945: FutureWarning: Setting an item of incompatible dtype is deprecated and will raise an error in a future version of pandas. Value '3.6514854571345037' has dtype incompatible with float32, please explicitly cast to a compatible dtype first.\n",
      "  metadata_df.loc[undefined_indx, 'minimum'] = amount - lower_scaling_factor * abs(amount)\n",
      "/Users/hausslingbhl/Library/CloudStorage/OneDrive-UniversiteitLeiden/13_Code/03_Chapter_3/pulpo_flechtenberg/pulpo/develop_tests/stats.py:946: FutureWarning: Setting an item of incompatible dtype is deprecated and will raise an error in a future version of pandas. Value '1.237624631213885' has dtype incompatible with float32, please explicitly cast to a compatible dtype first.\n",
      "  elif amount < 0:\n"
     ]
    }
   ],
   "source": [
    "if_fg_uniform_strategy = pulpostats.UniformBaseStrategy(\n",
    "    metadata_df=fg_inventory_metadata_df,\n",
    "    defined_uncertainty_metadata=fg_inventory_defined,\n",
    "    undefined_uncertainty_indices=fg_inventory_undefined,\n",
    "    upper_scaling_factor = .5,\n",
    "    lower_scaling_factor = .5,\n",
    "    noise_interval={'min':.2, 'max':.2}\n",
    ")"
   ]
  },
  {
   "cell_type": "markdown",
   "id": "dcce4ddd",
   "metadata": {},
   "source": [
    "### 3.2. Characterization factors"
   ]
  },
  {
   "cell_type": "markdown",
   "id": "e2d6a1ee",
   "metadata": {},
   "source": [
    "Extract the metadata containing the uncertainty information to the filtered characterization factors and seperate the metadata into the parameters with and without defined uncertainty information"
   ]
  },
  {
   "cell_type": "code",
   "execution_count": 96,
   "id": "ef29bd76",
   "metadata": {},
   "outputs": [
    {
     "name": "stdout",
     "output_type": "stream",
     "text": [
      "Parameters with uncertainty information: 0 \n",
      "Parameters without uncertainty information: 27\n"
     ]
    }
   ],
   "source": [
    "characterization_metadata_df = uncertainty_importer.get_cf_meta(\n",
    "    characterization_indices=filtered_characterization_indcs,\n",
    "    method=case_study.method\n",
    "    )\n",
    "cf_defined,  cf_undefined = uncertainty_importer.separate(characterization_metadata_df)"
   ]
  },
  {
   "cell_type": "markdown",
   "id": "7ff51723",
   "metadata": {},
   "source": [
    "Apply the triangular strategy using predefined scaling factors to the missing uncertainty parameters"
   ]
  },
  {
   "cell_type": "code",
   "execution_count": 97,
   "id": "08d05694",
   "metadata": {},
   "outputs": [
    {
     "name": "stdout",
     "output_type": "stream",
     "text": [
      "uncertain parameters with negative median value:\n",
      "      flow  geo         col  uncertainty_type  amount  loc  scale  shape  \\\n",
      "row                                                                        \n",
      "81     108    1  4294967295                 5    -1.0 -1.0    NaN    NaN   \n",
      "2129  3721    1  4294967295                 5    -1.0 -1.0    NaN    NaN   \n",
      "\n",
      "       minimum   maximum  negative  \n",
      "row                                 \n",
      "81   -1.156698 -0.843302      True  \n",
      "2129 -1.152857 -0.847143      True  \n"
     ]
    },
    {
     "name": "stderr",
     "output_type": "stream",
     "text": [
      "/Users/hausslingbhl/Library/CloudStorage/OneDrive-UniversiteitLeiden/13_Code/03_Chapter_3/pulpo_flechtenberg/pulpo/develop_tests/stats.py:1040: FutureWarning: Setting an item of incompatible dtype is deprecated and will raise an error in a future version of pandas. Value '1.1490582881843858' has dtype incompatible with float32, please explicitly cast to a compatible dtype first.\n",
      "  metadata_df.loc[undefined_indx, 'maximum'] = amount + upper_scaling_fac * abs(amount)\n",
      "/Users/hausslingbhl/Library/CloudStorage/OneDrive-UniversiteitLeiden/13_Code/03_Chapter_3/pulpo_flechtenberg/pulpo/develop_tests/stats.py:1041: FutureWarning: Setting an item of incompatible dtype is deprecated and will raise an error in a future version of pandas. Value '0.8509417118156142' has dtype incompatible with float32, please explicitly cast to a compatible dtype first.\n",
      "  metadata_df.loc[undefined_indx, 'minimum'] = amount - lower_scaling_fac * abs(amount)\n"
     ]
    }
   ],
   "source": [
    "upper_scaling_factor_cf = 0.15\n",
    "lower_scaling_factor_cf = 0.15\n",
    "cf_triangular_strategy = pulpostats.TriangluarBaseStrategy(\n",
    "    metadata_df=characterization_metadata_df,\n",
    "    defined_uncertainty_metadata=cf_defined,\n",
    "    undefined_uncertainty_indices=cf_undefined,\n",
    "    upper_scaling_factor = upper_scaling_factor_cf,\n",
    "    lower_scaling_factor = lower_scaling_factor_cf,\n",
    "    noise_interval={'min':.1, 'max':.1}\n",
    ")"
   ]
  },
  {
   "cell_type": "markdown",
   "id": "52cae496",
   "metadata": {},
   "source": [
    "## 4. Define the global sensitivity problem\n",
    "### 4.1. Define the bound/interval of the parameters"
   ]
  },
  {
   "cell_type": "markdown",
   "id": "6b9420e6",
   "metadata": {},
   "source": [
    "Check if all parameters have gotten uncertainty information asigned"
   ]
  },
  {
   "cell_type": "code",
   "execution_count": 112,
   "id": "43dadc9c",
   "metadata": {},
   "outputs": [],
   "source": [
    "unc_metadata = {\n",
    "    'cf': cf_triangular_strategy.metadata_assigned_df,\n",
    "    'if': pd.concat([if_fg_uniform_strategy.metadata_assigned_df, if_bg_triangular_strategy.metadata_assigned_df])\n",
    "}"
   ]
  },
  {
   "cell_type": "code",
   "execution_count": 117,
   "id": "4328e3d1",
   "metadata": {},
   "outputs": [
    {
     "name": "stdout",
     "output_type": "stream",
     "text": [
      "problem includes:\n",
      "982 uncertain intervention flows\n",
      "27 uncertain characterization factors\n"
     ]
    }
   ],
   "source": [
    "from SALib.sample import sobol as sample_method\n",
    "from SALib.analyze import sobol as SA_method\n",
    "N = 2**3\n",
    "\n",
    "gsa = pulpostats.GlobalSensitivityAnalysis(\n",
    "    result_data=result_data,\n",
    "    lci_data=case_study.pulpo_worker.lci_data,\n",
    "    unc_metadata=unc_metadata,\n",
    "    sampler=sample_method,\n",
    "    analyser=SA_method,\n",
    "    sample_size=N,\n",
    "    method=case_study.method\n",
    ")\n",
    "gsa_problem, all_bounds_indx_dict = gsa.define_problem()"
   ]
  },
  {
   "cell_type": "code",
   "execution_count": 127,
   "id": "504cc969",
   "metadata": {},
   "outputs": [],
   "source": [
    "sample_data_if, sample_data_cf = gsa.sample(gsa_problem, all_bounds_indx_dict)"
   ]
  },
  {
   "cell_type": "code",
   "execution_count": 128,
   "id": "616dca5d",
   "metadata": {},
   "outputs": [
    {
     "name": "stdout",
     "output_type": "stream",
     "text": [
      "The statistics of the the sample impacts: ('IPCC 2021', 'climate change', 'GWP 100a, incl. H and bio CO2')\n",
      "count    1.616000e+04\n",
      "mean     4.468596e+09\n",
      "std      4.682165e+08\n",
      "min      3.155210e+09\n",
      "25%      4.144136e+09\n",
      "50%      4.594008e+09\n",
      "75%      4.815563e+09\n",
      "max      5.304025e+09\n",
      "dtype: float64\n",
      "The deterministic impact is 1.0 : 3.854302e+09\n",
      "(16160,)\n",
      "the z-value of the total impact: 0.10477934386858004\n"
     ]
    },
    {
     "data": {
      "image/png": "[encoded data removed]",
      "text/plain": [
       "<Figure size 640x480 with 1 Axes>"
      ]
     },
     "metadata": {},
     "output_type": "display_data"
    }
   ],
   "source": [
    "sample_impacts, sample_characterized_inventories = gsa.run_model(sample_data_if, sample_data_cf)"
   ]
  },
  {
   "cell_type": "code",
   "execution_count": null,
   "id": "39952384",
   "metadata": {},
   "outputs": [
    {
     "name": "stderr",
     "output_type": "stream",
     "text": [
      "/Users/hausslingbhl/miniconda3/envs/pulpo_dev/lib/python3.10/site-packages/SALib/util/__init__.py:274: FutureWarning: unique with argument that is not not a Series, Index, ExtensionArray, or np.ndarray is deprecated and will raise in a future version.\n",
      "  names = list(pd.unique(groups))\n"
     ]
    }
   ],
   "source": [
    "total_Si = gsa.analyze(gsa_problem, sample_impacts)"
   ]
  },
  {
   "cell_type": "code",
   "execution_count": null,
   "id": "af0813b5",
   "metadata": {},
   "outputs": [],
   "source": [
    "total_Si_metadata = gsa.generate_Si_metadata(all_bounds_indx_dict, total_Si)\n",
    "colormap_base, colormap_SA_barplot = gsa.plot_top_total_sensitivity_indices(total_Si, total_Si_metadata)"
   ]
  },
  {
   "cell_type": "code",
   "execution_count": null,
   "id": "160df0cc",
   "metadata": {},
   "outputs": [],
   "source": [
    "data_plot = gsa.plot_total_env_impact_contribution(\n",
    "    sample_characterized_inventories, \n",
    "    total_Si_metadata, \n",
    "    colormap_base=colormap_base, \n",
    "    colormap_SA_barplot=colormap_SA_barplot,\n",
    "    )"
   ]
  },
  {
   "cell_type": "markdown",
   "id": "5c5c7722",
   "metadata": {},
   "source": [
    "## 5. CC formulation"
   ]
  },
  {
   "cell_type": "markdown",
   "id": "2bb9aa3e",
   "metadata": {},
   "source": [
    "Formulate the chance constrain optimization problem. \n",
    "\n",
    "In the future multiple formulations might be possible, represented by different `CCFormulation` classes"
   ]
  },
  {
   "cell_type": "code",
   "execution_count": null,
   "id": "b5b10c8a",
   "metadata": {},
   "outputs": [],
   "source": [
    "cc_formulation = pulpostats.CCFormulationObjIndividualNormalL1(\n",
    "    unc_metadata=unc_metadata,\n",
    "    pulpo_worker=case_study.pulpo_worker,\n",
    "    method=case_study.method,\n",
    "    choices=case_study.choices,\n",
    "    demand=case_study.demand\n",
    ")"
   ]
  },
  {
   "cell_type": "markdown",
   "id": "8718e634",
   "metadata": {},
   "source": [
    "Initiate epsilon solver for the Pareto Problem"
   ]
  },
  {
   "cell_type": "code",
   "execution_count": null,
   "id": "c9c27aed",
   "metadata": {},
   "outputs": [],
   "source": [
    "epsilon_pareto_solver = pulpostats.EpsilonConstraintSolver(cc_formulation)"
   ]
  },
  {
   "cell_type": "markdown",
   "id": "e171250b",
   "metadata": {},
   "source": [
    "Solve single Pareto point"
   ]
  },
  {
   "cell_type": "code",
   "execution_count": null,
   "id": "1b1dc82c",
   "metadata": {},
   "outputs": [],
   "source": [
    "CC_solution = epsilon_pareto_solver.solve_single_pareto_point(lambda_level=.5)\n",
    "CC_solution"
   ]
  },
  {
   "cell_type": "markdown",
   "id": "a95aeb2c",
   "metadata": {},
   "source": [
    "Solve for an array of lambda epsilon constraints"
   ]
  },
  {
   "cell_type": "code",
   "execution_count": null,
   "id": "ca59d9d9",
   "metadata": {},
   "outputs": [],
   "source": [
    "lambda_epsilon_array = np.linspace(0.5,1, 5, endpoint=False)\n",
    "CC_solutions = epsilon_pareto_solver.solve(lambda_epsilon_array)"
   ]
  },
  {
   "cell_type": "markdown",
   "id": "df4e6a15",
   "metadata": {},
   "source": [
    "Plot Pareto front"
   ]
  },
  {
   "cell_type": "code",
   "execution_count": null,
   "id": "068dddad",
   "metadata": {},
   "outputs": [],
   "source": [
    "epsilon_pareto_solver.plot_pareto_front(CC_solutions, 0.03)"
   ]
  },
  {
   "cell_type": "markdown",
   "id": "48e81b44",
   "metadata": {},
   "source": [
    "Compare the Pareto points"
   ]
  },
  {
   "cell_type": "code",
   "execution_count": null,
   "id": "1e2b8f5f",
   "metadata": {},
   "outputs": [],
   "source": [
    "epsilon_pareto_solver.compare_subsequent_paretosolutions(CC_solutions)"
   ]
  },
  {
   "cell_type": "code",
   "execution_count": null,
   "id": "359c5e2f",
   "metadata": {},
   "outputs": [],
   "source": []
  }
 ],
 "metadata": {
  "kernelspec": {
   "display_name": "pulpo_dev",
   "language": "python",
   "name": "python3"
  },
  "language_info": {
   "codemirror_mode": {
    "name": "ipython",
    "version": 3
   },
   "file_extension": ".py",
   "mimetype": "text/x-python",
   "name": "python",
   "nbconvert_exporter": "python",
   "pygments_lexer": "ipython3",
   "version": "3.10.0"
  }
 },
 "nbformat": 4,
 "nbformat_minor": 5
}
