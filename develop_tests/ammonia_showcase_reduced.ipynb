{
 "cells": [
  {
   "cell_type": "code",
   "execution_count": 1,
   "metadata": {},
   "outputs": [],
   "source": [
    "import os\n",
    "import sys\n",
    "sys.path.append('../')\n",
    "from pulpo import pulpo\n",
    "\n",
    "import pandas as pd\n",
    "pd.set_option('display.max_colwidth', None)"
   ]
  },
  {
   "cell_type": "markdown",
   "metadata": {},
   "source": [
    "### Setup the Worker"
   ]
  },
  {
   "cell_type": "code",
   "execution_count": 2,
   "metadata": {},
   "outputs": [],
   "source": [
    "project = \"ammonia-inventories-310\"\n",
    "databases = [\"ammonia-reduced\", \"ecoinvent-3.10-cutoff\"]\n",
    "methods = \"('IPCC 2021', 'climate change', 'GWP 100a, incl. H and bio CO2')\""
   ]
  },
  {
   "cell_type": "code",
   "execution_count": 3,
   "metadata": {},
   "outputs": [],
   "source": [
    "# Substitute with your working directory of choice\n",
    "notebook_dir = os.path.dirname(os.getcwd())\n",
    "directory = os.path.join(notebook_dir, 'data')\n",
    "\n",
    "# Substitute with your GAMS path\n",
    "GAMS_PATH = r\"C:\\APPS\\GAMS\\win64\\40.1\\gams.exe\""
   ]
  },
  {
   "cell_type": "code",
   "execution_count": 4,
   "metadata": {},
   "outputs": [],
   "source": [
    "pulpo_worker = pulpo.PulpoOptimizer(project, databases, methods, directory)\n",
    "pulpo_worker.intervention_matrix=\"ecoinvent-3.10-biosphere\""
   ]
  },
  {
   "cell_type": "code",
   "execution_count": 5,
   "metadata": {},
   "outputs": [],
   "source": [
    "pulpo_worker.get_lci_data()"
   ]
  },
  {
   "cell_type": "markdown",
   "metadata": {},
   "source": [
    "### Get the Choices"
   ]
  },
  {
   "cell_type": "code",
   "execution_count": 6,
   "metadata": {},
   "outputs": [],
   "source": [
    "choices_biomethane = [\n",
    "    \"biogas upgrading to biomethane, chemical scrubbing\",\n",
    "    \"biogas upgrading to biomethane, chemical scrubbing w/ CCS\",\n",
    "    \"biogas upgrading to biomethane, water scrubbing\",\n",
    "    \"biogas upgrading to biomethane, water scrubbing w/ CCS\"\n",
    "]\n",
    "\n",
    "choices_methane_market = [\n",
    "    \"market for methane\",\n",
    "    \"market group for natural gas, high pressure\"\n",
    "]\n",
    "\n",
    "choices_hydrogen = [\n",
    "    \"hydrogen production, steam methane reforming fg\",\n",
    "    \"hydrogen production, steam methane reforming, w/ CCS\",\n",
    "    \"hydrogen production, PEM electrolysis, yellow\",\n",
    "    \"hydrogen production, plastics gasification\",\n",
    "    \"hydrogen production, plastics gasification, w/ CCS\"\n",
    "]\n",
    "\n",
    "choices_hydrogen_market = [\n",
    "    \"market for hydrogen\",\n",
    "    \"market for hydrogen, gaseous, low pressure\"\n",
    "]\n",
    "\n",
    "choices_heat = [\n",
    "    \"heat from hydrogen\",\n",
    "    \"heat from methane, w/ CCS\",\n",
    "    \"heat from methane\",\n",
    "]\n",
    "\n",
    "choices_ammonia = [\n",
    "    \"ammonia production, steam methane reforming\",\n",
    "    \"ammonia production, steam methane reforming, w/ CCS\",\n",
    "    \"ammonia production, from nitrogen and hydrogen\"\n",
    "]\n",
    "\n",
    "choices_ammonia_market = [\n",
    "    \"market for ammonia\",\n",
    "    \"market for ammonia, anhydrous, liquid\"\n",
    "]\n",
    "\n"
   ]
  },
  {
   "cell_type": "code",
   "execution_count": 7,
   "metadata": {},
   "outputs": [],
   "source": [
    "# Retrieve activities for each category and assign to appropriately named variables\n",
    "biomethane_activities = pulpo_worker.retrieve_activities(activities=choices_biomethane, locations=[\"RER\", \"Europe without Switzerland\"])\n",
    "methane_market_activities = pulpo_worker.retrieve_activities(activities=choices_methane_market, locations=[\"RER\", \"Europe without Switzerland\"])\n",
    "hydrogen_activities = pulpo_worker.retrieve_activities(activities=choices_hydrogen, locations=[\"RER\", \"Europe without Switzerland\"])\n",
    "hydrogen_market_activities = pulpo_worker.retrieve_activities(activities=choices_hydrogen_market, locations=[\"RER\", \"Europe without Switzerland\"])\n",
    "heat_activities = pulpo_worker.retrieve_activities(activities=choices_heat, locations=[\"RER\", \"Europe without Switzerland\"])\n",
    "ammonia_activities = pulpo_worker.retrieve_activities(activities=choices_ammonia, locations=[\"RER\", \"Europe without Switzerland\"])\n",
    "ammonia_market_activities = pulpo_worker.retrieve_activities(activities=choices_ammonia_market, locations=[\"RER\", \"Europe without Switzerland\"])"
   ]
  },
  {
   "cell_type": "code",
   "execution_count": 8,
   "metadata": {},
   "outputs": [
    {
     "name": "stdout",
     "output_type": "stream",
     "text": [
      "Biomethane Activities: ['biogas upgrading to biomethane, water scrubbing' (cubic meter, RER, None), 'biogas upgrading to biomethane, chemical scrubbing' (cubic meter, RER, None), 'biogas upgrading to biomethane, chemical scrubbing w/ CCS' (cubic meter, RER, None), 'biogas upgrading to biomethane, water scrubbing w/ CCS' (cubic meter, RER, None)]\n",
      "Methane Market Activities: ['market for methane' (cubic meter, RER, None), 'market group for natural gas, high pressure' (cubic meter, Europe without Switzerland, None)]\n",
      "Hydrogen Activities: ['hydrogen production, PEM electrolysis, yellow' (kilogram, RER, None), 'hydrogen production, plastics gasification' (kilogram, RER, None), 'hydrogen production, plastics gasification, w/ CCS' (kilogram, RER, None), 'hydrogen production, steam methane reforming fg' (kilogram, RER, None), 'hydrogen production, steam methane reforming, w/ CCS' (kilogram, RER, None)]\n",
      "Hydrogen Market Activities: ['market for hydrogen' (kilogram, RER, None), 'market for hydrogen, gaseous, low pressure' (kilogram, RER, None)]\n",
      "Heat Activities: ['heat from methane, w/ CCS' (megajoule, RER, None), 'heat from methane' (megajoule, RER, None), 'heat from hydrogen' (megajoule, RER, None)]\n",
      "Ammonia Activities: ['ammonia production, from nitrogen and hydrogen' (kilogram, RER, None), 'ammonia production, steam methane reforming, w/ CCS' (kilogram, RER, None), 'ammonia production, steam methane reforming' (kilogram, RER, None)]\n",
      "Ammonia Market Activities: ['market for ammonia' (kilogram, RER, None), 'market for ammonia, anhydrous, liquid' (kilogram, RER, None)]\n"
     ]
    }
   ],
   "source": [
    "# Display the results\n",
    "print(\"Biomethane Activities:\", biomethane_activities)\n",
    "print(\"Methane Market Activities:\", methane_market_activities)\n",
    "print(\"Hydrogen Activities:\", hydrogen_activities)\n",
    "print(\"Hydrogen Market Activities:\", hydrogen_market_activities)\n",
    "print(\"Heat Activities:\", heat_activities)\n",
    "print(\"Ammonia Activities:\", ammonia_activities)\n",
    "print(\"Ammonia Market Activities:\", ammonia_market_activities)"
   ]
  },
  {
   "cell_type": "code",
   "execution_count": 9,
   "metadata": {},
   "outputs": [],
   "source": [
    "choices = {\n",
    "    \"hydrogen\": {x: 1e10 for x in hydrogen_activities},\n",
    "    \"heat\": {x: 1e10 for x in heat_activities},\n",
    "    \"biomethane\": {x: 1e10 for x in biomethane_activities},\n",
    "    \"ammonia\": {x: 1e10 for x in ammonia_activities},\n",
    "    \"methane_market\": {x: 1e10 for x in methane_market_activities},\n",
    "    \"hydrogen_market\": {x: 1e10 for x in hydrogen_market_activities},\n",
    "    \"ammonia_market\": {x: 1e10 for x in ammonia_market_activities},\n",
    "}\n"
   ]
  },
  {
   "cell_type": "markdown",
   "metadata": {},
   "source": [
    "### Demand"
   ]
  },
  {
   "cell_type": "code",
   "execution_count": 10,
   "metadata": {},
   "outputs": [],
   "source": [
    "ammonia_market = pulpo_worker.retrieve_activities(activities=\"market for ammonia\")"
   ]
  },
  {
   "cell_type": "code",
   "execution_count": 13,
   "metadata": {},
   "outputs": [],
   "source": [
    "demand = {\"ammonia_market\": 1}"
   ]
  },
  {
   "cell_type": "markdown",
   "metadata": {},
   "source": [
    "### Instantiate and Solve"
   ]
  },
  {
   "cell_type": "code",
   "execution_count": 14,
   "metadata": {},
   "outputs": [
    {
     "name": "stdout",
     "output_type": "stream",
     "text": [
      "Creating Instance\n",
      "Instance created\n"
     ]
    }
   ],
   "source": [
    "instance = pulpo_worker.instantiate(choices=choices, demand=demand)"
   ]
  },
  {
   "cell_type": "code",
   "execution_count": 15,
   "metadata": {},
   "outputs": [
    {
     "name": "stdout",
     "output_type": "stream",
     "text": [
      "GAMS solvers library availability: True\n",
      "Solver path: C:\\APPS\\GAMS\\win64\\40.1\\gams.exe\n",
      "\n",
      "GAMS WORKING DIRECTORY: C:\\Users\\FLECHT~1\\AppData\\Local\\Temp\\tmp68ckiw6f\n",
      "\n"
     ]
    }
   ],
   "source": [
    "results = pulpo_worker.solve(GAMS_PATH=GAMS_PATH)"
   ]
  },
  {
   "cell_type": "code",
   "execution_count": 17,
   "metadata": {},
   "outputs": [],
   "source": [
    "pulpo_worker.save_results(choices=choices, demand=demand, name='reduced_ammonia_showcase.xlsx')"
   ]
  },
  {
   "cell_type": "code",
   "execution_count": 16,
   "metadata": {},
   "outputs": [
    {
     "name": "stdout",
     "output_type": "stream",
     "text": [
      "\n",
      "The following demand / functional unit has been specified:\n"
     ]
    },
    {
     "data": {
      "text/html": [
       "<div>\n",
       "<style scoped>\n",
       "    .dataframe tbody tr th:only-of-type {\n",
       "        vertical-align: middle;\n",
       "    }\n",
       "\n",
       "    .dataframe tbody tr th {\n",
       "        vertical-align: top;\n",
       "    }\n",
       "\n",
       "    .dataframe thead th {\n",
       "        text-align: right;\n",
       "    }\n",
       "</style>\n",
       "<table border=\"1\" class=\"dataframe\">\n",
       "  <thead>\n",
       "    <tr style=\"text-align: right;\">\n",
       "      <th></th>\n",
       "      <th>demand</th>\n",
       "    </tr>\n",
       "  </thead>\n",
       "  <tbody>\n",
       "    <tr>\n",
       "      <th>ammonia_market</th>\n",
       "      <td>1</td>\n",
       "    </tr>\n",
       "  </tbody>\n",
       "</table>\n",
       "</div>"
      ],
      "text/plain": [
       "                demand\n",
       "ammonia_market       1"
      ]
     },
     "metadata": {},
     "output_type": "display_data"
    },
    {
     "name": "stdout",
     "output_type": "stream",
     "text": [
      "No additional constraints have been passed.\n",
      "\n",
      "Impacts contained in the objective:\n"
     ]
    },
    {
     "data": {
      "text/html": [
       "<div>\n",
       "<style scoped>\n",
       "    .dataframe tbody tr th:only-of-type {\n",
       "        vertical-align: middle;\n",
       "    }\n",
       "\n",
       "    .dataframe tbody tr th {\n",
       "        vertical-align: top;\n",
       "    }\n",
       "\n",
       "    .dataframe thead th {\n",
       "        text-align: right;\n",
       "    }\n",
       "</style>\n",
       "<table border=\"1\" class=\"dataframe\">\n",
       "  <thead>\n",
       "    <tr style=\"text-align: right;\">\n",
       "      <th></th>\n",
       "      <th>Key</th>\n",
       "      <th>Value</th>\n",
       "    </tr>\n",
       "  </thead>\n",
       "  <tbody>\n",
       "    <tr>\n",
       "      <th>0</th>\n",
       "      <td>('IPCC 2021', 'climate change', 'GWP 100a, incl. H and bio CO2')</td>\n",
       "      <td>-1.739579</td>\n",
       "    </tr>\n",
       "  </tbody>\n",
       "</table>\n",
       "</div>"
      ],
      "text/plain": [
       "                                                                Key     Value\n",
       "0  ('IPCC 2021', 'climate change', 'GWP 100a, incl. H and bio CO2') -1.739579"
      ]
     },
     "metadata": {},
     "output_type": "display_data"
    },
    {
     "name": "stdout",
     "output_type": "stream",
     "text": [
      "\n",
      "The following choices were made:\n"
     ]
    },
    {
     "data": {
      "text/html": [
       "<div>\n",
       "<style scoped>\n",
       "    .dataframe tbody tr th:only-of-type {\n",
       "        vertical-align: middle;\n",
       "    }\n",
       "\n",
       "    .dataframe tbody tr th {\n",
       "        vertical-align: top;\n",
       "    }\n",
       "\n",
       "    .dataframe thead tr th {\n",
       "        text-align: left;\n",
       "    }\n",
       "</style>\n",
       "<table border=\"1\" class=\"dataframe\">\n",
       "  <thead>\n",
       "    <tr>\n",
       "      <th></th>\n",
       "      <th colspan=\"3\" halign=\"left\">hydrogen</th>\n",
       "      <th colspan=\"3\" halign=\"left\">heat</th>\n",
       "      <th colspan=\"3\" halign=\"left\">biomethane</th>\n",
       "      <th colspan=\"3\" halign=\"left\">ammonia</th>\n",
       "      <th colspan=\"3\" halign=\"left\">methane_market</th>\n",
       "      <th colspan=\"3\" halign=\"left\">hydrogen_market</th>\n",
       "      <th colspan=\"3\" halign=\"left\">ammonia_market</th>\n",
       "    </tr>\n",
       "    <tr>\n",
       "      <th></th>\n",
       "      <th>Process</th>\n",
       "      <th>Capacity</th>\n",
       "      <th>Value</th>\n",
       "      <th>Process</th>\n",
       "      <th>Capacity</th>\n",
       "      <th>Value</th>\n",
       "      <th>Process</th>\n",
       "      <th>Capacity</th>\n",
       "      <th>Value</th>\n",
       "      <th>Process</th>\n",
       "      <th>...</th>\n",
       "      <th>Value</th>\n",
       "      <th>Process</th>\n",
       "      <th>Capacity</th>\n",
       "      <th>Value</th>\n",
       "      <th>Process</th>\n",
       "      <th>Capacity</th>\n",
       "      <th>Value</th>\n",
       "      <th>Process</th>\n",
       "      <th>Capacity</th>\n",
       "      <th>Value</th>\n",
       "    </tr>\n",
       "  </thead>\n",
       "  <tbody>\n",
       "    <tr>\n",
       "      <th>Process 0</th>\n",
       "      <td>hydrogen production, PEM electrolysis, yellow | hydrogen production, PEM electrolysis, green | RER</td>\n",
       "      <td>1.000000e+10</td>\n",
       "      <td>0.000000</td>\n",
       "      <td>heat from methane, w/ CCS | heat from biomethane, with CCS | RER</td>\n",
       "      <td>1.000000e+10</td>\n",
       "      <td>0.00000</td>\n",
       "      <td>biogas upgrading to biomethane, water scrubbing | biomethane, 24 bar | RER</td>\n",
       "      <td>1.000000e+10</td>\n",
       "      <td>0.000000</td>\n",
       "      <td>ammonia production, from nitrogen and hydrogen | ammonia production, from nitrogen and hydrogen | RER</td>\n",
       "      <td>...</td>\n",
       "      <td>0.000000</td>\n",
       "      <td>market for methane | methane | RER</td>\n",
       "      <td>1.000000e+10</td>\n",
       "      <td>1.157785</td>\n",
       "      <td>market for hydrogen | hydrogen | RER</td>\n",
       "      <td>1.000000e+10</td>\n",
       "      <td>0.122404</td>\n",
       "      <td>market for ammonia | ammonia | RER</td>\n",
       "      <td>1.000000e+10</td>\n",
       "      <td>1.000141</td>\n",
       "    </tr>\n",
       "    <tr>\n",
       "      <th>Process 1</th>\n",
       "      <td>hydrogen production, plastics gasification | hydrogen production, plastics gasification | RER</td>\n",
       "      <td>1.000000e+10</td>\n",
       "      <td>0.000000</td>\n",
       "      <td>heat from methane | heat from methane | RER</td>\n",
       "      <td>1.000000e+10</td>\n",
       "      <td>0.00000</td>\n",
       "      <td>biogas upgrading to biomethane, chemical scrubbing | biomethane, 24 bar | RER</td>\n",
       "      <td>1.000000e+10</td>\n",
       "      <td>0.000000</td>\n",
       "      <td>ammonia production, steam methane reforming, w/ CCS | ammonia production, biomethane, with CCS | RER</td>\n",
       "      <td>...</td>\n",
       "      <td>1.000141</td>\n",
       "      <td>market group for natural gas, high pressure | natural gas, high pressure | Europe without Switzerland</td>\n",
       "      <td>1.000000e+10</td>\n",
       "      <td>0.000000</td>\n",
       "      <td>market for hydrogen, gaseous, low pressure | hydrogen, gaseous, low pressure | RER</td>\n",
       "      <td>1.000000e+10</td>\n",
       "      <td>0.000000</td>\n",
       "      <td>market for ammonia, anhydrous, liquid | ammonia, anhydrous, liquid | RER</td>\n",
       "      <td>1.000000e+10</td>\n",
       "      <td>0.000000</td>\n",
       "    </tr>\n",
       "    <tr>\n",
       "      <th>Process 2</th>\n",
       "      <td>hydrogen production, plastics gasification, w/ CCS | hydrogen production, plastics gasification, with CCS | RER</td>\n",
       "      <td>1.000000e+10</td>\n",
       "      <td>0.000000</td>\n",
       "      <td>heat from hydrogen | heat from hydrogen | RER</td>\n",
       "      <td>1.000000e+10</td>\n",
       "      <td>13.95406</td>\n",
       "      <td>biogas upgrading to biomethane, chemical scrubbing w/ CCS | biomethane, 24 bar | RER</td>\n",
       "      <td>1.000000e+10</td>\n",
       "      <td>1.157785</td>\n",
       "      <td>ammonia production, steam methane reforming | ammonia production, biomethane | RER</td>\n",
       "      <td>...</td>\n",
       "      <td>0.000000</td>\n",
       "      <td>NaN</td>\n",
       "      <td>NaN</td>\n",
       "      <td>NaN</td>\n",
       "      <td>NaN</td>\n",
       "      <td>NaN</td>\n",
       "      <td>NaN</td>\n",
       "      <td>NaN</td>\n",
       "      <td>NaN</td>\n",
       "      <td>NaN</td>\n",
       "    </tr>\n",
       "    <tr>\n",
       "      <th>Process 3</th>\n",
       "      <td>hydrogen production, steam methane reforming fg | hydrogen production, biomethane | RER</td>\n",
       "      <td>1.000000e+10</td>\n",
       "      <td>0.000000</td>\n",
       "      <td>NaN</td>\n",
       "      <td>NaN</td>\n",
       "      <td>NaN</td>\n",
       "      <td>biogas upgrading to biomethane, water scrubbing w/ CCS | biomethane, 24 bar | RER</td>\n",
       "      <td>1.000000e+10</td>\n",
       "      <td>0.000000</td>\n",
       "      <td>NaN</td>\n",
       "      <td>...</td>\n",
       "      <td>NaN</td>\n",
       "      <td>NaN</td>\n",
       "      <td>NaN</td>\n",
       "      <td>NaN</td>\n",
       "      <td>NaN</td>\n",
       "      <td>NaN</td>\n",
       "      <td>NaN</td>\n",
       "      <td>NaN</td>\n",
       "      <td>NaN</td>\n",
       "      <td>NaN</td>\n",
       "    </tr>\n",
       "    <tr>\n",
       "      <th>Process 4</th>\n",
       "      <td>hydrogen production, steam methane reforming, w/ CCS | hydrogen production, biomethane, with CCS | RER</td>\n",
       "      <td>1.000000e+10</td>\n",
       "      <td>0.122404</td>\n",
       "      <td>NaN</td>\n",
       "      <td>NaN</td>\n",
       "      <td>NaN</td>\n",
       "      <td>NaN</td>\n",
       "      <td>NaN</td>\n",
       "      <td>NaN</td>\n",
       "      <td>NaN</td>\n",
       "      <td>...</td>\n",
       "      <td>NaN</td>\n",
       "      <td>NaN</td>\n",
       "      <td>NaN</td>\n",
       "      <td>NaN</td>\n",
       "      <td>NaN</td>\n",
       "      <td>NaN</td>\n",
       "      <td>NaN</td>\n",
       "      <td>NaN</td>\n",
       "      <td>NaN</td>\n",
       "      <td>NaN</td>\n",
       "    </tr>\n",
       "  </tbody>\n",
       "</table>\n",
       "<p>5 rows × 21 columns</p>\n",
       "</div>"
      ],
      "text/plain": [
       "                                                                                                                  hydrogen  \\\n",
       "                                                                                                                   Process   \n",
       "Process 0               hydrogen production, PEM electrolysis, yellow | hydrogen production, PEM electrolysis, green | RER   \n",
       "Process 1                    hydrogen production, plastics gasification | hydrogen production, plastics gasification | RER   \n",
       "Process 2  hydrogen production, plastics gasification, w/ CCS | hydrogen production, plastics gasification, with CCS | RER   \n",
       "Process 3                          hydrogen production, steam methane reforming fg | hydrogen production, biomethane | RER   \n",
       "Process 4           hydrogen production, steam methane reforming, w/ CCS | hydrogen production, biomethane, with CCS | RER   \n",
       "\n",
       "                                   \\\n",
       "               Capacity     Value   \n",
       "Process 0  1.000000e+10  0.000000   \n",
       "Process 1  1.000000e+10  0.000000   \n",
       "Process 2  1.000000e+10  0.000000   \n",
       "Process 3  1.000000e+10  0.000000   \n",
       "Process 4  1.000000e+10  0.122404   \n",
       "\n",
       "                                                                       heat  \\\n",
       "                                                                    Process   \n",
       "Process 0  heat from methane, w/ CCS | heat from biomethane, with CCS | RER   \n",
       "Process 1                       heat from methane | heat from methane | RER   \n",
       "Process 2                     heat from hydrogen | heat from hydrogen | RER   \n",
       "Process 3                                                               NaN   \n",
       "Process 4                                                               NaN   \n",
       "\n",
       "                                   \\\n",
       "               Capacity     Value   \n",
       "Process 0  1.000000e+10   0.00000   \n",
       "Process 1  1.000000e+10   0.00000   \n",
       "Process 2  1.000000e+10  13.95406   \n",
       "Process 3           NaN       NaN   \n",
       "Process 4           NaN       NaN   \n",
       "\n",
       "                                                                                     biomethane  \\\n",
       "                                                                                        Process   \n",
       "Process 0            biogas upgrading to biomethane, water scrubbing | biomethane, 24 bar | RER   \n",
       "Process 1         biogas upgrading to biomethane, chemical scrubbing | biomethane, 24 bar | RER   \n",
       "Process 2  biogas upgrading to biomethane, chemical scrubbing w/ CCS | biomethane, 24 bar | RER   \n",
       "Process 3     biogas upgrading to biomethane, water scrubbing w/ CCS | biomethane, 24 bar | RER   \n",
       "Process 4                                                                                   NaN   \n",
       "\n",
       "                                   \\\n",
       "               Capacity     Value   \n",
       "Process 0  1.000000e+10  0.000000   \n",
       "Process 1  1.000000e+10  0.000000   \n",
       "Process 2  1.000000e+10  1.157785   \n",
       "Process 3  1.000000e+10  0.000000   \n",
       "Process 4           NaN       NaN   \n",
       "\n",
       "                                                                                                         ammonia  \\\n",
       "                                                                                                         Process   \n",
       "Process 0  ammonia production, from nitrogen and hydrogen | ammonia production, from nitrogen and hydrogen | RER   \n",
       "Process 1   ammonia production, steam methane reforming, w/ CCS | ammonia production, biomethane, with CCS | RER   \n",
       "Process 2                     ammonia production, steam methane reforming | ammonia production, biomethane | RER   \n",
       "Process 3                                                                                                    NaN   \n",
       "Process 4                                                                                                    NaN   \n",
       "\n",
       "           ...            \\\n",
       "           ...     Value   \n",
       "Process 0  ...  0.000000   \n",
       "Process 1  ...  1.000141   \n",
       "Process 2  ...  0.000000   \n",
       "Process 3  ...       NaN   \n",
       "Process 4  ...       NaN   \n",
       "\n",
       "                                                                                                  methane_market  \\\n",
       "                                                                                                         Process   \n",
       "Process 0                                                                     market for methane | methane | RER   \n",
       "Process 1  market group for natural gas, high pressure | natural gas, high pressure | Europe without Switzerland   \n",
       "Process 2                                                                                                    NaN   \n",
       "Process 3                                                                                                    NaN   \n",
       "Process 4                                                                                                    NaN   \n",
       "\n",
       "                                   \\\n",
       "               Capacity     Value   \n",
       "Process 0  1.000000e+10  1.157785   \n",
       "Process 1  1.000000e+10  0.000000   \n",
       "Process 2           NaN       NaN   \n",
       "Process 3           NaN       NaN   \n",
       "Process 4           NaN       NaN   \n",
       "\n",
       "                                                                              hydrogen_market  \\\n",
       "                                                                                      Process   \n",
       "Process 0                                                market for hydrogen | hydrogen | RER   \n",
       "Process 1  market for hydrogen, gaseous, low pressure | hydrogen, gaseous, low pressure | RER   \n",
       "Process 2                                                                                 NaN   \n",
       "Process 3                                                                                 NaN   \n",
       "Process 4                                                                                 NaN   \n",
       "\n",
       "                                   \\\n",
       "               Capacity     Value   \n",
       "Process 0  1.000000e+10  0.122404   \n",
       "Process 1  1.000000e+10  0.000000   \n",
       "Process 2           NaN       NaN   \n",
       "Process 3           NaN       NaN   \n",
       "Process 4           NaN       NaN   \n",
       "\n",
       "                                                                     ammonia_market  \\\n",
       "                                                                            Process   \n",
       "Process 0                                        market for ammonia | ammonia | RER   \n",
       "Process 1  market for ammonia, anhydrous, liquid | ammonia, anhydrous, liquid | RER   \n",
       "Process 2                                                                       NaN   \n",
       "Process 3                                                                       NaN   \n",
       "Process 4                                                                       NaN   \n",
       "\n",
       "                                   \n",
       "               Capacity     Value  \n",
       "Process 0  1.000000e+10  1.000141  \n",
       "Process 1  1.000000e+10  0.000000  \n",
       "Process 2           NaN       NaN  \n",
       "Process 3           NaN       NaN  \n",
       "Process 4           NaN       NaN  \n",
       "\n",
       "[5 rows x 21 columns]"
      ]
     },
     "metadata": {},
     "output_type": "display_data"
    }
   ],
   "source": [
    "pulpo_worker.summarize_results(choices=choices, demand=demand, zeroes=True)"
   ]
  },
  {
   "cell_type": "code",
   "execution_count": null,
   "metadata": {},
   "outputs": [],
   "source": []
  }
 ],
 "metadata": {
  "kernelspec": {
   "display_name": "pulpo-test",
   "language": "python",
   "name": "python3"
  },
  "language_info": {
   "codemirror_mode": {
    "name": "ipython",
    "version": 3
   },
   "file_extension": ".py",
   "mimetype": "text/x-python",
   "name": "python",
   "nbconvert_exporter": "python",
   "pygments_lexer": "ipython3",
   "version": "3.10.16"
  }
 },
 "nbformat": 4,
 "nbformat_minor": 2
}
