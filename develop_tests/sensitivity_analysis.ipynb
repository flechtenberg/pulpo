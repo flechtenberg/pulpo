{
 "cells": [
  {
   "cell_type": "markdown",
   "metadata": {},
   "source": [
    "# Global sensitivity Analysis for PULPO\n",
    "\n",
    "In this notebook we show the workflow for the global sensitivity analysis (GSA) in PULPO."
   ]
  },
  {
   "cell_type": "code",
   "execution_count": null,
   "metadata": {},
   "outputs": [],
   "source": [
    "%load_ext autoreload\n",
    "%autoreload 2\n",
    "import sys\n",
    "import pandas as pd\n",
    "import numpy as np\n",
    "import os\n",
    "import sys\n",
    "sys.path.append('../')\n",
    "from pulpo import pulpo\n",
    "import scipy.sparse as sparse\n",
    "from time import time\n",
    "import stats_arrays\n",
    "import scipy.stats"
   ]
  },
  {
   "cell_type": "code",
   "execution_count": null,
   "metadata": {},
   "outputs": [],
   "source": [
    "import pyomo.environ as pyo\n",
    "from pyomo.repn.plugins.baron_writer import *\n",
    "import pandas as pd\n",
    "from pathlib import Path\n",
    "from IPython.display import display\n",
    "def extract_results(instance, project, database, choices, constraints, demand, process_map, process_map_metadata, itervention_map, itervention_map_metadata, directory, name):\n",
    "    \"\"\"\n",
    "    Args:\n",
    "        instance: The Pyomo model instance.\n",
    "        project (str): Name of the project.\n",
    "        database (str): Name of the database.\n",
    "        choices (dict): Choices for the model.\n",
    "        constraints (dict): Constraints applied during optimization.\n",
    "        demand (dict): Demand data used in optimization.\n",
    "        process_map (dict): Mapping of process IDs to descriptions.\n",
    "        process_map_metadata (dict): Metadata to the process_map\n",
    "        itervention_map (dict): Mapping of intervention IDs to descriptions.\n",
    "        itervention_map_metadata (dict): Metadata of the itervention_map.\n",
    "        directory (str): Directory to save the results file.\n",
    "        name (str): Name of the results file.\n",
    "    \"\"\"\n",
    "    # Recover dictionary values\n",
    "    # list_of_vars = []\n",
    "    # for v in instance.component_objects(ctype=pyo.Var, active=True, descend_into=True):\n",
    "    #     for e in v._data:\n",
    "    #         v._data[e] = value(v[e])\n",
    "    #     list_of_vars.append(v)\n",
    "\n",
    "    result_data = {}\n",
    "    # inverse_process_map = pd.DataFrame(dict((v, k) for k, v in process_map.items()))\n",
    "    # inverse_itervention_map = dict((v, k) for k, v in itervention_map.items())\n",
    "    process_map_df = pd.DataFrame.from_dict(process_map, orient='index', columns=['process_id']).reset_index(names='Process name').set_index('process_id')\n",
    "    process_map_df['Process metadata'] = process_map_df.index.map(process_map_metadata)\n",
    "    itervention_map_df = pd.DataFrame.from_dict(itervention_map, orient='index', columns=['intervention_id']).reset_index(names='Intervention name').set_index('intervention_id')\n",
    "    itervention_map_df['Invervention metadata'] = itervention_map_df.index.map(itervention_map_metadata)\n",
    "    # Raw results\n",
    "    for v in instance.component_objects(ctype=pyo.Var, active=True, descend_into=True):\n",
    "        df = pd.DataFrame.from_dict(v.get_values(), orient='index', columns=['Value']).sort_values('Value', ascending=False)\n",
    "        match v.name:\n",
    "            case 'inv_flows' | 'inv_vector':\n",
    "                df = df.join(itervention_map_df, how='left').reset_index(names='ID')          \n",
    "            case 'scaling_vector':\n",
    "                df = df.join(process_map_df, how='left').reset_index(names='ID')\n",
    "            case 'impacts' | 'slack' | 'impacts_calculated':\n",
    "                df = df.reset_index(names='Key')\n",
    "        result_data[v.name] = df\n",
    "\n",
    "    # Normalize database to a list if it is a string\n",
    "    if isinstance(database, str):\n",
    "        database = [database]\n",
    "\n",
    "    # Store the metadata\n",
    "    result_data[\"project and db\"] = pd.DataFrame([f\"{project}__{db}\" for db in database])\n",
    "\n",
    "    # ATTN: BHL: This needs to be rewritten, it is very convoluted and can be more clear\n",
    "    choices_data = {}\n",
    "    for choice, alternatives in choices.items():\n",
    "        temp_dict = []\n",
    "        for i_alt, alt in enumerate(alternatives):\n",
    "            temp_dict.append((alt, i_alt, instance.scaling_vector.get_values()[process_map[alt.key]]))\n",
    "        choices_data[(choice, 'Process')] = {f'Process {i}': process_map_metadata[process_map[alt.key]] for alt, i, _ in temp_dict}\n",
    "        choices_data[(choice, 'Capacity')] = {f'Process {i}': alternatives[alt] for alt, i, val in temp_dict}\n",
    "        choices_data[(choice, 'Value')] = {f'Process {i}': x for _, i, x in temp_dict}\n",
    "    result_data[\"choices\"] = pd.DataFrame(choices_data)\n",
    "\n",
    "    result_data[\"demand\"] = pd.DataFrame({\"demand\":{\n",
    "        process_map_metadata[process_map[key]] if key in process_map else key: demand[key]\n",
    "        for key in demand\n",
    "    }})\n",
    "    result_data[\"constraints\"] = pd.DataFrame({\"Demand\": {process_map_metadata[process_map[key]]: constraints[key] for key in constraints}})\n",
    "\n",
    "    return result_data\n",
    "\n",
    "def save_results(result_data, file_name):\n",
    "    with pd.ExcelWriter(f\"{directory}/results/{file_name}.xlsx\") as writer:\n",
    "        for sheet_name, dataframe in result_data.items():\n",
    "            dataframe.to_excel(writer, sheet_name=sheet_name)"
   ]
  },
  {
   "cell_type": "markdown",
   "metadata": {},
   "source": [
    "## 1. Defining the case\n",
    "\n",
    "The case for which the sensitivity analysis will be performed for is on a solution of the LP:\n",
    "\n",
    "$$\n",
    "    \\begin{align}\n",
    "        & \\underset{s, slack}{\\text{min}}  && z_h \\\\\n",
    "        & \\text{s.t.}   && \\sum_{j}(a_{i,j}\\cdot s_j) = f_i && \\forall i \\\\\n",
    "        &               && s_j^{low} \\leq s_j \\leq s_j^{high} && \\forall j \\\\\n",
    "        &               && z_h = \\sum_e \\sum_j (q_{h,e}\\cdot b_{e,j} \\cdot s_j) && \\forall h \\\\\n",
    "    \\end{align}\n",
    "$$\n"
   ]
  },
  {
   "cell_type": "markdown",
   "metadata": {},
   "source": [
    "### 1.1. Rice husk problem\n"
   ]
  },
  {
   "cell_type": "markdown",
   "metadata": {},
   "source": [
    "#### 1.1.1. Loading the the data"
   ]
  },
  {
   "cell_type": "markdown",
   "metadata": {},
   "source": [
    "If the rise husk database has not been installed yet"
   ]
  },
  {
   "cell_type": "code",
   "execution_count": null,
   "metadata": {},
   "outputs": [],
   "source": [
    "# pulpo.install_rice_husk_db()"
   ]
  },
  {
   "cell_type": "markdown",
   "metadata": {},
   "source": [
    "Set the parameters for the rise husk example to instancialize PULPO"
   ]
  },
  {
   "cell_type": "code",
   "execution_count": null,
   "metadata": {},
   "outputs": [],
   "source": [
    "project = \"rice_husk_example\" \n",
    "database = \"rice_husk_example_db\"\n",
    "method = \"('my project', 'climate change')\"\n",
    "notebook_dir = os.path.dirname(os.getcwd())\n",
    "directory = os.path.join(notebook_dir, 'develop_tests/data')"
   ]
  },
  {
   "cell_type": "markdown",
   "metadata": {},
   "source": [
    "Create a **PulpoOptimizer** instance. This class is used to interact with the LCI database and solve the optimization problem. It is specified by the project, database, method and directory."
   ]
  },
  {
   "cell_type": "code",
   "execution_count": null,
   "metadata": {},
   "outputs": [],
   "source": [
    "pulpo_worker = pulpo.PulpoOptimizer(project, database, method, directory)"
   ]
  },
  {
   "cell_type": "markdown",
   "metadata": {},
   "source": [
    "Import LCI data. After initializing the PulpoOptimizer instance, the LCI data is imported from the database."
   ]
  },
  {
   "cell_type": "code",
   "execution_count": null,
   "metadata": {},
   "outputs": [],
   "source": [
    "pulpo_worker.get_lci_data()"
   ]
  },
  {
   "cell_type": "markdown",
   "metadata": {},
   "source": [
    "#### 1.1.2. Defining the optimizaiton problem"
   ]
  },
  {
   "cell_type": "markdown",
   "metadata": {},
   "source": [
    "Specify the **functional unit**. In this case, the functional unit is 1 Mt of processed rice. PULPO implements a search function (```retrieve_processes```) to find the processes that match the specified reference products (alternatively: keys, process name, region)."
   ]
  },
  {
   "cell_type": "code",
   "execution_count": null,
   "metadata": {},
   "outputs": [],
   "source": [
    "rice_factory = pulpo_worker.retrieve_processes(reference_products='Processed rice (in Mt)')\n",
    "\n",
    "demand = {rice_factory[0]: 1}"
   ]
  },
  {
   "cell_type": "markdown",
   "metadata": {},
   "source": [
    "Specify the **choices**. Here, the choices are regional 🌐 choices for rise husk collections, and technological ⛏ choices for boiler type selection.\n",
    "\n",
    "The auxiliar choices are needed to resolve the issue that rice, when not used in the boiler must be burned instead. \n",
    "\n",
    "(*At this point, just accept. If you are curious about how this multi-functionality is technically adressed, refer to the paper, or reach out.*)"
   ]
  },
  {
   "cell_type": "code",
   "execution_count": null,
   "metadata": {},
   "outputs": [],
   "source": [
    "## Rise husk collection\n",
    "rice_husk_processes = [\"Rice husk collection 1\",\n",
    "              \"Rice husk collection 2\",\n",
    "              \"Rice husk collection 3\",\n",
    "              \"Rice husk collection 4\",\n",
    "              \"Rice husk collection 5\",]\n",
    "rice_husk_collections = pulpo_worker.retrieve_processes(processes=rice_husk_processes)"
   ]
  },
  {
   "cell_type": "code",
   "execution_count": null,
   "metadata": {},
   "outputs": [],
   "source": [
    "## Boilers\n",
    "boiler_processes = [\"Natural gas boiler\",\n",
    "                     \"Wood pellet boiler\",\n",
    "                     \"Rice husk boiler\"]\n",
    "boilers = pulpo_worker.retrieve_processes(processes=boiler_processes)"
   ]
  },
  {
   "cell_type": "code",
   "execution_count": null,
   "metadata": {},
   "outputs": [],
   "source": [
    "## Auxiliar (Ignore for now!)\n",
    "auxiliar_processes = [\"Rice husk market\",\n",
    "                       \"Burning of rice husk\"]\n",
    "auxiliar = pulpo_worker.retrieve_processes(processes=auxiliar_processes)"
   ]
  },
  {
   "cell_type": "code",
   "execution_count": null,
   "metadata": {},
   "outputs": [],
   "source": [
    "## Combine to create the choices dictionary\n",
    "## For each kind of choice, assign a 'label' (e.g. 'boilers')\n",
    "## To each possible choice, assign a process capacity. In the 'unconstrained' case, set this value very high (e.g. 1e10, but depends on the scale of the functional unit)\n",
    "choices = {'Rice Husk (Mt)': {rice_husk_collections[0]: 0.03,\n",
    "                              rice_husk_collections[1]: 0.03,\n",
    "                              rice_husk_collections[2]: 0.03,\n",
    "                              rice_husk_collections[3]: 0.03,\n",
    "                              rice_husk_collections[4]: 0.03},\n",
    "           'Thermal Energy (TWh)': {boilers[0]: 1e10,\n",
    "                                    boilers[1]: 1e10,\n",
    "                                    boilers[2]: 1e10},\n",
    "           'Auxiliar': {auxiliar[0]: 1e10,\n",
    "                        auxiliar[1]: 1e10}}"
   ]
  },
  {
   "cell_type": "markdown",
   "metadata": {},
   "source": [
    "#### 1.1.3. Instantiat and solve the optimization model"
   ]
  },
  {
   "cell_type": "code",
   "execution_count": null,
   "metadata": {},
   "outputs": [],
   "source": [
    "pulpo_worker.instantiate(choices=choices, demand=demand)"
   ]
  },
  {
   "cell_type": "code",
   "execution_count": null,
   "metadata": {},
   "outputs": [],
   "source": [
    "results = pulpo_worker.solve()"
   ]
  },
  {
   "cell_type": "markdown",
   "metadata": {},
   "source": [
    "#### 1.1.4. Save and summarize the results"
   ]
  },
  {
   "cell_type": "code",
   "execution_count": null,
   "metadata": {},
   "outputs": [],
   "source": [
    "result_data = extract_results(pulpo_worker.instance, pulpo_worker.project, pulpo_worker.database, choices, {}, demand,\n",
    "                            pulpo_worker.lci_data['process_map'], pulpo_worker.lci_data['process_map_metadata'],\n",
    "                            pulpo_worker.lci_data['intervention_map'], pulpo_worker.lci_data['intervention_map_metadata'],\n",
    "                            pulpo_worker.directory, \"\")\n",
    "result_data\n",
    "# pulpo_worker.summarize_results(choices=choices, demand=demand, zeroes=True)"
   ]
  },
  {
   "cell_type": "code",
   "execution_count": null,
   "metadata": {},
   "outputs": [],
   "source": [
    "save_results(result_data, \"new_test_extract_data\")"
   ]
  },
  {
   "cell_type": "markdown",
   "metadata": {},
   "source": [
    "### 1.2. Defining the electricity showcase problem"
   ]
  },
  {
   "cell_type": "markdown",
   "metadata": {},
   "source": [
    "#### 1.2.1. Import the data"
   ]
  },
  {
   "cell_type": "code",
   "execution_count": null,
   "metadata": {},
   "outputs": [],
   "source": [
    "# Your brightway2 project, database and targeted impact category\n",
    "project = \"pulpo\"\n",
    "database = \"cutoff38\"\n",
    "methods = {\"('IPCC 2013', 'climate change', 'GWP 100a')\": 1,\n",
    "           \"('ReCiPe Endpoint (E,A)', 'resources', 'total')\": 0,\n",
    "           \"('ReCiPe Endpoint (E,A)', 'human health', 'total')\": 0,\n",
    "           \"('ReCiPe Endpoint (E,A)', 'ecosystem quality', 'total')\": 0,\n",
    "           \"('ReCiPe Midpoint (E) V1.13', 'ionising radiation', 'IRP_HE')\": 0}\n",
    "\n",
    "# Substitute with your working directory of choice\n",
    "notebook_dir = os.path.dirname(os.getcwd())\n",
    "directory = os.path.join(notebook_dir, 'data')"
   ]
  },
  {
   "cell_type": "code",
   "execution_count": null,
   "metadata": {},
   "outputs": [],
   "source": [
    "# Create a PULPO object\n",
    "pulpo_worker = pulpo.PulpoOptimizer(project, database, methods, directory)"
   ]
  },
  {
   "cell_type": "code",
   "execution_count": null,
   "metadata": {},
   "outputs": [],
   "source": [
    "# Retrieve LCI data\n",
    "pulpo_worker.get_lci_data()"
   ]
  },
  {
   "cell_type": "markdown",
   "metadata": {},
   "source": [
    "#### 1.2.2. Define the optimization problem"
   ]
  },
  {
   "cell_type": "code",
   "execution_count": null,
   "metadata": {},
   "outputs": [],
   "source": [
    "# Retrieve the electricity market\n",
    "activities = [\"market for electricity, high voltage\"]\n",
    "reference_products = [\"electricity, high voltage\"]\n",
    "locations = [\"DE\"]\n",
    "electricity_market = pulpo_worker.retrieve_activities(activities=activities,\n",
    "                                                      reference_products=reference_products,\n",
    "                                                      locations=locations)"
   ]
  },
  {
   "cell_type": "code",
   "execution_count": null,
   "metadata": {},
   "outputs": [],
   "source": [
    "# Specify the functional unit as demand dictionary\n",
    "demand = {electricity_market[0]: 1.28819e+11}"
   ]
  },
  {
   "cell_type": "code",
   "execution_count": null,
   "metadata": {},
   "outputs": [],
   "source": [
    "# Retrieve the choices\n",
    "activities = [\"electricity production, lignite\", \n",
    "             \"electricity production, hard coal\",\n",
    "             \"electricity production, nuclear, pressure water reactor\",\n",
    "             \"electricity production, wind, 1-3MW turbine, onshore\"]\n",
    "reference_products = [\"electricity, high voltage\"]\n",
    "locations = [\"DE\"]\n",
    "\n",
    "electricity_activities = pulpo_worker.retrieve_activities(activities=activities,\n",
    "                                                          reference_products=reference_products,\n",
    "                                                          locations=locations)"
   ]
  },
  {
   "cell_type": "code",
   "execution_count": null,
   "metadata": {},
   "outputs": [],
   "source": [
    "# Specify the choices dictionary\n",
    "choices  = {'electricity': {electricity_activities[0]: 1e16,\n",
    "                            electricity_activities[1]: 1e16,\n",
    "                            electricity_activities[2]: 1e16,\n",
    "                            electricity_activities[3]: 1e16}}"
   ]
  },
  {
   "cell_type": "markdown",
   "metadata": {},
   "source": [
    "#### 1.2.3. Initialize and solve the optimization problem"
   ]
  },
  {
   "cell_type": "code",
   "execution_count": 210,
   "metadata": {},
   "outputs": [
    {
     "name": "stdout",
     "output_type": "stream",
     "text": [
      "Creating Instance\n",
      "Instance created\n"
     ]
    }
   ],
   "source": [
    "# Instantiate and solve the problem (here with HiGHS)\n",
    "instance = pulpo_worker.instantiate(choices=choices, demand=demand)"
   ]
  },
  {
   "cell_type": "code",
   "execution_count": 211,
   "metadata": {},
   "outputs": [],
   "source": [
    "# import pyomo.environ as pyon\n",
    "# import os\n",
    "# os.environ['NEOS_EMAIL'] = 'b.j.p.m.haussling.lowgren@cml.leidenuniv.nl'\n",
    "# solver_manager = pyon.SolverManagerFactory('neos')"
   ]
  },
  {
   "cell_type": "code",
   "execution_count": 212,
   "metadata": {},
   "outputs": [],
   "source": [
    "# from contextlib import redirect_stdout\n",
    "# with open(r'pyomo_optimization_model_electricity_showcase.txt', 'w') as f:\n",
    "#     with redirect_stdout(f):\n",
    "#         pulpo_worker.instance.pprint()"
   ]
  },
  {
   "cell_type": "code",
   "execution_count": 213,
   "metadata": {},
   "outputs": [],
   "source": [
    "# results = solver_manager.solve(pulpo_worker.instance, opt='cplex', tee=True)"
   ]
  },
  {
   "cell_type": "code",
   "execution_count": 214,
   "metadata": {},
   "outputs": [
    {
     "name": "stdout",
     "output_type": "stream",
     "text": [
      "Running HiGHS 1.5.3 [date: 2023-05-16, git hash: 594fa5a9d]\n",
      "Copyright (c) 2023 HiGHS under MIT licence terms\n",
      "Cols:       39128 lower bounds exceeding       -1e+20 are treated as -Infinity\n",
      "Cols:       39128 upper bounds exceeding        1e+20 are treated as +Infinity\n",
      "Rows:       19561 lower bounds exceeding       -1e+20 are treated as -Infinity\n",
      "Rows:       19562 upper bounds exceeding        1e+20 are treated as +Infinity\n",
      "WARNING: LP matrix packed vector contains 20534 |values| in [0, 1e-09] less than or equal to 1e-09: ignored\n"
     ]
    },
    {
     "data": {
      "text/plain": [
       "<pyomo.contrib.appsi.solvers.highs.HighsResults at 0x3c3bd7d90>"
      ]
     },
     "execution_count": 214,
     "metadata": {},
     "output_type": "execute_result"
    }
   ],
   "source": [
    "pulpo_worker.solve()"
   ]
  },
  {
   "cell_type": "markdown",
   "metadata": {},
   "source": [
    "#### 1.2.4. Summarize and save the results"
   ]
  },
  {
   "cell_type": "code",
   "execution_count": 215,
   "metadata": {},
   "outputs": [
    {
     "data": {
      "text/plain": [
       "{'impacts':                                            Key         Value\n",
       " 0  ('IPCC 2013', 'climate change', 'GWP 100a')  1.599836e+10,\n",
       " 'scaling_vector':           ID         Value                                  Process name  \\\n",
       " 0      14779  2.770870e+11  (cutoff38, 0cbb759cc5686df90185c3fbc7b8262b)   \n",
       " 1        637  2.770870e+11  (cutoff38, 2040efe62886e6f108756a2b60d663a1)   \n",
       " 2       7239  1.346918e+11  (cutoff38, 962727b9a36bcaa186f222b29b57f6a3)   \n",
       " 3       6498  8.350729e+10  (cutoff38, 0058af82cdce10e512dc11f68a00a8eb)   \n",
       " 4      15234  2.837404e+10  (cutoff38, e4b81a6357b79091e76dc2836ef1fc52)   \n",
       " ...      ...           ...                                           ...   \n",
       " 19560   2028 -6.993395e+05  (cutoff38, 8e8cdd680e8d61271f4fa838a24bed1a)   \n",
       " 19561  13440 -7.185991e+05  (cutoff38, 0bb079bf4e6142ad612b2b08e043f4ba)   \n",
       " 19562   5551 -8.139695e+05  (cutoff38, 9b0bb421368f11d8ad6fd72066eca3d0)   \n",
       " 19563  14649 -1.385271e+07  (cutoff38, 18955e2d43eeb55c9ae99705a5170cca)   \n",
       " 19564   3478 -5.019792e+10  (cutoff38, 20ad13627c3972f28128f77858330dee)   \n",
       " \n",
       "                                         Process metadata  \n",
       " 0      water production, decarbonised | water, decarb...  \n",
       " 1      market for water, decarbonised | water, decarb...  \n",
       " 2      market for electricity, high voltage | electri...  \n",
       " 3      electricity production, nuclear, pressure wate...  \n",
       " 4      market for manure, liquid, cattle | manure, li...  \n",
       " ...                                                  ...  \n",
       " 19560  blast furnace sludge, for recovery, Recycled C...  \n",
       " 19561  sulfidic tailing, off-site, high gold content,...  \n",
       " 19562  basic oxygen furnace slag, for recovery, Recyc...  \n",
       " 19563  blast furnace slag, Recycled Content cut-off |...  \n",
       " 19564  digester sludge, Recycled Content cut-off | di...  \n",
       " \n",
       " [19565 rows x 4 columns],\n",
       " 'inv_vector': Empty DataFrame\n",
       " Columns: [ID, Value, Intervention name, Invervention metadata]\n",
       " Index: [],\n",
       " 'slack':                Key  Value\n",
       " 0                0   -0.0\n",
       " 1            13042   -0.0\n",
       " 2            13049   -0.0\n",
       " 3            13048   -0.0\n",
       " 4            13047   -0.0\n",
       " ...            ...    ...\n",
       " 19557         6524   -0.0\n",
       " 19558         6523   -0.0\n",
       " 19559         6522   -0.0\n",
       " 19560         6521   -0.0\n",
       " 19561  electricity   -0.0\n",
       " \n",
       " [19562 rows x 2 columns],\n",
       " 'impacts_calculated':                                                  Key         Value\n",
       " 0  ('ReCiPe Midpoint (E) V1.13', 'ionising radiat...  5.414918e+10\n",
       " 1        ('IPCC 2013', 'climate change', 'GWP 100a')  1.599836e+10\n",
       " 2  ('ReCiPe Endpoint (E,A)', 'human health', 'tot...  2.410592e+09\n",
       " 3    ('ReCiPe Endpoint (E,A)', 'resources', 'total')  6.763921e+08\n",
       " 4  ('ReCiPe Endpoint (E,A)', 'ecosystem quality',...  6.219297e+08,\n",
       " 'inv_flows':         ID         Value                                  Intervention name  \\\n",
       " 0      983  3.687342e+13  (biosphere3, 4ac6979b-55f2-42ae-8d7e-37846e925...   \n",
       " 1      920  7.292959e+12  (biosphere3, bd64a010-0115-47ca-942f-cbdac1d26...   \n",
       " 2      982  1.027569e+12  (biosphere3, 1551f1cd-7cb7-4f68-a628-cb9301323...   \n",
       " 3     1423  2.938401e+11  (biosphere3, 58fabee9-b4b6-48ee-857a-e16ed31bb...   \n",
       " 4     1795  2.679214e+11  (biosphere3, 2404b41a-2eed-4e9d-8ab6-783946fdf...   \n",
       " ...    ...           ...                                                ...   \n",
       " 2166  2032  0.000000e+00  (biosphere3, 87a6d2cc-251c-4a98-9bac-255e97637...   \n",
       " 2167  1776  0.000000e+00  (biosphere3, 6d9d5607-330d-4f8d-95bb-e6280c9da...   \n",
       " 2168   232  0.000000e+00  (biosphere3, a91c4052-de24-456d-a1d5-4e2d9db20...   \n",
       " 2169  1113 -4.313186e+00  (biosphere3, 237ca6bc-2f0a-4416-a0e3-bd512f038...   \n",
       " 2170  1188 -1.410320e+01  (biosphere3, 8d226423-1351-4366-b09f-d16c9e386...   \n",
       " \n",
       "                                   Invervention metadata  \n",
       " 0     Radon-222 | ('air', 'low population density, l...  \n",
       " 1     Noble gases, radioactive, unspecified | ('air'...  \n",
       " 2     Radon-222 | ('air', 'non-urban air or from hig...  \n",
       " 3              Hydrogen-3, Tritium | ('water', 'ocean')  \n",
       " 4                                    Water | ('water',)  \n",
       " ...                                                 ...  \n",
       " 2166  Cyclopentane | ('air', 'urban air close to gro...  \n",
       " 2167                Rotenone | ('soil', 'agricultural')  \n",
       " 2168      Helium | ('air', 'urban air close to ground')  \n",
       " 2169                      Copper | ('soil', 'forestry')  \n",
       " 2170                        Zinc | ('soil', 'forestry')  \n",
       " \n",
       " [2171 rows x 4 columns],\n",
       " 'project and db':                  0\n",
       " 0  pulpo__cutoff38,\n",
       " 'choices':                                                  electricity                \\\n",
       "                                                      Process      Capacity   \n",
       " Process 0  electricity production, hard coal | electricit...  1.000000e+16   \n",
       " Process 1  electricity production, nuclear, pressure wate...  1.000000e+16   \n",
       " Process 2  electricity production, wind, 1-3MW turbine, o...  1.000000e+16   \n",
       " Process 3  electricity production, lignite | electricity,...  1.000000e+16   \n",
       " \n",
       "                          \n",
       "                   Value  \n",
       " Process 0 -0.000000e+00  \n",
       " Process 1  8.350729e+10  \n",
       " Process 2 -0.000000e+00  \n",
       " Process 3 -0.000000e+00  ,\n",
       " 'demand':                                                           demand\n",
       " market for electricity, high voltage | electric...  1.288190e+11,\n",
       " 'constraints': Empty DataFrame\n",
       " Columns: [Demand]\n",
       " Index: []}"
      ]
     },
     "execution_count": 215,
     "metadata": {},
     "output_type": "execute_result"
    }
   ],
   "source": [
    "result_data = extract_results(pulpo_worker.instance, pulpo_worker.project, pulpo_worker.database, choices, {}, demand,\n",
    "                            pulpo_worker.lci_data['process_map'], pulpo_worker.lci_data['process_map_metadata'],\n",
    "                            pulpo_worker.lci_data['intervention_map'], pulpo_worker.lci_data['intervention_map_metadata'],\n",
    "                            pulpo_worker.directory, \"\")\n",
    "result_data"
   ]
  },
  {
   "cell_type": "code",
   "execution_count": 209,
   "metadata": {},
   "outputs": [
    {
     "data": {
      "application/vnd.microsoft.datawrangler.viewer.v0+json": {
       "columns": [
        {
         "name": "index",
         "rawType": "object",
         "type": "string"
        },
        {
         "name": "('electricity', 'Process')",
         "rawType": "object",
         "type": "string"
        },
        {
         "name": "('electricity', 'Capacity')",
         "rawType": "float64",
         "type": "float"
        },
        {
         "name": "('electricity', 'Value')",
         "rawType": "float64",
         "type": "float"
        }
       ],
       "conversionMethod": "pd.DataFrame",
       "ref": "1962f071-6696-4c58-812d-719306dc1abe",
       "rows": [
        [
         "Process 0",
         "electricity production, hard coal | electricity, high voltage | DE",
         "1e+16",
         "-0.0"
        ],
        [
         "Process 1",
         "electricity production, nuclear, pressure water reactor | electricity, high voltage | DE",
         "1e+16",
         "83507290158.33316"
        ],
        [
         "Process 2",
         "electricity production, wind, 1-3MW turbine, onshore | electricity, high voltage | DE",
         "1e+16",
         "-0.0"
        ],
        [
         "Process 3",
         "electricity production, lignite | electricity, high voltage | DE",
         "1e+16",
         "-0.0"
        ]
       ],
       "shape": {
        "columns": 3,
        "rows": 4
       }
      },
      "text/html": [
       "<div>\n",
       "<style scoped>\n",
       "    .dataframe tbody tr th:only-of-type {\n",
       "        vertical-align: middle;\n",
       "    }\n",
       "\n",
       "    .dataframe tbody tr th {\n",
       "        vertical-align: top;\n",
       "    }\n",
       "\n",
       "    .dataframe thead tr th {\n",
       "        text-align: left;\n",
       "    }\n",
       "</style>\n",
       "<table border=\"1\" class=\"dataframe\">\n",
       "  <thead>\n",
       "    <tr>\n",
       "      <th></th>\n",
       "      <th colspan=\"3\" halign=\"left\">electricity</th>\n",
       "    </tr>\n",
       "    <tr>\n",
       "      <th></th>\n",
       "      <th>Process</th>\n",
       "      <th>Capacity</th>\n",
       "      <th>Value</th>\n",
       "    </tr>\n",
       "  </thead>\n",
       "  <tbody>\n",
       "    <tr>\n",
       "      <th>Process 0</th>\n",
       "      <td>electricity production, hard coal | electricit...</td>\n",
       "      <td>1.000000e+16</td>\n",
       "      <td>-0.000000e+00</td>\n",
       "    </tr>\n",
       "    <tr>\n",
       "      <th>Process 1</th>\n",
       "      <td>electricity production, nuclear, pressure wate...</td>\n",
       "      <td>1.000000e+16</td>\n",
       "      <td>8.350729e+10</td>\n",
       "    </tr>\n",
       "    <tr>\n",
       "      <th>Process 2</th>\n",
       "      <td>electricity production, wind, 1-3MW turbine, o...</td>\n",
       "      <td>1.000000e+16</td>\n",
       "      <td>-0.000000e+00</td>\n",
       "    </tr>\n",
       "    <tr>\n",
       "      <th>Process 3</th>\n",
       "      <td>electricity production, lignite | electricity,...</td>\n",
       "      <td>1.000000e+16</td>\n",
       "      <td>-0.000000e+00</td>\n",
       "    </tr>\n",
       "  </tbody>\n",
       "</table>\n",
       "</div>"
      ],
      "text/plain": [
       "                                                 electricity                \\\n",
       "                                                     Process      Capacity   \n",
       "Process 0  electricity production, hard coal | electricit...  1.000000e+16   \n",
       "Process 1  electricity production, nuclear, pressure wate...  1.000000e+16   \n",
       "Process 2  electricity production, wind, 1-3MW turbine, o...  1.000000e+16   \n",
       "Process 3  electricity production, lignite | electricity,...  1.000000e+16   \n",
       "\n",
       "                         \n",
       "                  Value  \n",
       "Process 0 -0.000000e+00  \n",
       "Process 1  8.350729e+10  \n",
       "Process 2 -0.000000e+00  \n",
       "Process 3 -0.000000e+00  "
      ]
     },
     "execution_count": 209,
     "metadata": {},
     "output_type": "execute_result"
    }
   ],
   "source": [
    "result_data['choices']"
   ]
  },
  {
   "cell_type": "markdown",
   "metadata": {},
   "source": [
    "## 2. Preparing the data for the sensitivity analysis\n",
    "\n",
    "**Reformulating the problem for the sensitivity analysis**\n",
    "\n",
    "We only consider uncertainty in the $B$ and $Q$ parameter matrizes. The scaling vector is given by the optimal solution.\n",
    "\n",
    "We will look at the environmental impact objective:\n",
    "\n",
    "$$\n",
    "    e(Q, B) =  Q \\cdot B \\cdot s\n",
    "$$"
   ]
  },
  {
   "cell_type": "markdown",
   "metadata": {},
   "source": [
    "### 2.0. Preparing the sampling of the parameter space"
   ]
  },
  {
   "cell_type": "code",
   "execution_count": null,
   "metadata": {},
   "outputs": [],
   "source": [
    "# Loop place holer, will loop over all the following code\n",
    "# method_index = 1\n",
    "# for i_method, ((mat_method, mat_characterization_matrix), (param_mat, param_characterization_params)) in enumerate(zip(pulpo_worker.lci_data[\"matrices\"].items(), pulpo_worker.lci_data[\"characterization_params\"].items())):\n",
    "#     if i_method == method_index:\n",
    "#         method = mat_method\n",
    "#         characterization_matrix = mat_characterization_matrix\n",
    "#         characterization_params = param_characterization_params\n",
    "#         print(method)\n",
    "method = result_data['impacts']['Key'][0]\n",
    "characterization_matrix = pulpo_worker.lci_data[\"matrices\"][method]\n",
    "characterization_params = pulpo_worker.lci_data[\"characterization_params\"][method]\n",
    "method"
   ]
  },
  {
   "cell_type": "code",
   "execution_count": null,
   "metadata": {},
   "outputs": [],
   "source": [
    "# put the scaling vector returned from the optimization into the same order as the process map\n",
    "scaling_vector_series = result_data[\"scaling_vector\"][\"Value\"].reindex(pulpo_worker.lci_data['process_map'].values())\n"
   ]
  },
  {
   "cell_type": "markdown",
   "metadata": {},
   "source": [
    "### 2.1. Compute the LCI and LCIA results per flow"
   ]
  },
  {
   "cell_type": "code",
   "execution_count": null,
   "metadata": {},
   "outputs": [],
   "source": [
    "# LCI calculatiom\n",
    "count = len(pulpo_worker.lci_data[\"process_map\"])\n",
    "inventory = pulpo_worker.lci_data['intervention_matrix'] * \\\n",
    "sparse.spdiags([scaling_vector_series.values], [0], count, count)"
   ]
  },
  {
   "cell_type": "code",
   "execution_count": null,
   "metadata": {},
   "outputs": [],
   "source": [
    "# LCIA calculation\n",
    "characterized_inventory = \\\n",
    "characterization_matrix * inventory\n",
    "lca_score = characterized_inventory.sum()\n",
    "print('The total impact is: {:e}'.format(lca_score))"
   ]
  },
  {
   "cell_type": "markdown",
   "metadata": {},
   "source": [
    "### 2.2. Filtering out the Biosphereflows $B_{i,j}$ that have a neglectable impact"
   ]
  },
  {
   "cell_type": "code",
   "execution_count": null,
   "metadata": {},
   "outputs": [],
   "source": [
    "#ATTN: Add a simple optimization loop to find the cutoff which results in an absolute change of around 1%\n",
    "cutoff = 0.0005"
   ]
  },
  {
   "cell_type": "code",
   "execution_count": null,
   "metadata": {},
   "outputs": [],
   "source": [
    "# Filters the biosphere flows\n",
    "start = time()\n",
    "print('Characterized inventory:', characterized_inventory.shape, characterized_inventory.nnz)\n",
    "finv = characterized_inventory.multiply(abs(inventory) > abs(lca_score*cutoff))\n",
    "print('Filtered characterized inventory:', finv.shape, finv.nnz)\n",
    "characterized_inventory_indices = list(zip(*finv.nonzero()))\n",
    "explained_fraction = finv.sum() / lca_score\n",
    "print('Explained fraction of LCA score:', explained_fraction)\n",
    "print('BIOSPHERE {} filtering resulted in {} of {} exchanges ({}% of total impact) and took {} seconds.'.format(\n",
    "    characterized_inventory.shape,\n",
    "    finv.nnz,\n",
    "    characterized_inventory.nnz,\n",
    "    np.round(explained_fraction * 100, 2),\n",
    "    np.round(time() - start, 2),\n",
    "))\n"
   ]
  },
  {
   "cell_type": "markdown",
   "metadata": {},
   "source": [
    "### 2.3. Filter out the characterization factors not used for the biosphere"
   ]
  },
  {
   "cell_type": "code",
   "execution_count": null,
   "metadata": {},
   "outputs": [],
   "source": [
    "# Filter characterization matrix\n",
    "characterization_matrix_ids = characterization_matrix.diagonal().nonzero()[0]\n",
    "reduced_characterization_matrix_ids = []\n",
    "for (bio_i, ex_i) in characterized_inventory_indices:\n",
    "    if bio_i in characterization_matrix_ids and bio_i not in reduced_characterization_matrix_ids:\n",
    "        reduced_characterization_matrix_ids.append(bio_i)"
   ]
  },
  {
   "cell_type": "markdown",
   "metadata": {},
   "source": [
    "## 3. Getting the standard deviation of the parameter values"
   ]
  },
  {
   "cell_type": "markdown",
   "metadata": {},
   "source": [
    "### 3.1. Get the paramteric uncertainty of the biosphere parameters found in the database"
   ]
  },
  {
   "cell_type": "code",
   "execution_count": null,
   "metadata": {},
   "outputs": [],
   "source": [
    "intervention_metadata_df = pd.DataFrame(pulpo_worker.lci_data['intervention_params'])\n",
    "intervention_metadata_df = intervention_metadata_df.set_index([\"row\", \"col\"])"
   ]
  },
  {
   "cell_type": "code",
   "execution_count": null,
   "metadata": {},
   "outputs": [],
   "source": [
    "intervention_flows_defined_uncertainty = {}\n",
    "intervention_flows_undefined_uncertainty = []\n",
    "for characterized_inventory_index in characterized_inventory_indices:\n",
    "    intervention_metadata = intervention_metadata_df.loc[characterized_inventory_index]\n",
    "    if intervention_metadata['uncertainty_type']>0: # if the uncertainty type is larger than 0, meaining there is an uncertainty defined\n",
    "        intervention_flows_defined_uncertainty[characterized_inventory_index] = intervention_metadata.to_dict()\n",
    "    else: # if no uncertainty data is available\n",
    "        intervention_flows_undefined_uncertainty.append(characterized_inventory_index)\n",
    "print(\"Intervention flows with uncertainty information: {} \\nIntervention flows without uncertainty information: {}\".format(len(intervention_flows_defined_uncertainty), len(intervention_flows_undefined_uncertainty)))\n",
    "\n"
   ]
  },
  {
   "cell_type": "markdown",
   "metadata": {},
   "source": [
    "### 3.2. Get the paramteric uncertainty of the characterizaiton factors found in the database"
   ]
  },
  {
   "cell_type": "code",
   "execution_count": null,
   "metadata": {},
   "outputs": [],
   "source": [
    "characterization_metadata_df = pd.DataFrame(characterization_params).set_index('row')"
   ]
  },
  {
   "cell_type": "code",
   "execution_count": null,
   "metadata": {},
   "outputs": [],
   "source": [
    "characterization_factors_defined_uncertainty = {}\n",
    "characterization_factors_undefined_uncertainty = []\n",
    "for characterization_matrix_index in reduced_characterization_matrix_ids:\n",
    "    characterization_metadata = characterization_metadata_df.loc[characterization_matrix_index]\n",
    "    if characterization_metadata['uncertainty_type']>0: # if the uncertainty type is larger than 0, meaining there is an uncertainty defined\n",
    "        characterization_factors_defined_uncertainty[characterization_matrix_index] = characterization_metadata.to_dict()\n",
    "    else: # if no uncertainty data is available\n",
    "        characterization_factors_undefined_uncertainty.append(characterization_matrix_index)\n",
    "print(\"Characterization factors with uncertainty information: {} \\nCharacterization factors without uncertainty information: {}\".format(len(characterization_factors_defined_uncertainty), len(characterization_factors_undefined_uncertainty)))\n"
   ]
  },
  {
   "cell_type": "markdown",
   "metadata": {},
   "source": [
    "### 3.3. Set the uncertainty concept for the undefined uncertainty parameters"
   ]
  },
  {
   "cell_type": "markdown",
   "metadata": {},
   "source": [
    "https://stats-arrays.readthedocs.io/en/latest/\n",
    "\n",
    "![alt text](stats_arrays_table.JPG \"Title\")"
   ]
  },
  {
   "cell_type": "markdown",
   "metadata": {},
   "source": [
    "#### 3.3.1. Set the uncertainty concept for the intervention flows and compute the bounds"
   ]
  },
  {
   "cell_type": "markdown",
   "metadata": {},
   "source": [
    "Compute the bounds of the uncertain intervention flows using `stats.arrays`"
   ]
  },
  {
   "cell_type": "code",
   "execution_count": null,
   "metadata": {},
   "outputs": [],
   "source": [
    "if not intervention_flows_defined_uncertainty:\n",
    "    raise Exception('There are no intervention flows with defined uncertainty, we must implement another uncertainty approach in that case')\n",
    "if len(intervention_flows_defined_uncertainty) < len(intervention_flows_undefined_uncertainty):\n",
    "    raise Exception('There are more intervention flows with no defined uncertainty than defined uncertainty, this is a trivial measure set to warn the user if the averages bounds approach is useful')\n",
    "intervention_flow_defined_uncertainty_bounds = {}\n",
    "for intervention_flow_index, intervention_flow_uncertainty_dict in intervention_flows_defined_uncertainty.items():\n",
    "    intervention_flow_uncertainty_array = stats_arrays.UncertaintyBase.from_dicts(intervention_flow_uncertainty_dict)\n",
    "    uncertainty_choice = stats_arrays.uncertainty_choices[intervention_flow_uncertainty_dict['uncertainty_type']]\n",
    "    intervention_flow_statistics = uncertainty_choice.statistics(intervention_flow_uncertainty_array)\n",
    "    intervention_flow_defined_uncertainty_bounds[intervention_flow_index] = intervention_flow_statistics"
   ]
  },
  {
   "cell_type": "code",
   "execution_count": null,
   "metadata": {},
   "outputs": [],
   "source": [
    "intervention_flow_defined_uncertainty_bounds_df = pd.DataFrame(intervention_flow_defined_uncertainty_bounds).T"
   ]
  },
  {
   "cell_type": "markdown",
   "metadata": {},
   "source": [
    "Test if the bounds are valid upperbound > lowerbound"
   ]
  },
  {
   "cell_type": "code",
   "execution_count": null,
   "metadata": {},
   "outputs": [],
   "source": [
    "if ((intervention_flow_defined_uncertainty_bounds_df['upper'] - intervention_flow_defined_uncertainty_bounds_df['lower']) <= 0).any():\n",
    "    raise Exception('There is one bound where the lower bound which is equal or larger than the upper bound')"
   ]
  },
  {
   "cell_type": "markdown",
   "metadata": {},
   "source": [
    "Compute the statistics of the lower and upper bounds returned from the parameter distributions to decide which metric to use for the flows which do not have uncertainty information"
   ]
  },
  {
   "cell_type": "code",
   "execution_count": null,
   "metadata": {},
   "outputs": [],
   "source": [
    "lower_spread = intervention_flow_defined_uncertainty_bounds_df['lower'] / intervention_flow_defined_uncertainty_bounds_df['mean']\n",
    "upper_spread = intervention_flow_defined_uncertainty_bounds_df['upper'] / intervention_flow_defined_uncertainty_bounds_df['mean']\n",
    "ax = lower_spread.hist(bins=30, label='lower spread')\n",
    "upper_spread.hist(bins=30, label='upper spread', ax=ax)\n",
    "ax.legend()\n",
    "print('upper spread statistics')\n",
    "print(upper_spread.describe())\n",
    "print('\\nlower spread statistics')\n",
    "print(lower_spread.describe())"
   ]
  },
  {
   "cell_type": "markdown",
   "metadata": {},
   "source": [
    "based on the statistics below, I decided to use the mean of the means fraction of the upper and lower bound"
   ]
  },
  {
   "cell_type": "code",
   "execution_count": null,
   "metadata": {},
   "outputs": [],
   "source": [
    "intervention_flow_upper_spread_scaling_factor = upper_spread.mean()\n",
    "intervention_flow_lower_spread_scaling_factor = lower_spread.mean()\n",
    "print('The upper spread scaling factor for intervention flows is: {}\\nThe lower spread scaling factor for intervention flows is: {}'.format(intervention_flow_upper_spread_scaling_factor, intervention_flow_lower_spread_scaling_factor))"
   ]
  },
  {
   "cell_type": "markdown",
   "metadata": {},
   "source": [
    "Based on this the bounds of the intervention flows without uncertainty is computed"
   ]
  },
  {
   "cell_type": "code",
   "execution_count": null,
   "metadata": {},
   "outputs": [],
   "source": [
    "intervention_flow_undefined_uncertainty_bounds = {}\n",
    "for intervention_flow_index in intervention_flows_undefined_uncertainty:\n",
    "    intervention_flow_uncertainty_dict = {\n",
    "        'median': intervention_metadata_df.loc[intervention_flow_index].amount,\n",
    "        'upper': intervention_flow_upper_spread_scaling_factor * intervention_metadata_df.loc[intervention_flow_index].amount,\n",
    "        'lower': intervention_flow_lower_spread_scaling_factor * intervention_metadata_df.loc[intervention_flow_index].amount\n",
    "    }\n",
    "    intervention_flow_undefined_uncertainty_bounds[intervention_flow_index] = intervention_flow_uncertainty_dict"
   ]
  },
  {
   "cell_type": "markdown",
   "metadata": {},
   "source": [
    "Test if the bounds are valid: upper-bound > lower-bound"
   ]
  },
  {
   "cell_type": "code",
   "execution_count": null,
   "metadata": {},
   "outputs": [],
   "source": [
    "intervention_flow_undefined_uncertainty_bounds_df = pd.DataFrame(intervention_flow_undefined_uncertainty_bounds).T\n",
    "if ((intervention_flow_undefined_uncertainty_bounds_df['upper'] - intervention_flow_undefined_uncertainty_bounds_df['lower']) <= 0).any():\n",
    "    raise Exception('There is one bound where the lower bound which is equal or larger than the upper bound')"
   ]
  },
  {
   "cell_type": "markdown",
   "metadata": {},
   "source": [
    "#### 3.3.2. Set the uncertainty concept for the characterization factors and compute the bounds"
   ]
  },
  {
   "cell_type": "markdown",
   "metadata": {},
   "source": [
    "The characterization factors uncertainty depend strongly on the method chosen and also on the time horizon etc.\n",
    "\n",
    "**For now we are choosing an arbitrary bound scaling value of 0.3**"
   ]
  },
  {
   "cell_type": "code",
   "execution_count": null,
   "metadata": {},
   "outputs": [],
   "source": [
    "characterization_factor_upper_scaling_factor = 1.15\n",
    "characterization_factor_lower_scaling_factor = 0.85"
   ]
  },
  {
   "cell_type": "markdown",
   "metadata": {},
   "source": [
    "Compute the bounds based on the scaling factor"
   ]
  },
  {
   "cell_type": "code",
   "execution_count": null,
   "metadata": {},
   "outputs": [],
   "source": [
    "if len(characterization_factors_defined_uncertainty) > 0:\n",
    "    raise Exception('There are characterization factor uncertainty in the data, use these! (code not implemented yet, but analogueous to intervention flows)')\n",
    "\n",
    "characterization_factors_undefined_uncertainty_bounds = {}\n",
    "for characterization_factor_index in characterization_factors_undefined_uncertainty:\n",
    "    characterization_factor_uncertainty_dict = {\n",
    "        'median': characterization_metadata_df.loc[characterization_factor_index].amount,\n",
    "        'lower': characterization_factor_lower_scaling_factor * characterization_metadata_df.loc[characterization_factor_index].amount,\n",
    "        'upper': characterization_factor_upper_scaling_factor * characterization_metadata_df.loc[characterization_factor_index].amount\n",
    "    }\n",
    "    characterization_factors_undefined_uncertainty_bounds[characterization_factor_index] = characterization_factor_uncertainty_dict"
   ]
  },
  {
   "cell_type": "markdown",
   "metadata": {},
   "source": [
    "Test if the bounds are valid: upper-bound > lower-bound"
   ]
  },
  {
   "cell_type": "code",
   "execution_count": null,
   "metadata": {},
   "outputs": [],
   "source": [
    "characterization_factors_undefined_uncertainty_bounds_df = pd.DataFrame(characterization_factors_undefined_uncertainty_bounds).T\n",
    "if ((characterization_factors_undefined_uncertainty_bounds_df['upper'] - characterization_factors_undefined_uncertainty_bounds_df['lower']) <= 0).any():\n",
    "    raise Exception('There is one bound where the lower bound which is equal or larger than the upper bound')"
   ]
  },
  {
   "cell_type": "markdown",
   "metadata": {},
   "source": [
    "## 4. Define the global sensitivity problem\n",
    "### 4.1. Define the bound/interval of the parameters\n",
    "Defining the bound as plus minus the standard deviation, $\\sigma^2$, of the nominal value, $\\mu$, for each parameter, $p$:\n",
    "\n",
    "$[\\mu_p - \\sigma^2_p; \\mu_p + \\sigma^2_p]$"
   ]
  },
  {
   "cell_type": "markdown",
   "metadata": {},
   "source": [
    "### 4.2. Defining the sampling problems"
   ]
  },
  {
   "cell_type": "code",
   "execution_count": null,
   "metadata": {},
   "outputs": [],
   "source": [
    "all_bounds = intervention_flow_defined_uncertainty_bounds | intervention_flow_undefined_uncertainty_bounds | characterization_factors_undefined_uncertainty_bounds\n",
    "all_bounds_indx_dict = {\n",
    "    \"intervention_flows_end\": len(intervention_flow_defined_uncertainty_bounds | intervention_flow_undefined_uncertainty_bounds),\n",
    "    \"characterization_factors_start\":len(intervention_flow_defined_uncertainty_bounds | intervention_flow_undefined_uncertainty_bounds),\n",
    "}"
   ]
  },
  {
   "cell_type": "code",
   "execution_count": null,
   "metadata": {},
   "outputs": [],
   "source": [
    "problem = {\n",
    "    'num_vars': len(all_bounds),\n",
    "    'names': list(all_bounds.keys()),\n",
    "    'bounds': [[bound['lower'], bound['upper']]for bound in all_bounds.values()]\n",
    "}"
   ]
  },
  {
   "cell_type": "markdown",
   "metadata": {},
   "source": [
    "### 4.3. Define the sampling method\n",
    "\n",
    "Select the sampling method, any sampling method from SALib can be chosen, but for most sensitivity analysis there is a sampling method best suited or even neccessary, in this case we use `saltelli` sampling because it is best compatible with Sobol' sequence."
   ]
  },
  {
   "cell_type": "code",
   "execution_count": null,
   "metadata": {},
   "outputs": [],
   "source": [
    "from SALib.sample import sobol as sample_method"
   ]
  },
  {
   "cell_type": "markdown",
   "metadata": {},
   "source": [
    "Choose the amount of samples "
   ]
  },
  {
   "cell_type": "code",
   "execution_count": null,
   "metadata": {},
   "outputs": [],
   "source": [
    "N = 2**7\n",
    "N"
   ]
  },
  {
   "cell_type": "markdown",
   "metadata": {},
   "source": [
    "### 4.4. Define the sensitivity analysis method\n",
    "\n",
    "Select the sensitivity analysis method, remember it is mostly coupled to the sampling method, any sensitivity method from the SALib can be chosen. For this case study we chose Sobol' method"
   ]
  },
  {
   "cell_type": "code",
   "execution_count": null,
   "metadata": {},
   "outputs": [],
   "source": [
    "from SALib.analyze import sobol as SA_method"
   ]
  },
  {
   "cell_type": "markdown",
   "metadata": {},
   "source": [
    "## 5. Perform the sensitivity analysis\n",
    "\n",
    "$$\n",
    "    e(Q, B) =  Q \\cdot B \\cdot s\n",
    "$$"
   ]
  },
  {
   "cell_type": "markdown",
   "metadata": {},
   "source": [
    "### 5.1. Sampling the $Q$ and $B$ arrays"
   ]
  },
  {
   "cell_type": "code",
   "execution_count": null,
   "metadata": {},
   "outputs": [],
   "source": [
    "sample_data = sample_method.sample(problem, N)"
   ]
  },
  {
   "cell_type": "markdown",
   "metadata": {},
   "source": [
    "### 5.2. Solving for $Q \\cdot B \\cdot s$"
   ]
  },
  {
   "cell_type": "markdown",
   "metadata": {},
   "source": [
    "extract matrizes from sample data"
   ]
  },
  {
   "cell_type": "code",
   "execution_count": null,
   "metadata": {},
   "outputs": [],
   "source": [
    "sample_intervention_flows = pd.DataFrame(\n",
    "    sample_data[:,:all_bounds_indx_dict['intervention_flows_end']], \n",
    "    columns=pd.MultiIndex.from_tuples(problem['names'][:all_bounds_indx_dict['intervention_flows_end']])\n",
    "    )\n",
    "sample_characterization_factors = pd.DataFrame(\n",
    "    sample_data[:,all_bounds_indx_dict['characterization_factors_start']:], \n",
    "    columns=problem['names'][all_bounds_indx_dict['characterization_factors_start']:]\n",
    "    )"
   ]
  },
  {
   "cell_type": "markdown",
   "metadata": {},
   "source": [
    "Compute the environmental costs $Q \\cdot B$ by reindexing the chracterization factors sample based on the intervention flow sample, so we can do dot product between for each characterization factors corresponding to the intervnetnion flow"
   ]
  },
  {
   "cell_type": "code",
   "execution_count": null,
   "metadata": {},
   "outputs": [],
   "source": [
    "sample_characterization_factors_expanded = sample_characterization_factors.reindex(sample_intervention_flows.columns, axis=1, level=0)\n",
    "sample_environmental_costs = sample_characterization_factors_expanded * sample_intervention_flows"
   ]
  },
  {
   "cell_type": "markdown",
   "metadata": {},
   "source": [
    "Compute the environmental impact using a dot product of the reindex scaling vector"
   ]
  },
  {
   "cell_type": "code",
   "execution_count": null,
   "metadata": {},
   "outputs": [],
   "source": [
    "scaling_vector_expanded = scaling_vector_series.reindex(sample_intervention_flows.columns, level=1)"
   ]
  },
  {
   "cell_type": "code",
   "execution_count": null,
   "metadata": {},
   "outputs": [],
   "source": [
    "sample_characterized_inventories = sample_environmental_costs * scaling_vector_expanded"
   ]
  },
  {
   "cell_type": "markdown",
   "metadata": {},
   "source": [
    "### 5.3. Calculate the total output variance"
   ]
  },
  {
   "cell_type": "markdown",
   "metadata": {},
   "source": [
    "Since we have multiple impact categories in the sampled data and we can only perform the sensitivity analysis per category, we have to specify the category from the data"
   ]
  },
  {
   "cell_type": "code",
   "execution_count": null,
   "metadata": {},
   "outputs": [],
   "source": [
    "sample_impacts = sample_characterized_inventories.sum(axis=1)"
   ]
  },
  {
   "cell_type": "markdown",
   "metadata": {},
   "source": [
    "Test if the bounds are valid: upper-bound > lower-bound"
   ]
  },
  {
   "cell_type": "code",
   "execution_count": null,
   "metadata": {},
   "outputs": [],
   "source": [
    "intervention_flow_undefined_uncertainty_bounds_df = pd.DataFrame(intervention_flow_undefined_uncertainty_bounds).T\n",
    "if ((intervention_flow_undefined_uncertainty_bounds_df['upper'] - intervention_flow_undefined_uncertainty_bounds_df['lower']) <= 0).any():\n",
    "    raise Exception('There is one bound where the lower bound which is equal or larger than the upper bound')"
   ]
  },
  {
   "cell_type": "code",
   "execution_count": null,
   "metadata": {},
   "outputs": [],
   "source": [
    "print(f'The statistics of the the sample impacts: {method}')\n",
    "print(sample_impacts.describe())\n",
    "print('The deterministic impact is {}'.format('\\n'.join(['{} : {:e}'.format(values[0], values[1]) for values in result_data['impacts'].values])))"
   ]
  },
  {
   "cell_type": "markdown",
   "metadata": {},
   "source": [
    "#### 5.3.1.  Show the z-value and the distribution of the output"
   ]
  },
  {
   "cell_type": "code",
   "execution_count": null,
   "metadata": {},
   "outputs": [],
   "source": [
    "sample_impacts.plot.hist(bins=10)\n",
    "sample_impacts.shape"
   ]
  },
  {
   "cell_type": "markdown",
   "metadata": {},
   "source": [
    "The z-value of the total environmental impact"
   ]
  },
  {
   "cell_type": "code",
   "execution_count": null,
   "metadata": {},
   "outputs": [],
   "source": [
    "sample_impacts.std()/sample_impacts.mean()"
   ]
  },
  {
   "cell_type": "markdown",
   "metadata": {},
   "source": [
    "### 5.4. Calculate Sobol index"
   ]
  },
  {
   "cell_type": "code",
   "execution_count": null,
   "metadata": {},
   "outputs": [],
   "source": [
    "Si_impacts = SA_method.analyze(problem, sample_impacts.values)"
   ]
  },
  {
   "cell_type": "code",
   "execution_count": null,
   "metadata": {},
   "outputs": [],
   "source": [
    "# total_Si_impacts, first_Si_impacts, second_Si_impacts = Si_impacts.to_df()\n",
    "total_Si_impacts = pd.DataFrame([Si_impacts['ST'].T, Si_impacts['ST_conf'].T], index=['ST', 'ST_conf'], columns=problem['names']).T"
   ]
  },
  {
   "cell_type": "markdown",
   "metadata": {},
   "source": [
    "#### 5.4.1. Calculate total explained variance"
   ]
  },
  {
   "cell_type": "code",
   "execution_count": null,
   "metadata": {},
   "outputs": [],
   "source": [
    "print(\"The total explained variance is \\n{:.4}%\".format(total_Si_impacts[\"ST\"].sum()*100))"
   ]
  },
  {
   "cell_type": "markdown",
   "metadata": {},
   "source": [
    "### 5.5. Select the uncertain parameters with the largest explained variane\n",
    "\n",
    "Select the uncertain parameters using a cut-off value "
   ]
  },
  {
   "cell_type": "code",
   "execution_count": null,
   "metadata": {},
   "outputs": [],
   "source": [
    "cutoff_total_explained_variance = 0.01"
   ]
  },
  {
   "cell_type": "code",
   "execution_count": null,
   "metadata": {},
   "outputs": [],
   "source": [
    "reduced_total_Si_impacts = total_Si_impacts.sort_values(\"ST\", ascending=False)[total_Si_impacts[\"ST\"]>cutoff_total_explained_variance]\n",
    "print('{} uncertain parameters remain after using a cutoff value of {}% for the total variance.'.format(reduced_total_Si_impacts.shape[0], cutoff_total_explained_variance*100))"
   ]
  },
  {
   "cell_type": "markdown",
   "metadata": {},
   "source": [
    "### 5.6. Plot the contribution to variance"
   ]
  },
  {
   "cell_type": "markdown",
   "metadata": {},
   "source": [
    "Generate the data and the names for the contribution plot"
   ]
  },
  {
   "cell_type": "code",
   "execution_count": null,
   "metadata": {},
   "outputs": [],
   "source": [
    "def set_size(width, height, fraction=1):\n",
    "    \"\"\" Set aesthetic figure dimensions to avoid scaling in latex.\n",
    " \n",
    "    Parameters\n",
    "    ----------\n",
    "    width: float\n",
    "            Width in pts\n",
    "    fraction: float\n",
    "            Fraction of the width which you wish the figure to occupy\n",
    " \n",
    "    Returns\n",
    "    -------\n",
    "    fig_dim: tuple\n",
    "            Dimensions of figure in inches\n",
    "    \"\"\"\n",
    "    # Width of figure\n",
    "    fig_width_pt = width * fraction    \n",
    " \n",
    "    # Convert from pt to inches\n",
    "    inches_per_pt = 1 / 72.27\n",
    " \n",
    "    # Golden ratio to set aesthetic figure height\n",
    "    golden_ratio = (5**.5 - 1) / 2\n",
    " \n",
    "    # Figure width in inches\n",
    "    fig_width_in = fig_width_pt * inches_per_pt\n",
    "    # Figure height in inches\n",
    "    if height: #if height is specified\n",
    "        fig_height_pt = height * fraction\n",
    "        fig_height_in = fig_height_pt * inches_per_pt\n",
    "    else:\n",
    "        fig_height_in = fig_width_in * golden_ratio\n",
    " \n",
    "    fig_dim = (fig_width_in, fig_height_in)\n",
    " \n",
    "    return fig_dim"
   ]
  },
  {
   "cell_type": "code",
   "execution_count": null,
   "metadata": {},
   "outputs": [],
   "source": [
    "import matplotlib.pyplot as plt\n",
    "import matplotlib as mpl\n",
    "import textwrap\n",
    "\n",
    "def plot_SA_barplot(data:pd.DataFrame, metadata:pd.DataFrame, colormap:pd.Series=pd.Series([]), bbox_to_anchor_lower:float = -0.6, bbox_to_anchor_center:float=0.5):\n",
    "    \"\"\"\n",
    "        Barplot of the contributional variance of the parameters in an objective\n",
    "\n",
    "        args:\n",
    "            data:       dataframe with columns: \"ST\" and \"ST_conf\"\n",
    "            metadata:   metadataframe with \"bar_names\" column and same indices as data\n",
    "            colormap:   Series with color codes to each data index     `colormap = pd.Series(mpl.cm.tab20.colors[:data.shape[0]], index=data.index)`\n",
    "            bbox_to_anchor_lower: negative float, scaled how much the legend is under the plot\n",
    "    \"\"\"\n",
    "    # width = 180\n",
    "    # height = 180\n",
    "    width = 4.77*72.4#600\n",
    "    height = None\n",
    "    _, ax = plt.subplots(1, 1, figsize=set_size(width,height))\n",
    "\n",
    "    # Data\n",
    "    data = data.sort_values([\"ST\"], ascending=False)\n",
    "    heights = data[\"ST\"].values * 100\n",
    "    yerrs = data[\"ST_conf\"].values * 100\n",
    "    bars = [textwrap.fill(string, 50) for string in metadata[\"bar_names\"].reindex(data.index)]\n",
    "    y_pos = range(len(bars))\n",
    "    \n",
    "    for height, y_po, yerr, indx in zip(heights, y_pos, yerrs, data.index):\n",
    "        ax.bar(y_po, height, yerr=yerr, capsize=5, ecolor=\"gray\", color=colormap[indx], alpha=0.9)\n",
    "    ax.set_xticks([])\n",
    "    if (data[\"ST\"]<=1).all() and (data[\"ST\"]>=0).all():\n",
    "        ax.yaxis.set_major_formatter(mpl.ticker.PercentFormatter())\n",
    "        ax.yaxis.set_major_locator(mpl.ticker.MultipleLocator(10))\n",
    "        # For the minor ticks, use no labels; default NullFormatter.\n",
    "        ax.yaxis.set_minor_locator(mpl.ticker.MultipleLocator(5))\n",
    "    ax.legend(bars, loc='lower center', bbox_to_anchor=(bbox_to_anchor_center, bbox_to_anchor_lower), borderpad=1)\n",
    "    ax.set_axisbelow(True)\n",
    "    ax.yaxis.grid(color='gray', linestyle='dotted')\n",
    "    return ax"
   ]
  },
  {
   "cell_type": "code",
   "execution_count": null,
   "metadata": {},
   "outputs": [],
   "source": [
    "metadata_dict = {}\n",
    "for (intervention_index, process_index) in total_Si_impacts.index[:all_bounds_indx_dict['intervention_flows_end']]:\n",
    "    metadata_dict[(intervention_index, process_index)] = '{} --- {}'.format(pulpo_worker.lci_data['process_map_metadata'][process_index], pulpo_worker.lci_data['intervention_map_metadata'][intervention_index])\n",
    "for intervention_index in total_Si_impacts.index[all_bounds_indx_dict['characterization_factors_start']:]:\n",
    "    metadata_dict[intervention_index] = '{} --- {}'.format(pulpo_worker.lci_data['intervention_map_metadata'][intervention_index], method)\n",
    "metadata_total_Si_impacts = pd.DataFrame([metadata_dict], index=['bar_names']).T"
   ]
  },
  {
   "cell_type": "code",
   "execution_count": null,
   "metadata": {},
   "outputs": [],
   "source": [
    "total_Si_impacts_top10 = total_Si_impacts.sort_values('ST', ascending=False).iloc[:10,:]\n",
    "metadata_total_Si_impacts_top10 = metadata_total_Si_impacts.loc[total_Si_impacts_top10.index]"
   ]
  },
  {
   "cell_type": "code",
   "execution_count": null,
   "metadata": {},
   "outputs": [],
   "source": [
    "colormap_base = mpl.cm.tab20.colors\n",
    "colormap_SA_barplot = pd.Series(colormap_base[:total_Si_impacts_top10.shape[0]], index=total_Si_impacts_top10.index)\n",
    "plot_SA_barplot(data=total_Si_impacts_top10, metadata=metadata_total_Si_impacts_top10, colormap=colormap_SA_barplot, bbox_to_anchor_center=1.7, bbox_to_anchor_lower=-.6)"
   ]
  },
  {
   "cell_type": "markdown",
   "metadata": {},
   "source": [
    "### 5.7. Plot the main contributing variables to the total environmental impact"
   ]
  },
  {
   "cell_type": "code",
   "execution_count": null,
   "metadata": {},
   "outputs": [],
   "source": [
    "e_QBs = sample_impacts\n",
    "QBs_per_s_sample = sample_characterized_inventories"
   ]
  },
  {
   "cell_type": "markdown",
   "metadata": {},
   "source": [
    "Generate the data"
   ]
  },
  {
   "cell_type": "code",
   "execution_count": null,
   "metadata": {},
   "outputs": [],
   "source": [
    "QBs_tops_indcs = QBs_per_s_sample.mean().abs().sort_values(ascending=False).iloc[:10].index\n",
    "data_QBs = pd.DataFrame([])\n",
    "QBs_per_s_sample_scaled = QBs_per_s_sample/ e_QBs.mean()#.divide(QBs_per_s_sample.abs().sum(axis=1), axis=\"index\")\n",
    "data_QBs[\"ST\"] = QBs_per_s_sample_scaled.mean()[QBs_tops_indcs]\n",
    "data_QBs[\"ST_conf\"] = QBs_per_s_sample_scaled.std()[QBs_tops_indcs]\n",
    "data_QBs.index = data_QBs.index.to_flat_index()\n",
    "metadata_QBs = metadata_total_Si_impacts.loc[data_QBs.index]"
   ]
  },
  {
   "cell_type": "markdown",
   "metadata": {},
   "source": [
    "Plot the total environmental impact for the top processes"
   ]
  },
  {
   "cell_type": "code",
   "execution_count": null,
   "metadata": {},
   "outputs": [],
   "source": [
    "from typing import Optional\n",
    "# set matplotlib colormap\n",
    "\n",
    "def plot_total_env_impact_barplot(data:pd.DataFrame,  metadata:pd.DataFrame, impact_category:str, colormap_base:tuple, colormap_linked:pd.Series=pd.Series([]), savefig:Optional[bool]=None, bbox_to_anchor_center:float=0.7, bbox_to_anchor_lower:float=0.7):\n",
    "    \"\"\"\n",
    "        Barplot of the contributional variance of the parameters in total cost objective\n",
    "\n",
    "        args:\n",
    "            data:       dataframe with columns: \"ST\" and \"ST_conf\"\n",
    "            metadata:   metadataframe with \"bar_names\" column and same indices as data\n",
    "            impact_category:    name of environmental impact category\n",
    "            colormap_base:      The colormap which should be used for the plot, use the same as underlying the colormap_linked if it is specified\n",
    "            colormap_linked:    If there is a colormap from another plot where the variables shown in this plot should refer to if they appear in both\n",
    "            savefig:    if true saves fig into specified path\n",
    "    \"\"\"\n",
    "    if colormap_linked.empty:\n",
    "        colormap = pd.Series(colormap_base[:data.shape[0]], index=data.index)\n",
    "    else:\n",
    "        # act_indcs = [index for index in colormap.index if type(index[1]) == int]\n",
    "        # colormap_red = pd.Series(colormap[act_indcs].values, index=[indcs[1] for indcs in act_indcs])\n",
    "        colormap_red = colormap_linked.loc[colormap_linked.index.isin(data.index)]\n",
    "        addtional_incs = data.index[~data.index.isin(colormap_red.index)]\n",
    "        additional_colormap = pd.Series(\n",
    "            colormap_base[colormap_linked.shape[0]:colormap_linked.shape[0]+len(addtional_incs)], \n",
    "            index = addtional_incs\n",
    "            )\n",
    "        colormap = pd.concat([colormap_red, additional_colormap])\n",
    "\n",
    "\n",
    "    ax = plot_SA_barplot(data, metadata, colormap=colormap, bbox_to_anchor_lower=bbox_to_anchor_lower, bbox_to_anchor_center=bbox_to_anchor_center)    \n",
    "    ax.set_xlabel(\"Main environmental parameters\")\n",
    "    ax.set_ylabel(\"Contribution to total {} in [\\%]\".format(impact_category))\n",
    "\n",
    "    # Save figure\n",
    "    if savefig:\n",
    "        plt.savefig(r\"C:\\Users\\admin\\OneDrive - Carbon Minds GmbH\\Dokumente\\13 Students\\MA_Bartolomeus_Löwgren\\02_code\\03_optimization_framework\\04_case_studies\\02_plots\\total_env_impact_barplot\" + \".{}\".format(fileformat), format=fileformat, bbox_inches='tight')\n"
   ]
  },
  {
   "cell_type": "code",
   "execution_count": null,
   "metadata": {},
   "outputs": [],
   "source": [
    "colormap = pd.Series(mpl.cm.tab20.colors[:data_QBs.shape[0]], index=data_QBs.index)\n",
    "metadata_QBs = metadata_QBs[['bar_names']]\n",
    "plot_total_env_impact_barplot(data_QBs, metadata=metadata_QBs, impact_category=method, colormap_base=colormap_base, colormap_linked=colormap_SA_barplot, savefig=False, bbox_to_anchor_center=1.7, bbox_to_anchor_lower=-.6)"
   ]
  },
  {
   "cell_type": "markdown",
   "metadata": {},
   "source": [
    "## 6. CC formulation"
   ]
  },
  {
   "cell_type": "markdown",
   "metadata": {},
   "source": [
    "### 6.1. Extract the metadata for the selected uncertain parameters"
   ]
  },
  {
   "cell_type": "code",
   "execution_count": null,
   "metadata": {},
   "outputs": [],
   "source": [
    "selected_uncertain_intervention_flow_indc = [index for index in reduced_total_Si_impacts.index if type(index)==tuple]\n",
    "selected_uncertain_characterization_factor_indc = [index for index in reduced_total_Si_impacts.index if type(index)!=tuple]\n",
    "\n",
    "selected_uncertain_intervention_flow_metadata_df = intervention_metadata_df.loc[selected_uncertain_intervention_flow_indc]\n",
    "selected_uncertain_characterization_fact_metadata_df = characterization_metadata_df.loc[selected_uncertain_characterization_factor_indc]"
   ]
  },
  {
   "cell_type": "markdown",
   "metadata": {},
   "source": [
    "### 6.2. Tranform all parametric uncertainty to normal distributions"
   ]
  },
  {
   "cell_type": "markdown",
   "metadata": {},
   "source": [
    "See if the seelcted uncertainty factors have uncertainty from the database"
   ]
  },
  {
   "cell_type": "code",
   "execution_count": null,
   "metadata": {},
   "outputs": [],
   "source": [
    "if (selected_uncertain_intervention_flow_metadata_df['type'] == 0).any():\n",
    "    raise Exception('There is no uncertainty information for some of the selected intervention flow parameters. We need to implement this.')\n"
   ]
  },
  {
   "cell_type": "markdown",
   "metadata": {},
   "source": [
    "#### 6.2.1. Transform missing uncertainty information via bounds to normal distributions\n",
    "\n",
    "When there is no uncertainty information at all, as the case for the characterization factors, then we take the assumption about the bounds and turn them into distribution information.\n",
    "\n",
    "Probability distribution assumptions:\n",
    "- Normal distributed uncertain parameters\n",
    "- The two bounds enclose a 95% confidence interval\n",
    "\n",
    "This allows us to calculate the standard distribution, since 95% confidence interval is equal to two standard normal distributions.\n",
    "\n",
    "$$\n",
    "    upperbound - lowerbound = 4 \\cdot \\sigma\n",
    "$$"
   ]
  },
  {
   "cell_type": "code",
   "execution_count": null,
   "metadata": {},
   "outputs": [],
   "source": [
    "final_uncertain_characterization_fact_metadata_df = selected_uncertain_characterization_fact_metadata_df.copy()\n",
    "if (selected_uncertain_characterization_fact_metadata_df['uncertainty_type'] == 0).any():\n",
    "    for param_index in final_uncertain_characterization_fact_metadata_df.index[final_uncertain_characterization_fact_metadata_df['uncertainty_type'] == 0]:\n",
    "        final_uncertain_characterization_fact_metadata_df.loc[param_index, 'scale'] = (characterization_factors_undefined_uncertainty_bounds_df.loc[param_index, 'upper'] - characterization_factors_undefined_uncertainty_bounds_df.loc[param_index,'lower']) / 4\n",
    "        final_uncertain_characterization_fact_metadata_df.loc[param_index, 'uncertainty_type'] = 3"
   ]
  },
  {
   "cell_type": "markdown",
   "metadata": {},
   "source": [
    "#### 6.2.2. Transform all non normal distribution via sampling and fitting to normal distributions\n",
    "\n",
    "For all lognormal (and all other distributions) distributions fit a normal distribution to sampled data to find the best normal approximation of the lognormal distributions. We use sample sizes of 1.000.000 to more the likelihood estimation of the normal distribution to the lognoramlly sampled data as good as possible."
   ]
  },
  {
   "cell_type": "code",
   "execution_count": null,
   "metadata": {},
   "outputs": [],
   "source": [
    "final_uncertain_intervention_flow_metadata_df = selected_uncertain_intervention_flow_metadata_df.copy()\n",
    "for param_index, metadata in final_uncertain_intervention_flow_metadata_df[final_uncertain_intervention_flow_metadata_df['type'] == 2].iterrows():\n",
    "    if metadata['uncertainty_type'] == 1:\n",
    "        raise Exception('The intervention flow has the \"no uncertainty\" distribution type. This is not allowed')\n",
    "    metadata_uncertainty_array = stats_arrays.UncertaintyBase.from_dicts(metadata.to_dict())\n",
    "    uncertainty_choice = stats_arrays.uncertainty_choices[metadata['uncertainty_type']]\n",
    "    fig, ax = plt.subplots(1, 1)\n",
    "    # Sample the lognormal distribution and plot the histrogram of the samples\n",
    "    param_samples = uncertainty_choice.random_variables(metadata_uncertainty_array, 1000000)\n",
    "    ax.hist(param_samples.T, density=True, bins='auto', histtype='stepfilled', alpha=0.2, label='{} samples'.format(uncertainty_choice.description))\n",
    "    # Calculate the ppf values to plot the lognormal pdf\n",
    "    percentages = np.expand_dims(np.linspace(0.001, 0.999, 1000, axis=0), axis=0)\n",
    "    x = uncertainty_choice.ppf(metadata_uncertainty_array, percentages=percentages)\n",
    "    x, y = uncertainty_choice.pdf(metadata_uncertainty_array, xs=x)\n",
    "    ax.plot(x, y, 'k-', lw=2, label='frozen {} pdf'.format(uncertainty_choice.description))\n",
    "    # Fit a normal distribution to the sampled data\n",
    "    loc_norm, scale_norm = scipy.stats.norm.fit(param_samples.T)\n",
    "    # Plot the fitted normal distibution\n",
    "    x_norm = np.linspace(scipy.stats.norm.ppf(0.01, loc=loc_norm, scale=scale_norm),\n",
    "        scipy.stats.norm.ppf(0.99,  loc=loc_norm, scale=scale_norm), 100)\n",
    "    ax.plot(x, scipy.stats.norm.pdf(x,  loc=loc_norm, scale=scale_norm), 'b-', lw=2, label='fitted normal pdf')\n",
    "    ax.set_title(str(param_index))\n",
    "    ax.legend(loc='best', frameon=False)\n",
    "    # Overwrite the lognormal distribution statistics with the fitted normal \n",
    "    final_uncertain_intervention_flow_metadata_df.loc[param_index, 'scale'] = scale_norm\n",
    "    final_uncertain_intervention_flow_metadata_df.loc[param_index, 'loc'] = loc_norm\n",
    "    final_uncertain_intervention_flow_metadata_df.loc[param_index, 'uncertainty_type'] = 3\n",
    "    \n",
    "plt.show()"
   ]
  },
  {
   "cell_type": "markdown",
   "metadata": {},
   "source": [
    "### 6.3. Compute the envrionmental cost standard deviations"
   ]
  },
  {
   "cell_type": "markdown",
   "metadata": {},
   "source": [
    "1. Data extraction\n",
    "    - Get all the invervention flows to the uncertain characterization factor\n",
    "\n",
    "2. Data calculation\n",
    "    - compute the environmental cost standard deviation for every environmental cost factor which contain one of the uncertain intervention flows or characterization factors characterization."
   ]
  },
  {
   "cell_type": "markdown",
   "metadata": {},
   "source": [
    "#### 6.3.1. Data extraction"
   ]
  },
  {
   "cell_type": "code",
   "execution_count": null,
   "metadata": {},
   "outputs": [],
   "source": [
    "# Get all the invervention flows to the uncertain characterization factor\n",
    "intervention_flows_extracted = pd.DataFrame.sparse.from_spmatrix(\n",
    "    pulpo_worker.lci_data['intervention_matrix'][final_uncertain_characterization_fact_metadata_df.index,:],\n",
    "    index=final_uncertain_characterization_fact_metadata_df.index\n",
    ")"
   ]
  },
  {
   "cell_type": "markdown",
   "metadata": {},
   "source": [
    "#### 6.3.2. Data calculation"
   ]
  },
  {
   "cell_type": "markdown",
   "metadata": {},
   "source": [
    "Compute the standard deviation of the environmental costs using the uncertain intervention flows and characterization factors\n",
    "\n",
    "$$\n",
    "\n",
    "\\sigma_{q_hb_j} =\\sqrt{\\sum_e \\big(\\mu_{q_{h,e}}^2\\sigma_{b_{e,j}}^2 + \\mu_{b_{e,j}}^2\\sigma_{q_{h,e}}^2 + \\sigma_{b_{e,j}}^2 \\sigma_{q_{h,e}}^2\\big)}\n",
    "\n",
    "$$"
   ]
  },
  {
   "cell_type": "code",
   "execution_count": null,
   "metadata": {},
   "outputs": [],
   "source": [
    "# Compute the variance of the environmental costs for all processes which contain\n",
    "# - an uncertain intervention flow\n",
    "# - an intervention flow associated with an uncertain characterization factor\n",
    "process_ids = final_uncertain_intervention_flow_metadata_df.index.get_level_values(1).append(\n",
    "    intervention_flows_extracted.columns[(intervention_flows_extracted != 0).any(axis=0)]\n",
    "    ).unique()\n",
    "environmental_costs_std = {}\n",
    "for process_id in process_ids:\n",
    "    # compute the mu_{q_{h,e}}^2 * sigma_{b_{e,j}}^2\n",
    "    if process_id in final_uncertain_intervention_flow_metadata_df.index.get_level_values(level='col'):\n",
    "        intervention_flow_std = final_uncertain_intervention_flow_metadata_df.xs(process_id, level='col', axis=0, drop_level=True)['scale']\n",
    "        characterization_factor_mean = pd.Series(\n",
    "            pulpo_worker.lci_data[\"matrices\"][method].diagonal()[\n",
    "                intervention_flow_std.index.get_level_values(level='row')\n",
    "                ],\n",
    "            index=intervention_flow_std.index.get_level_values(level='row')\n",
    "        )\n",
    "        # Reindex so that we can perform a matrix multiplication on all intervention flows\n",
    "        characterization_factor_mean = characterization_factor_mean.reindex(intervention_flow_std.index, axis=0, level='row')\n",
    "        mu_q2_sigma_b2 = characterization_factor_mean.pow(2).mul(intervention_flow_std.pow(2), axis=0)\n",
    "    else:\n",
    "        mu_q2_sigma_b2 = pd.Series([0])\n",
    "    # compute the mu_{b_{e,j}}^2 * sigma_{q_{h,e}}^2\n",
    "    if (intervention_flows_extracted[process_id] > 0).any():\n",
    "        characterization_factor_std = final_uncertain_characterization_fact_metadata_df['scale']\n",
    "        # Reindex so that we can perform a matrix multiplication on all characterization factors\n",
    "        intervention_flow_mean = intervention_flows_extracted[process_id].reindex(characterization_factor_std.index, axis=0)\n",
    "        sigma_q2_mu_b2 = characterization_factor_std.pow(2).mul(intervention_flow_mean.pow(2), axis=0)\n",
    "    else:\n",
    "        sigma_q2_mu_b2 = pd.Series([0])\n",
    "    # compute the sigma_{b_{e,j}}^2 * sigma_{q_{h,e}}^2\n",
    "    if (intervention_flows_extracted[process_id] > 0).any() and process_id in final_uncertain_intervention_flow_metadata_df.index.get_level_values(level='col'):\n",
    "        sigma_q2_sigma_b2 = characterization_factor_std.pow(2).mul(intervention_flow_std.pow(2))\n",
    "    else:\n",
    "        sigma_q2_sigma_b2 = pd.Series([0])\n",
    "    # Take the sqrt of the sum over the std terms and the intervention flows\n",
    "    environmental_costs_std[process_id] = np.sqrt(mu_q2_sigma_b2.sum() + sigma_q2_sigma_b2.sum() + sigma_q2_mu_b2.sum())"
   ]
  },
  {
   "cell_type": "markdown",
   "metadata": {},
   "source": [
    "Compute the mean of the environmental costs to be used together with the standard deviation to update the uncertain parameters in line with chance constraint formulation"
   ]
  },
  {
   "cell_type": "code",
   "execution_count": null,
   "metadata": {},
   "outputs": [],
   "source": [
    "environmental_cost_mean = pulpo_worker.lci_data[\"matrices\"][method].diagonal() @ pulpo_worker.lci_data['intervention_matrix']\n",
    "environmental_cost_mean = dict(zip(range(len(environmental_cost_mean)), environmental_cost_mean))"
   ]
  },
  {
   "cell_type": "code",
   "execution_count": 303,
   "metadata": {},
   "outputs": [
    {
     "data": {
      "application/vnd.microsoft.datawrangler.viewer.v0+json": {
       "columns": [
        {
         "name": "index",
         "rawType": "int64",
         "type": "integer"
        },
        {
         "name": "std",
         "rawType": "float64",
         "type": "float"
        },
        {
         "name": "mean",
         "rawType": "float64",
         "type": "float"
        },
        {
         "name": "z",
         "rawType": "float64",
         "type": "float"
        },
        {
         "name": "sign_change",
         "rawType": "float64",
         "type": "float"
        }
       ],
       "conversionMethod": "pd.DataFrame",
       "ref": "5ad409f9-f4b2-48f9-a150-5c14cb19799e",
       "rows": [
        [
         "2106",
         "0.10724999606609342",
         "-1.2700001001358032",
         "-0.08444880914153077",
         "-1.0"
        ],
        [
         "19366",
         "0.10724999606609342",
         "-1.2700001001358032",
         "-0.08444880914153077",
         "-1.0"
        ]
       ],
       "shape": {
        "columns": 4,
        "rows": 2
       }
      },
      "text/html": [
       "<div>\n",
       "<style scoped>\n",
       "    .dataframe tbody tr th:only-of-type {\n",
       "        vertical-align: middle;\n",
       "    }\n",
       "\n",
       "    .dataframe tbody tr th {\n",
       "        vertical-align: top;\n",
       "    }\n",
       "\n",
       "    .dataframe thead th {\n",
       "        text-align: right;\n",
       "    }\n",
       "</style>\n",
       "<table border=\"1\" class=\"dataframe\">\n",
       "  <thead>\n",
       "    <tr style=\"text-align: right;\">\n",
       "      <th></th>\n",
       "      <th>std</th>\n",
       "      <th>mean</th>\n",
       "      <th>z</th>\n",
       "      <th>sign_change</th>\n",
       "    </tr>\n",
       "  </thead>\n",
       "  <tbody>\n",
       "    <tr>\n",
       "      <th>2106</th>\n",
       "      <td>0.10725</td>\n",
       "      <td>-1.27</td>\n",
       "      <td>-0.084449</td>\n",
       "      <td>-1.0</td>\n",
       "    </tr>\n",
       "    <tr>\n",
       "      <th>19366</th>\n",
       "      <td>0.10725</td>\n",
       "      <td>-1.27</td>\n",
       "      <td>-0.084449</td>\n",
       "      <td>-1.0</td>\n",
       "    </tr>\n",
       "  </tbody>\n",
       "</table>\n",
       "</div>"
      ],
      "text/plain": [
       "           std  mean         z  sign_change\n",
       "2106   0.10725 -1.27 -0.084449         -1.0\n",
       "19366  0.10725 -1.27 -0.084449         -1.0"
      ]
     },
     "execution_count": 303,
     "metadata": {},
     "output_type": "execute_result"
    }
   ],
   "source": [
    "environmental_costs_std_mean = pd.DataFrame.from_dict(environmental_costs_std, orient='index', columns=['std'])\n",
    "if environmental_costs_std_mean['std'].isna().any():\n",
    "    raise Exception('There are NaNs in the standard deviation')\n",
    "environmental_costs_std_mean['mean'] = environmental_costs_std_mean.index.map(environmental_cost_mean)\n",
    "environmental_costs_std_mean['z'] = environmental_costs_std_mean['std'] / environmental_costs_std_mean['mean']\n",
    "if (environmental_costs_std_mean['z'] > 0.5).any():\n",
    "    raise Exception('There are z-values greater than 0.5 this is improbable')\n",
    "environmental_costs_std_mean['sign_change'] = np.sign(environmental_costs_std_mean['mean']) * np.sign(environmental_costs_std_mean['std'])\n",
    "environmental_costs_std_mean[(environmental_costs_std_mean['sign_change'] == -1)]"
   ]
  },
  {
   "cell_type": "code",
   "execution_count": 300,
   "metadata": {},
   "outputs": [
    {
     "data": {
      "text/plain": [
       "<Axes: ylabel='Frequency'>"
      ]
     },
     "execution_count": 300,
     "metadata": {},
     "output_type": "execute_result"
    },
    {
     "data": {
      "image/png": "[encoded data removed]",
      "text/plain": [
       "<Figure size 640x480 with 1 Axes>"
      ]
     },
     "metadata": {},
     "output_type": "display_data"
    }
   ],
   "source": [
    "environmental_costs_std_mean['z'].plot.hist(bins=20)"
   ]
  },
  {
   "cell_type": "code",
   "execution_count": null,
   "metadata": {},
   "outputs": [
    {
     "data": {
      "text/plain": [
       "0"
      ]
     },
     "execution_count": 287,
     "metadata": {},
     "output_type": "execute_result"
    }
   ],
   "source": []
  },
  {
   "cell_type": "markdown",
   "metadata": {},
   "source": [
    "\n",
    "### 6.4. Impose chance constraint formulation\n",
    "\n",
    "Data manipulation:\n",
    "- manipulate the environmental cost by adding the product of the PDF of the probability level and the standard deviation of the environmental costs\n",
    "- exchange the updated enviornmental costs in the environmental cost matrix"
   ]
  },
  {
   "cell_type": "code",
   "execution_count": 216,
   "metadata": {},
   "outputs": [],
   "source": [
    "lambda_QB = 0.9\n",
    "ppf_lambda_QB = scipy.stats.norm.ppf(lambda_QB)\n",
    "environmental_cost_updated = {}\n",
    "for process_id, environmental_cost in environmental_costs_std.items():\n",
    "    pulpo_worker.instance.ENV_COST_MATRIX[(process_id, method)] = environmental_cost_mean[process_id] + ppf_lambda_QB * environmental_costs_std[process_id]"
   ]
  },
  {
   "cell_type": "markdown",
   "metadata": {},
   "source": [
    "#### 6.4.1. Solve the chance constrained problem"
   ]
  },
  {
   "cell_type": "code",
   "execution_count": 217,
   "metadata": {},
   "outputs": [
    {
     "name": "stdout",
     "output_type": "stream",
     "text": [
      "Running HiGHS 1.5.3 [date: 2023-05-16, git hash: 594fa5a9d]\n",
      "Copyright (c) 2023 HiGHS under MIT licence terms\n",
      "Cols:       39128 lower bounds exceeding       -1e+20 are treated as -Infinity\n",
      "Cols:       39128 upper bounds exceeding        1e+20 are treated as +Infinity\n",
      "Rows:       19561 lower bounds exceeding       -1e+20 are treated as -Infinity\n",
      "Rows:       19562 upper bounds exceeding        1e+20 are treated as +Infinity\n",
      "WARNING: LP matrix packed vector contains 20534 |values| in [0, 1e-09] less than or equal to 1e-09: ignored\n"
     ]
    },
    {
     "data": {
      "text/plain": [
       "<pyomo.contrib.appsi.solvers.highs.HighsResults at 0x3e4b07b80>"
      ]
     },
     "execution_count": 217,
     "metadata": {},
     "output_type": "execute_result"
    }
   ],
   "source": [
    "pulpo_worker.solve()"
   ]
  },
  {
   "cell_type": "code",
   "execution_count": null,
   "metadata": {},
   "outputs": [],
   "source": [
    "result_data = extract_results(pulpo_worker.instance, pulpo_worker.project, pulpo_worker.database, choices, {}, demand,\n",
    "                            pulpo_worker.lci_data['process_map'], pulpo_worker.lci_data['process_map_metadata'],\n",
    "                            pulpo_worker.lci_data['intervention_map'], pulpo_worker.lci_data['intervention_map_metadata'],\n",
    "                            pulpo_worker.directory, \"\")"
   ]
  },
  {
   "cell_type": "markdown",
   "metadata": {},
   "source": [
    "- Copmute the standard deviation and mean of the environmental cost flows\n",
    "- Look into how the L2 and L1 norm differ for the impact calculation"
   ]
  },
  {
   "cell_type": "markdown",
   "metadata": {},
   "source": [
    "### 6.5. Solve the CC problem for a set of probability levels"
   ]
  },
  {
   "cell_type": "code",
   "execution_count": null,
   "metadata": {},
   "outputs": [
    {
     "name": "stdout",
     "output_type": "stream",
     "text": [
      "Creating Instance\n",
      "Instance created\n",
      "solving CC problem for lambda_QB = 0.5\n",
      "Running HiGHS 1.5.3 [date: 2023-05-16, git hash: 594fa5a9d]\n",
      "Copyright (c) 2023 HiGHS under MIT licence terms\n",
      "Cols:       39128 lower bounds exceeding       -1e+20 are treated as -Infinity\n",
      "Cols:       39128 upper bounds exceeding        1e+20 are treated as +Infinity\n",
      "Rows:       19561 lower bounds exceeding       -1e+20 are treated as -Infinity\n",
      "Rows:       19562 upper bounds exceeding        1e+20 are treated as +Infinity\n",
      "WARNING: LP matrix packed vector contains 20534 |values| in [0, 1e-09] less than or equal to 1e-09: ignored\n",
      "Creating Instance\n",
      "Instance created\n",
      "solving CC problem for lambda_QB = 0.6\n",
      "Running HiGHS 1.5.3 [date: 2023-05-16, git hash: 594fa5a9d]\n",
      "Copyright (c) 2023 HiGHS under MIT licence terms\n",
      "Cols:       39128 lower bounds exceeding       -1e+20 are treated as -Infinity\n",
      "Cols:       39128 upper bounds exceeding        1e+20 are treated as +Infinity\n",
      "Rows:       19561 lower bounds exceeding       -1e+20 are treated as -Infinity\n",
      "Rows:       19562 upper bounds exceeding        1e+20 are treated as +Infinity\n",
      "WARNING: LP matrix packed vector contains 20534 |values| in [0, 1e-09] less than or equal to 1e-09: ignored\n",
      "Creating Instance\n",
      "Instance created\n",
      "solving CC problem for lambda_QB = 0.7\n",
      "Running HiGHS 1.5.3 [date: 2023-05-16, git hash: 594fa5a9d]\n",
      "Copyright (c) 2023 HiGHS under MIT licence terms\n",
      "Cols:       39128 lower bounds exceeding       -1e+20 are treated as -Infinity\n",
      "Cols:       39128 upper bounds exceeding        1e+20 are treated as +Infinity\n",
      "Rows:       19561 lower bounds exceeding       -1e+20 are treated as -Infinity\n",
      "Rows:       19562 upper bounds exceeding        1e+20 are treated as +Infinity\n",
      "WARNING: LP matrix packed vector contains 20534 |values| in [0, 1e-09] less than or equal to 1e-09: ignored\n",
      "Creating Instance\n",
      "Instance created\n",
      "solving CC problem for lambda_QB = 0.8\n",
      "Running HiGHS 1.5.3 [date: 2023-05-16, git hash: 594fa5a9d]\n",
      "Copyright (c) 2023 HiGHS under MIT licence terms\n",
      "Cols:       39128 lower bounds exceeding       -1e+20 are treated as -Infinity\n",
      "Cols:       39128 upper bounds exceeding        1e+20 are treated as +Infinity\n",
      "Rows:       19561 lower bounds exceeding       -1e+20 are treated as -Infinity\n",
      "Rows:       19562 upper bounds exceeding        1e+20 are treated as +Infinity\n",
      "WARNING: LP matrix packed vector contains 20534 |values| in [0, 1e-09] less than or equal to 1e-09: ignored\n",
      "Creating Instance\n",
      "Instance created\n",
      "solving CC problem for lambda_QB = 0.9\n",
      "Running HiGHS 1.5.3 [date: 2023-05-16, git hash: 594fa5a9d]\n",
      "Copyright (c) 2023 HiGHS under MIT licence terms\n",
      "Cols:       39128 lower bounds exceeding       -1e+20 are treated as -Infinity\n",
      "Cols:       39128 upper bounds exceeding        1e+20 are treated as +Infinity\n",
      "Rows:       19561 lower bounds exceeding       -1e+20 are treated as -Infinity\n",
      "Rows:       19562 upper bounds exceeding        1e+20 are treated as +Infinity\n",
      "WARNING: LP matrix packed vector contains 20534 |values| in [0, 1e-09] less than or equal to 1e-09: ignored\n"
     ]
    }
   ],
   "source": [
    "result_data_CC = {}\n",
    "lambda_array = np.linspace(0.5,1, 5, endpoint=False)\n",
    "for lambda_QB in lambda_array:\n",
    "    print(f'solving CC problem for lambda_QB = {lambda_QB}')\n",
    "    ppf_lambda_QB = scipy.stats.norm.ppf(lambda_QB)\n",
    "    environmental_cost_updated = {(process_id, method): environmental_cost_mean[process_id] + ppf_lambda_QB * environmental_costs_std[process_id] for process_id in environmental_costs_std.keys()}\n",
    "    pulpo_worker.instance.ENV_COST_MATRIX.store_values(environmental_cost_updated, check=True)\n",
    "    # for process_id, environmental_cost in environmental_costs_std.items():\n",
    "    #     updated_environmental_cost = environmental_cost_mean[process_id] + ppf_lambda_QB * environmental_costs_std[process_id]\n",
    "    #     pulpo_worker.instance.ENV_COST_MATRIX[(process_id, method)].set_value(updated_environmental_cost)\n",
    "    pulpo_worker.solve()\n",
    "\n",
    "    result_data_CC[lambda_QB] = extract_results(pulpo_worker.instance, pulpo_worker.project, pulpo_worker.database, choices, {}, demand,\n",
    "                                pulpo_worker.lci_data['process_map'], pulpo_worker.lci_data['process_map_metadata'],\n",
    "                                pulpo_worker.lci_data['intervention_map'], pulpo_worker.lci_data['intervention_map_metadata'],\n",
    "                                pulpo_worker.directory, \"\")\n",
    "    "
   ]
  },
  {
   "cell_type": "markdown",
   "metadata": {},
   "source": [
    "#### 6.5.1. Look into how the probability levels influence the result"
   ]
  },
  {
   "cell_type": "markdown",
   "metadata": {},
   "source": [
    "The total impact of the result:"
   ]
  },
  {
   "cell_type": "code",
   "execution_count": 390,
   "metadata": {},
   "outputs": [],
   "source": [
    "def plot_CC_pareto_solution_bar_plots(data:pd.DataFrame, y_label:str):\n",
    "    \"\"\"\n",
    "        args:\n",
    "            data:       columns: lambdas, rows: QBs grouped by something\n",
    "    \"\"\"\n",
    "    \n",
    "    # set figure and plot\n",
    "    width = 6\n",
    "    height = 6\n",
    "    _, ax = plt.subplots(1, 1, figsize=(width,height))\n",
    "\n",
    "    data_cleaned = data.copy()\n",
    "    data_cleaned[data.abs() < data.abs().sum()/50] = 0\n",
    "    data_cleaned = data_cleaned.drop(index = data_cleaned.index[(data_cleaned == 0).all(axis=1)])\n",
    "    data_cleaned_scaled = data_cleaned.abs().divide(data_cleaned.abs().sum())\n",
    "    data_cumsum = data_cleaned_scaled.cumsum(axis=0)\n",
    "    width = .8\n",
    "    labels = [\"{:.3f}\".format(label) for label in data.columns.astype(float).values]\n",
    "    bottom_data = np.zeros(len(labels))\n",
    "    for i_row, (type, row_data) in enumerate(data_cumsum.iterrows()):\n",
    "        ax.bar(labels, row_data.values-bottom_data, width, bottom=bottom_data, label=type, color=mpl.cm.tab20.colors[i_row])\n",
    "        bottom_data = row_data.values\n",
    "    ax.axhline(y=0, color='k')\n",
    "    ax.set_xlabel(\"probability level ($\\lambda$)\")\n",
    "    ax.set_ylabel(\"{} in [\\%]\".format(y_label))\n",
    "    for tick in ax.get_xticklabels():\n",
    "        tick.set_rotation(45)"
   ]
  },
  {
   "cell_type": "code",
   "execution_count": 387,
   "metadata": {},
   "outputs": [
    {
     "name": "stdout",
     "output_type": "stream",
     "text": [
      "('IPCC 2013', 'climate change', 'GWP 100a')\n",
      "0.5: 15998358670.367128\n",
      "0.6: 16583975827.90842\n",
      "0.7: 17210521485.59533\n",
      "0.8: 17943783854.492004\n",
      "0.9: 18960692070.528236\n"
     ]
    }
   ],
   "source": [
    "impacts = {}\n",
    "print(method)\n",
    "for lambda_QB, result_data in result_data_CC.items():\n",
    "    impacts[lambda_QB] = result_data['impacts'].set_index('Key').loc[method,'Value']\n",
    "    print('{}: {}'.format(lambda_QB, impacts[lambda_QB]))\n"
   ]
  },
  {
   "cell_type": "markdown",
   "metadata": {},
   "source": [
    "The changs in the choices of the optimizer"
   ]
  },
  {
   "cell_type": "code",
   "execution_count": 253,
   "metadata": {},
   "outputs": [
    {
     "data": {
      "application/vnd.microsoft.datawrangler.viewer.v0+json": {
       "columns": [
        {
         "name": "index",
         "rawType": "object",
         "type": "string"
        },
        {
         "name": "('electricity', 'Process')",
         "rawType": "object",
         "type": "string"
        },
        {
         "name": "('electricity', 'Capacity')",
         "rawType": "float64",
         "type": "float"
        },
        {
         "name": "0.5 - electricity",
         "rawType": "float64",
         "type": "float"
        },
        {
         "name": "0.6 - electricity",
         "rawType": "float64",
         "type": "float"
        },
        {
         "name": "0.7 - electricity",
         "rawType": "float64",
         "type": "float"
        },
        {
         "name": "0.8 - electricity",
         "rawType": "float64",
         "type": "float"
        },
        {
         "name": "0.9 - electricity",
         "rawType": "float64",
         "type": "float"
        }
       ],
       "conversionMethod": "pd.DataFrame",
       "ref": "2311be58-db8f-4cb2-92f7-637d1d8ca3f6",
       "rows": [
        [
         "Process 0",
         "electricity production, hard coal | electricity, high voltage | DE",
         "1e+16",
         "-0.0",
         "-0.0",
         "-0.0",
         "-0.0",
         "-0.0"
        ],
        [
         "Process 1",
         "electricity production, nuclear, pressure water reactor | electricity, high voltage | DE",
         "1e+16",
         "83507290158.33316",
         "83507290158.32974",
         "83507290158.32974",
         "83507290158.33023",
         "83507290158.33011"
        ],
        [
         "Process 2",
         "electricity production, wind, 1-3MW turbine, onshore | electricity, high voltage | DE",
         "1e+16",
         "-0.0",
         "-0.0",
         "-0.0",
         "-0.0",
         "-0.0"
        ],
        [
         "Process 3",
         "electricity production, lignite | electricity, high voltage | DE",
         "1e+16",
         "-0.0",
         "-0.0",
         "-0.0",
         "-0.0",
         "-0.0"
        ]
       ],
       "shape": {
        "columns": 7,
        "rows": 4
       }
      },
      "text/html": [
       "<div>\n",
       "<style scoped>\n",
       "    .dataframe tbody tr th:only-of-type {\n",
       "        vertical-align: middle;\n",
       "    }\n",
       "\n",
       "    .dataframe tbody tr th {\n",
       "        vertical-align: top;\n",
       "    }\n",
       "\n",
       "    .dataframe thead th {\n",
       "        text-align: right;\n",
       "    }\n",
       "</style>\n",
       "<table border=\"1\" class=\"dataframe\">\n",
       "  <thead>\n",
       "    <tr style=\"text-align: right;\">\n",
       "      <th></th>\n",
       "      <th>(electricity, Process)</th>\n",
       "      <th>(electricity, Capacity)</th>\n",
       "      <th>0.5 - electricity</th>\n",
       "      <th>0.6 - electricity</th>\n",
       "      <th>0.7 - electricity</th>\n",
       "      <th>0.8 - electricity</th>\n",
       "      <th>0.9 - electricity</th>\n",
       "    </tr>\n",
       "  </thead>\n",
       "  <tbody>\n",
       "    <tr>\n",
       "      <th>Process 0</th>\n",
       "      <td>electricity production, hard coal | electricit...</td>\n",
       "      <td>1.000000e+16</td>\n",
       "      <td>-0.000000e+00</td>\n",
       "      <td>-0.000000e+00</td>\n",
       "      <td>-0.000000e+00</td>\n",
       "      <td>-0.000000e+00</td>\n",
       "      <td>-0.000000e+00</td>\n",
       "    </tr>\n",
       "    <tr>\n",
       "      <th>Process 1</th>\n",
       "      <td>electricity production, nuclear, pressure wate...</td>\n",
       "      <td>1.000000e+16</td>\n",
       "      <td>8.350729e+10</td>\n",
       "      <td>8.350729e+10</td>\n",
       "      <td>8.350729e+10</td>\n",
       "      <td>8.350729e+10</td>\n",
       "      <td>8.350729e+10</td>\n",
       "    </tr>\n",
       "    <tr>\n",
       "      <th>Process 2</th>\n",
       "      <td>electricity production, wind, 1-3MW turbine, o...</td>\n",
       "      <td>1.000000e+16</td>\n",
       "      <td>-0.000000e+00</td>\n",
       "      <td>-0.000000e+00</td>\n",
       "      <td>-0.000000e+00</td>\n",
       "      <td>-0.000000e+00</td>\n",
       "      <td>-0.000000e+00</td>\n",
       "    </tr>\n",
       "    <tr>\n",
       "      <th>Process 3</th>\n",
       "      <td>electricity production, lignite | electricity,...</td>\n",
       "      <td>1.000000e+16</td>\n",
       "      <td>-0.000000e+00</td>\n",
       "      <td>-0.000000e+00</td>\n",
       "      <td>-0.000000e+00</td>\n",
       "      <td>-0.000000e+00</td>\n",
       "      <td>-0.000000e+00</td>\n",
       "    </tr>\n",
       "  </tbody>\n",
       "</table>\n",
       "</div>"
      ],
      "text/plain": [
       "                                      (electricity, Process)  \\\n",
       "Process 0  electricity production, hard coal | electricit...   \n",
       "Process 1  electricity production, nuclear, pressure wate...   \n",
       "Process 2  electricity production, wind, 1-3MW turbine, o...   \n",
       "Process 3  electricity production, lignite | electricity,...   \n",
       "\n",
       "           (electricity, Capacity)  0.5 - electricity  0.6 - electricity  \\\n",
       "Process 0             1.000000e+16      -0.000000e+00      -0.000000e+00   \n",
       "Process 1             1.000000e+16       8.350729e+10       8.350729e+10   \n",
       "Process 2             1.000000e+16      -0.000000e+00      -0.000000e+00   \n",
       "Process 3             1.000000e+16      -0.000000e+00      -0.000000e+00   \n",
       "\n",
       "           0.7 - electricity  0.8 - electricity  0.9 - electricity  \n",
       "Process 0      -0.000000e+00      -0.000000e+00      -0.000000e+00  \n",
       "Process 1       8.350729e+10       8.350729e+10       8.350729e+10  \n",
       "Process 2      -0.000000e+00      -0.000000e+00      -0.000000e+00  \n",
       "Process 3      -0.000000e+00      -0.000000e+00      -0.000000e+00  "
      ]
     },
     "execution_count": 253,
     "metadata": {},
     "output_type": "execute_result"
    }
   ],
   "source": [
    "# [result_data['choices'].rename({varname: f'{lambda_QB} - {varname}' for varname in result_data['choices'].columns.get_level_values(0)}, level=0, axis='columns') for lambda_QB, result_data in result_data_CC.items()]\n",
    "choices_CC = pd.concat(\n",
    "    [result_data_CC[list(result_data_CC.keys())[0]]['choices'][[('electricity', 'Process'), ('electricity', 'Capacity')]]] + \n",
    "    [result_data['choices'][('electricity', 'Value')].rename(f'{lambda_QB} - electricity', level=0) for lambda_QB, result_data in result_data_CC.items()]\n",
    "    , axis=1\n",
    "    )\n",
    "choices_CC "
   ]
  },
  {
   "cell_type": "markdown",
   "metadata": {},
   "source": [
    "Changes in the scaling vector and the characterized and scaled inventories"
   ]
  },
  {
   "cell_type": "code",
   "execution_count": 389,
   "metadata": {},
   "outputs": [
    {
     "name": "stdout",
     "output_type": "stream",
     "text": [
      "lambda_1: 0.5\n",
      "lambda_2: 0.6\n",
      "\n",
      "Amount of process scaling variables that changed:\n",
      "89: >1% \n",
      "53: >10%\n",
      "30: >100%\n",
      "24: >1000%\n",
      "\n",
      "Amount of process characterized scaling variables (impacts per process) that changed:\n",
      "0: >1% \n",
      "0: >10%\n",
      "0: >100%\n",
      "0: >1000%\n",
      "\n",
      "7.63163e-12: is the maximum impact change in one process\n",
      "4.01645e-11: is the total impact change\n",
      "\n",
      "The relative change of the scaling vector (s_lambda_1 - s_lambda_2)/s_lambda_1:\n",
      "\n",
      "treatment of used purse seiner, wood | used purse seiner, wood | RLA                                                                   inf\n",
      "treatment of used purse seiner, wood | used purse seiner, wood | RoW                                                                   inf\n",
      "ethanol production from wood | ethanol, without water, in 95% solution state, from fermentation | CH                                   inf\n",
      "market for used purse seiner, wood | used purse seiner, wood | GLO                                                                     inf\n",
      "operation, housing system, cattle, tied | operation, housing system, cattle, tied, per animal unit | RoW                               inf\n",
      "maize grain processing, dry milling | maize chop | ZA                                                                         6.456631e+04\n",
      "synthetic gas factory construction | synthetic gas factory | RoW                                                              1.946896e+03\n",
      "ethanol production from maize | ethanol, without water, in 95% solution state, from fermentation | RoW                        9.288075e+02\n",
      "market for roof tile | roof tile | GLO                                                                                        6.157521e+01\n",
      "treatment of waste sealing sheet, polyvinylchloride, municipal incineration | waste sealing sheet, polyvinylchloride | RoW    6.157521e+01\n",
      "Name: Value, dtype: float64\n",
      "\n",
      "---\n",
      "\n",
      "The relative change of the characterized scaling vector (s_lambda_1 - s_lambda_2)*QB_s / QBs:\n",
      "\n",
      "soybean production | soybean | RoW                                                                                                                        7.631630e-12\n",
      "electricity production, hard coal, conventional | electricity, high voltage | ZA                                                                          4.304443e-12\n",
      "clear-cutting, secondary forest to arable land, annual crop | land tenure, arable land, measured as carbon net primary productivity, annual crop | AR     2.771497e-12\n",
      "polymethyl methacrylate production, sheet | polymethyl methacrylate, sheet | RoW                                                                          1.938687e-12\n",
      "fluorescent whitening agent production, DAS1, triazinylaminostilben type | fluorescent whitening agent, DAS1, triazinylaminostilben type | RoW            1.808626e-12\n",
      "quicklime production, in pieces, loose | quicklime, in pieces, loose | CH                                                                                 1.666321e-12\n",
      "heat production, light fuel oil, at boiler 100kW, non-modulating | heat, central or small-scale, other than natural gas | Europe without Switzerland      1.308759e-12\n",
      "polymethyl methacrylate production, sheet | polymethyl methacrylate, sheet | RER                                                                          9.574360e-13\n",
      "clear-cutting, primary forest to arable land, annual crop | land tenure, arable land, measured as carbon net primary productivity, annual crop | BR-MT    8.971030e-13\n",
      "treatment of waste plastic, consumer electronics, municipal incineration | waste plastic, consumer electronics | RoW                                      8.847791e-13\n",
      "dtype: float64\n",
      "\n",
      "---\n",
      "\n",
      "lambda_1: 0.6\n",
      "lambda_2: 0.7\n",
      "\n",
      "Amount of process scaling variables that changed:\n",
      "0: >1% \n",
      "0: >10%\n",
      "0: >100%\n",
      "0: >1000%\n",
      "\n",
      "Amount of process characterized scaling variables (impacts per process) that changed:\n",
      "0: >1% \n",
      "0: >10%\n",
      "0: >100%\n",
      "0: >1000%\n",
      "\n",
      "0.00000e+00: is the maximum impact change in one process\n",
      "0.00000e+00: is the total impact change\n",
      "\n",
      "The relative change of the scaling vector (s_lambda_1 - s_lambda_2)/s_lambda_1:\n",
      "\n",
      "water production, decarbonised | water, decarbonised | DE                                                                                                                                               0.0\n",
      "potassium hydroxide production | hydrogen, liquid | RER                                                                                                                                                 0.0\n",
      "heat and power co-generation, natural gas, 160kW electrical, lambda=1 | heat, central or small-scale, natural gas | CH                                                                                  0.0\n",
      "electricity production, photovoltaic, 3kWp slanted-roof installation, multi-Si, panel, mounted | electricity, low voltage | MK                                                                          0.0\n",
      "electricity production, natural gas, combined cycle power plant | electricity, high voltage | NO                                                                                                        0.0\n",
      "wood preservation, vacuum pressure method, organic salt, Cr-free, outdoor use, ground contact | wood preservation, vacuum pressure method, organic salts, Cr-free, outdoor use, ground contact | RoW    0.0\n",
      "electricity production, photovoltaic, 570kWp open ground installation, multi-Si | electricity, low voltage | CA-AB                                                                                      0.0\n",
      "carboxymethyl cellulose production, powder | carboxymethyl cellulose, powder | RoW                                                                                                                      0.0\n",
      "market for energy and auxilliary inputs, metal working machine | energy and auxilliary inputs, metal working machine | RER                                                                              0.0\n",
      "market for energy and auxilliary inputs, metal working factory | energy and auxilliary inputs, metal working factory | RER                                                                              0.0\n",
      "Name: Value, dtype: float64\n",
      "\n",
      "---\n",
      "\n",
      "The relative change of the characterized scaling vector (s_lambda_1 - s_lambda_2)*QB_s / QBs:\n",
      "\n",
      "water production, decarbonised | water, decarbonised | DE                                                                                                                                                  0.0\n",
      "treatment of fly ash and scrubber sludge, hazardous waste incineration, with energy recovery | heat, for reuse in municipal waste incineration only | CH                                                   0.0\n",
      "wood preservation, dipping/immersion, solvent-based preservative, indoor use, occasionally wet | wood preservation, dipping/immersion method, organic solvent-based, indoor use, occasionally wet | RER    0.0\n",
      "tuna, capture by purse seiner and landing whole, frozen | small pelagic fish, fresh | EC                                                                                                                   0.0\n",
      "thermal storage system construction, solar tower power plant, 20 MW | thermal storage system, solar tower power plant, 20 MW | ZA                                                                          0.0\n",
      "heat and power co-generation, wood chips, 6667 kW, state-of-the-art 2014 | heat, district or industrial, other than natural gas | BG                                                                       0.0\n",
      "treatment of used cathode ray tube display, manual dismantling | used cathode ray tube display | CH                                                                                                        0.0\n",
      "treatment of used insulation spiral-seam duct, rockwool, DN 400, 30 mm | used insulation spiral-seam duct rockwool, DN 400 | RoW                                                                           0.0\n",
      "market for used liquid crystal display module | used liquid crystal display module | RoW                                                                                                                   0.0\n",
      "sunflower production | sunflower seed | FR                                                                                                                                                                 0.0\n",
      "dtype: float64\n",
      "\n",
      "---\n",
      "\n",
      "lambda_1: 0.7\n",
      "lambda_2: 0.8\n",
      "\n",
      "Amount of process scaling variables that changed:\n",
      "46: >1% \n",
      "38: >10%\n",
      "26: >100%\n",
      "6: >1000%\n",
      "\n",
      "Amount of process characterized scaling variables (impacts per process) that changed:\n",
      "0: >1% \n",
      "0: >10%\n",
      "0: >100%\n",
      "0: >1000%\n",
      "\n",
      "2.83859e-13: is the maximum impact change in one process\n",
      "4.16130e-12: is the total impact change\n",
      "\n",
      "The relative change of the scaling vector (s_lambda_1 - s_lambda_2)/s_lambda_1:\n",
      "\n",
      "ethanol production from wood | ethanol, without water, in 95% solution state, from fermentation | RoW                                          inf\n",
      "beet sugar production | molasses, from sugar beet | RoW                                                                                  22.021645\n",
      "market for molasses, from sugar beet | molasses, from sugar beet | GLO                                                                   22.021645\n",
      "vinasse, from fermentation of sugar beet molasses, Recycled Content cut-off | vinasse, from fermentation of sugar beet molasses | GLO    22.021645\n",
      "ethanol production from sugar beet molasses | ethanol, without water, in 95% solution state, from fermentation | RoW                     22.021645\n",
      "beet sugar production | molasses, from sugar beet | CH                                                                                   22.021645\n",
      "operation, housing system, cattle, tied | operation, housing system, cattle, tied, per animal unit | CA-QC                                6.368365\n",
      "market for diesel, burned in fishing vessel | diesel, burned in fishing vessel | GLO                                                      4.554937\n",
      "diesel, burned in fishing vessel | diesel, burned in fishing vessel | GLO                                                                 4.554937\n",
      "synthetic gas factory construction | synthetic gas factory | RoW                                                                          1.846482\n",
      "Name: Value, dtype: float64\n",
      "\n",
      "---\n",
      "\n",
      "The relative change of the characterized scaling vector (s_lambda_1 - s_lambda_2)*QB_s / QBs:\n",
      "\n",
      "treatment of waste plastic, consumer electronics, municipal incineration | waste plastic, consumer electronics | RoW                              2.838594e-13\n",
      "fluorescent whitening agent production, distyrylbiphenyl type | fluorescent whitening agent, distyrylbiphenyl type | RER                          2.585823e-13\n",
      "quicklime production, in pieces, loose | quicklime, in pieces, loose | CH                                                                         1.574687e-13\n",
      "natural gas liquids production | helium, crude | GLO                                                                                              1.487988e-13\n",
      "transport, freight, lorry >32 metric ton, EURO4 | transport, freight, lorry >32 metric ton, EURO4 | RoW                                           1.218881e-13\n",
      "fluorescent whitening agent production, DAS1, triazinylaminostilben type | fluorescent whitening agent, DAS1, triazinylaminostilben type | RER    1.055914e-13\n",
      "natural gas production | natural gas, high pressure | US                                                                                          1.024603e-13\n",
      "natural gas production, unprocessed, at extraction | natural gas, unprocessed, at extraction | GLO                                                9.130991e-14\n",
      "fluorescent whitening agent production, DAS1, triazinylaminostilben type | fluorescent whitening agent, DAS1, triazinylaminostilben type | RoW    9.074694e-14\n",
      "heat production, at hard coal industrial furnace 1-10MW | heat, district or industrial, other than natural gas | RoW                              8.405021e-14\n",
      "dtype: float64\n",
      "\n",
      "---\n",
      "\n",
      "lambda_1: 0.8\n",
      "lambda_2: 0.9\n",
      "\n",
      "Amount of process scaling variables that changed:\n",
      "53: >1% \n",
      "46: >10%\n",
      "21: >100%\n",
      "4: >1000%\n",
      "\n",
      "Amount of process characterized scaling variables (impacts per process) that changed:\n",
      "0: >1% \n",
      "0: >10%\n",
      "0: >100%\n",
      "0: >1000%\n",
      "\n",
      "5.66269e-13: is the maximum impact change in one process\n",
      "3.42632e-12: is the total impact change\n",
      "\n",
      "The relative change of the scaling vector (s_lambda_1 - s_lambda_2)/s_lambda_1:\n",
      "\n",
      "operation, housing system, cattle, tied | operation, housing system, cattle, tied, per animal unit | RoW                                                   inf\n",
      "meat and bone meal to generic market for protein feed | protein feed, 100% crude | CH                                                                      inf\n",
      "ethanol production from sweet sorghum | ethanol, without water, in 95% solution state, from fermentation | RoW                                       20.255162\n",
      "sugarcane processing, traditional annexed plant | ethanol, without water, in 95% solution state, from fermentation | RoW                             13.613087\n",
      "diesel, burned in fishing vessel | diesel, burned in fishing vessel | GLO                                                                             7.126355\n",
      "market for diesel, burned in fishing vessel | diesel, burned in fishing vessel | GLO                                                                  7.126355\n",
      "paper machine production | paper machine | RoW                                                                                                        5.425080\n",
      "market for waste sealing sheet, polyvinylchloride | waste sealing sheet, polyvinylchloride | RoW                                                      4.864096\n",
      "treatment of waste sealing sheet, polyvinylchloride, municipal incineration | waste sealing sheet, polyvinylchloride | RoW                            4.864096\n",
      "treatment of waste sealing sheet, polyvinylchloride, municipal incineration with fly ash extraction | waste sealing sheet, polyvinylchloride | CH     4.864096\n",
      "Name: Value, dtype: float64\n",
      "\n",
      "---\n",
      "\n",
      "The relative change of the characterized scaling vector (s_lambda_1 - s_lambda_2)*QB_s / QBs:\n",
      "\n",
      "fluorescent whitening agent production, DAS1, triazinylaminostilben type | fluorescent whitening agent, DAS1, triazinylaminostilben type | RoW    5.662693e-13\n",
      "treatment of waste plastic, consumer electronics, municipal incineration | waste plastic, consumer electronics | RoW                              2.157248e-13\n",
      "natural gas liquids production | helium, crude | GLO                                                                                              1.455719e-13\n",
      "quicklime production, in pieces, loose | quicklime, in pieces, loose | CH                                                                         1.144747e-13\n",
      "styrene-acrylonitrile copolymer production | styrene-acrylonitrile copolymer | RoW                                                                1.012374e-13\n",
      "natural gas production | natural gas, high pressure | US                                                                                          9.383658e-14\n",
      "electricity production, hard coal | electricity, high voltage | CN-NM                                                                             9.206419e-14\n",
      "natural gas production, unprocessed, at extraction | natural gas, unprocessed, at extraction | GLO                                                8.728556e-14\n",
      "transport, freight, lorry >32 metric ton, EURO4 | transport, freight, lorry >32 metric ton, EURO4 | RoW                                           7.981782e-14\n",
      "quicklime production, in pieces, loose | quicklime, in pieces, loose | RoW                                                                        7.666294e-14\n",
      "dtype: float64\n",
      "\n",
      "---\n",
      "\n"
     ]
    }
   ],
   "source": [
    "for lambda_1, lambda_2 in zip(lambda_array[:len(lambda_array)-1], lambda_array[1:len(lambda_array)]):\n",
    "    print(f'lambda_1: {lambda_1}\\nlambda_2: {lambda_2}\\n')\n",
    "    scaling_vector_diff = ((result_data_CC[lambda_1]['scaling_vector']['Value'] - result_data_CC[lambda_2]['scaling_vector']['Value']))\n",
    "    scaling_vector_ratio = (scaling_vector_diff / result_data_CC[lambda_1]['scaling_vector']['Value']).abs().sort_values(ascending=False)\n",
    "    characterized_scaling_vector_diff = (scaling_vector_diff * pd.Series(environmental_cost_mean).reindex(scaling_vector_diff.index))\n",
    "    characterized_scaling_vector_diff_relative = (characterized_scaling_vector_diff / result_data_CC[lambda_1]['impacts'].set_index('Key').loc[method, 'Value']).abs().sort_values(ascending=False)\n",
    "\n",
    "    print('Amount of process scaling variables that changed:\\n{}: >1% \\n{}: >10%\\n{}: >100%\\n{}: >1000%\\n'.format((scaling_vector_ratio > 0.01).sum(), (scaling_vector_ratio > 0.1).sum(), (scaling_vector_ratio > 1).sum(), (scaling_vector_ratio > 10).sum()))\n",
    "    print('Amount of process characterized scaling variables (impacts per process) that changed:\\n{}: >1% \\n{}: >10%\\n{}: >100%\\n{}: >1000%\\n'.format((characterized_scaling_vector_diff_relative > 0.01).sum(), (characterized_scaling_vector_diff_relative > 0.1).sum(), (characterized_scaling_vector_diff_relative > 1).sum(), (characterized_scaling_vector_diff_relative > 10).sum()))\n",
    "    print('{:.5e}: is the maximum impact change in one process\\n{:.5e}: is the total impact change\\n'.format(characterized_scaling_vector_diff_relative.max(), characterized_scaling_vector_diff_relative.sum()))\n",
    "\n",
    "    amount_of_rows_for_visiualization = 10\n",
    "    print('The relative change of the scaling vector (s_lambda_1 - s_lambda_2)/s_lambda_1:\\n')\n",
    "    print(scaling_vector_ratio.iloc[:amount_of_rows_for_visiualization].rename(result_data_CC[lambda_2]['scaling_vector']['Process metadata']).sort_values(ascending=False))\n",
    "    print('\\n---\\n')\n",
    "    print('The relative change of the characterized scaling vector (s_lambda_1 - s_lambda_2)*QB_s / QBs:\\n')\n",
    "    print(characterized_scaling_vector_diff_relative.iloc[:amount_of_rows_for_visiualization].rename(result_data_CC[lambda_2]['scaling_vector']['Process metadata']))\n",
    "    print('\\n---\\n')"
   ]
  },
  {
   "cell_type": "code",
   "execution_count": 402,
   "metadata": {},
   "outputs": [
    {
     "name": "stdout",
     "output_type": "stream",
     "text": [
      "0.7512865639842483\n",
      "0.7512865640019921\n",
      "0.7512865640019921\n",
      "0.7512865639997521\n",
      "0.7512865640001211\n"
     ]
    }
   ],
   "source": [
    "amount_of_processes_in_diagram = 10\n",
    "data_QBs_list = []\n",
    "for lambda_1 in lambda_array:\n",
    "    QBs = result_data_CC[lambda_1]['scaling_vector']['Value'] * pd.Series(environmental_cost_mean).reindex(result_data_CC[lambda_1]['scaling_vector']['Value'].index)\n",
    "    data_QBs_list.append(QBs.sort_values(ascending=False).iloc[:amount_of_processes_in_diagram])\n",
    "    print(QBs.sort_values(ascending=False).iloc[:amount_of_processes_in_diagram].sum()/QBs.sum())\n",
    "data_QBs = pd.concat(data_QBs_list, axis=1)\n",
    "data_QBs.columns = lambda_array.astype(str)"
   ]
  },
  {
   "cell_type": "code",
   "execution_count": 399,
   "metadata": {},
   "outputs": [
    {
     "data": {
      "image/png": "[encoded data removed]",
      "text/plain": [
       "<Figure size 600x600 with 1 Axes>"
      ]
     },
     "metadata": {},
     "output_type": "display_data"
    }
   ],
   "source": [
    "plot_CC_pareto_solution_bar_plots(data_QBs, method)"
   ]
  },
  {
   "cell_type": "markdown",
   "metadata": {},
   "source": [
    "TO DO:\n",
    "- Extract environmental costs from pyomo"
   ]
  },
  {
   "cell_type": "markdown",
   "metadata": {},
   "source": []
  }
 ],
 "metadata": {
  "kernelspec": {
   "display_name": "pulpo_dev",
   "language": "python",
   "name": "python3"
  },
  "language_info": {
   "codemirror_mode": {
    "name": "ipython",
    "version": 3
   },
   "file_extension": ".py",
   "mimetype": "text/x-python",
   "name": "python",
   "nbconvert_exporter": "python",
   "pygments_lexer": "ipython3",
   "version": "3.10.0"
  },
  "orig_nbformat": 4
 },
 "nbformat": 4,
 "nbformat_minor": 2
}
