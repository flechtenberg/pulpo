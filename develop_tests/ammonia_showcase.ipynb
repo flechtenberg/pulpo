{
 "cells": [
  {
   "cell_type": "code",
   "execution_count": 1,
   "metadata": {},
   "outputs": [],
   "source": [
    "import os\n",
    "import sys\n",
    "sys.path.append('../')\n",
    "from pulpo import pulpo\n",
    "\n",
    "import pandas as pd\n",
    "pd.set_option('display.max_colwidth', None)"
   ]
  },
  {
   "cell_type": "markdown",
   "metadata": {},
   "source": [
    "### Setup the Worker"
   ]
  },
  {
   "cell_type": "code",
   "execution_count": 2,
   "metadata": {},
   "outputs": [],
   "source": [
    "project = \"pulpo-ammonia\"\n",
    "databases = [\"nc-inventories-ei310-all\", \"ecoinvent-3.10-cutoff\"]\n",
    "methods = \"('IPCC 2021', 'climate change', 'GWP 100a, incl. H and bio CO2')\""
   ]
  },
  {
   "cell_type": "code",
   "execution_count": 3,
   "metadata": {},
   "outputs": [],
   "source": [
    "# Substitute with your working directory of choice\n",
    "notebook_dir = os.path.dirname(os.getcwd())\n",
    "directory = os.path.join(notebook_dir, 'data')\n",
    "\n",
    "# Substitute with your GAMS path\n",
    "GAMS_PATH = r\"C:\\APPS\\GAMS\\win64\\40.1\\gams.exe\""
   ]
  },
  {
   "cell_type": "code",
   "execution_count": 4,
   "metadata": {},
   "outputs": [],
   "source": [
    "pulpo_worker = pulpo.PulpoOptimizer(project, databases, methods, directory)\n",
    "pulpo_worker.intervention_matrix=\"ecoinvent-3.10-biosphere\""
   ]
  },
  {
   "cell_type": "code",
   "execution_count": 5,
   "metadata": {},
   "outputs": [],
   "source": [
    "pulpo_worker.get_lci_data()"
   ]
  },
  {
   "cell_type": "markdown",
   "metadata": {},
   "source": [
    "### Get the Choices"
   ]
  },
  {
   "cell_type": "code",
   "execution_count": 6,
   "metadata": {},
   "outputs": [],
   "source": [
    "choices_biogas = [\n",
    "    \"anaerobic digestion of animal manure, with biogenic carbon uptake\",\n",
    "    \"anaerobic digestion of agricultural residues, with biogenic carbon uptake\",\n",
    "    \"treatment of sewage sludge by anaerobic digestion, cut-off with biogenic carbon uptake\",\n",
    "    \"treatment of industrial wastewater by anaerobic digestion, cut-off with biogenic carbon uptake\",\n",
    "    \"treatment of biowaste by anaerobic digestion, cut-off with biogenic carbon uptake\",\n",
    "    \"anaerobic digestion of sequential crop, with biogenic carbon uptake\"\n",
    "]\n",
    "\n",
    "choices_hydrogen = [\n",
    "    \"hydrogen production, biomass gasification\",\n",
    "    \"hydrogen production, biomass gasification, with CCS\",\n",
    "    \"hydrogen production, steam methane reforming of biomethane\",\n",
    "    \"hydrogen production, steam methane reforming of biomethane, with CCS\",\n",
    "    \"hydrogen production, steam methane reforming of natural gas, with CCS\",\n",
    "    \"hydrogen production, PEM electrolysis, green\",\n",
    "    \"green hydrogen\",\n",
    "    \"hydrogen production, plastics gasification\",\n",
    "    \"hydrogen production, plastics gasification, with CCS\"\n",
    "]\n",
    "\n",
    "choices_heat = [\n",
    "    \"heat from biomethane\",\n",
    "    \"heat from biomethane, with CCS\",\n",
    "    \"heat from hydrogen\",\n",
    "    \"heat from natural gas, with CCS\"\n",
    "]\n",
    "\n",
    "choices_ammonia = [\n",
    "    \"ammonia production, steam methane reforming of biomethane\",\n",
    "    \"ammonia production, steam methane reforming of biomethane, with CCS\",\n",
    "    \"ammonia production, steam methane reforming of natural gas, with CCS\",\n",
    "    \"ammonia production, from nitrogen and hydrogen\"\n",
    "]\n",
    "\n",
    "choices_biomethane = [\n",
    "    \"biogas upgrading to biomethane, chemical scrubbing\",\n",
    "    \"biogas upgrading to biomethane, chemical scrubbing w/ CCS\",\n",
    "    \"biogas upgrading to biomethane, membrane\",\n",
    "    \"biogas upgrading to biomethane, membrane w/ CCS\",\n",
    "    \"biogas upgrading to biomethane, pressure swing adsorption\",\n",
    "    \"biogas upgrading to biomethane, pressure swing adsorption w/ CCS\",\n",
    "    \"biogas upgrading to biomethane, water scrubbing\",\n",
    "    \"biogas upgrading to biomethane, water scrubbing w/ CCS\"\n",
    "]"
   ]
  },
  {
   "cell_type": "code",
   "execution_count": 7,
   "metadata": {},
   "outputs": [],
   "source": [
    "# Retrieve activities for each category\n",
    "biogas_activities = pulpo_worker.retrieve_activities(activities=choices_biogas)\n",
    "hydrogen_activities = pulpo_worker.retrieve_activities(activities=choices_hydrogen)\n",
    "heat_activities = pulpo_worker.retrieve_activities(activities=choices_heat)\n",
    "biomethane_activities = pulpo_worker.retrieve_activities(activities=choices_biomethane)\n",
    "\n",
    "ammonia_activities = pulpo_worker.retrieve_activities(activities=choices_ammonia)\n",
    "# Add BAU Ammonia from ecoinvent as choice\n",
    "ammonia_activities.append(pulpo_worker.retrieve_activities(reference_products=\"ammonia, anhydrous, liquid\", activities=\"ammonia production, steam reforming, liquid\", locations=\"RER w/o RU\")[0])"
   ]
  },
  {
   "cell_type": "code",
   "execution_count": 8,
   "metadata": {},
   "outputs": [],
   "source": [
    "choices = {\n",
    "    \"biogas\": {x: 1e10 for x in biogas_activities},\n",
    "    \"hydrogen\": {x: 1e10 for x in hydrogen_activities},\n",
    "    \"heat\": {x: 1e10 for x in heat_activities},\n",
    "    \"biomethane\": {x: 1e10 for x in biomethane_activities},\n",
    "    \"ammonia\": {x: 1e10 for x in ammonia_activities},\n",
    "}"
   ]
  },
  {
   "cell_type": "markdown",
   "metadata": {},
   "source": [
    "### Demand"
   ]
  },
  {
   "cell_type": "code",
   "execution_count": 9,
   "metadata": {},
   "outputs": [],
   "source": [
    "ammonia_market = pulpo_worker.retrieve_activities(activities=\"new market for ammonia\")"
   ]
  },
  {
   "cell_type": "code",
   "execution_count": 10,
   "metadata": {},
   "outputs": [],
   "source": [
    "demand = {ammonia_market[0]: 1}"
   ]
  },
  {
   "cell_type": "markdown",
   "metadata": {},
   "source": [
    "### Instantiate and Solve"
   ]
  },
  {
   "cell_type": "code",
   "execution_count": 11,
   "metadata": {},
   "outputs": [
    {
     "name": "stdout",
     "output_type": "stream",
     "text": [
      "Creating Instance\n",
      "Instance created\n"
     ]
    }
   ],
   "source": [
    "instance = pulpo_worker.instantiate(choices=choices, demand=demand)"
   ]
  },
  {
   "cell_type": "code",
   "execution_count": 12,
   "metadata": {},
   "outputs": [
    {
     "name": "stdout",
     "output_type": "stream",
     "text": [
      "GAMS solvers library availability: True\n",
      "Solver path: C:\\APPS\\GAMS\\win64\\40.1\\gams.exe\n",
      "\n",
      "GAMS WORKING DIRECTORY: C:\\Users\\FLECHT~1\\AppData\\Local\\Temp\\tmp9mt0pqru\n",
      "\n"
     ]
    }
   ],
   "source": [
    "results = pulpo_worker.solve(GAMS_PATH=GAMS_PATH)"
   ]
  },
  {
   "cell_type": "code",
   "execution_count": 13,
   "metadata": {},
   "outputs": [],
   "source": [
    "pulpo_worker.save_results(choices=choices, demand=demand, name='global_ammonia_showcase.xlsx')"
   ]
  },
  {
   "cell_type": "code",
   "execution_count": 14,
   "metadata": {},
   "outputs": [
    {
     "name": "stdout",
     "output_type": "stream",
     "text": [
      "The following demand / functional unit has been specified: \n"
     ]
    },
    {
     "data": {
      "text/html": [
       "<div>\n",
       "<style scoped>\n",
       "    .dataframe tbody tr th:only-of-type {\n",
       "        vertical-align: middle;\n",
       "    }\n",
       "\n",
       "    .dataframe tbody tr th {\n",
       "        vertical-align: top;\n",
       "    }\n",
       "\n",
       "    .dataframe thead th {\n",
       "        text-align: right;\n",
       "    }\n",
       "</style>\n",
       "<table border=\"1\" class=\"dataframe\">\n",
       "  <thead>\n",
       "    <tr style=\"text-align: right;\">\n",
       "      <th></th>\n",
       "      <th>Demand</th>\n",
       "    </tr>\n",
       "  </thead>\n",
       "  <tbody>\n",
       "    <tr>\n",
       "      <th>new market for ammonia | ammonia | GLO</th>\n",
       "      <td>1</td>\n",
       "    </tr>\n",
       "  </tbody>\n",
       "</table>\n",
       "</div>"
      ],
      "text/plain": [
       "                                        Demand\n",
       "new market for ammonia | ammonia | GLO       1"
      ]
     },
     "metadata": {},
     "output_type": "display_data"
    },
    {
     "name": "stdout",
     "output_type": "stream",
     "text": [
      "\n",
      "These are the impacts contained in the objective:\n"
     ]
    },
    {
     "data": {
      "text/html": [
       "<div>\n",
       "<style scoped>\n",
       "    .dataframe tbody tr th:only-of-type {\n",
       "        vertical-align: middle;\n",
       "    }\n",
       "\n",
       "    .dataframe tbody tr th {\n",
       "        vertical-align: top;\n",
       "    }\n",
       "\n",
       "    .dataframe thead th {\n",
       "        text-align: right;\n",
       "    }\n",
       "</style>\n",
       "<table border=\"1\" class=\"dataframe\">\n",
       "  <thead>\n",
       "    <tr style=\"text-align: right;\">\n",
       "      <th></th>\n",
       "      <th>Key</th>\n",
       "      <th>Value</th>\n",
       "    </tr>\n",
       "  </thead>\n",
       "  <tbody>\n",
       "    <tr>\n",
       "      <th>0</th>\n",
       "      <td>('IPCC 2021', 'climate change', 'GWP 100a, incl. H and bio CO2')</td>\n",
       "      <td>-2.969939</td>\n",
       "    </tr>\n",
       "  </tbody>\n",
       "</table>\n",
       "</div>"
      ],
      "text/plain": [
       "                                                                Key     Value\n",
       "0  ('IPCC 2021', 'climate change', 'GWP 100a, incl. H and bio CO2') -2.969939"
      ]
     },
     "metadata": {},
     "output_type": "display_data"
    },
    {
     "name": "stdout",
     "output_type": "stream",
     "text": [
      "\n",
      "The following choices were made: \n",
      "biogas\n"
     ]
    },
    {
     "data": {
      "text/html": [
       "<div>\n",
       "<style scoped>\n",
       "    .dataframe tbody tr th:only-of-type {\n",
       "        vertical-align: middle;\n",
       "    }\n",
       "\n",
       "    .dataframe tbody tr th {\n",
       "        vertical-align: top;\n",
       "    }\n",
       "\n",
       "    .dataframe thead tr th {\n",
       "        text-align: left;\n",
       "    }\n",
       "</style>\n",
       "<table border=\"1\" class=\"dataframe\">\n",
       "  <thead>\n",
       "    <tr>\n",
       "      <th></th>\n",
       "      <th colspan=\"3\" halign=\"left\">biogas</th>\n",
       "    </tr>\n",
       "    <tr>\n",
       "      <th></th>\n",
       "      <th>Process</th>\n",
       "      <th>Capacity</th>\n",
       "      <th>Value</th>\n",
       "    </tr>\n",
       "  </thead>\n",
       "  <tbody>\n",
       "    <tr>\n",
       "      <th>Process 0</th>\n",
       "      <td>treatment of biowaste by anaerobic digestion, cut-off with biogenic carbon uptake | biogas | GLO</td>\n",
       "      <td>1.000000e+10</td>\n",
       "      <td>1.091972</td>\n",
       "    </tr>\n",
       "  </tbody>\n",
       "</table>\n",
       "</div>"
      ],
      "text/plain": [
       "                                                                                                     biogas  \\\n",
       "                                                                                                    Process   \n",
       "Process 0  treatment of biowaste by anaerobic digestion, cut-off with biogenic carbon uptake | biogas | GLO   \n",
       "\n",
       "                                   \n",
       "               Capacity     Value  \n",
       "Process 0  1.000000e+10  1.091972  "
      ]
     },
     "metadata": {},
     "output_type": "display_data"
    },
    {
     "name": "stdout",
     "output_type": "stream",
     "text": [
      "hydrogen\n"
     ]
    },
    {
     "data": {
      "text/html": [
       "<div>\n",
       "<style scoped>\n",
       "    .dataframe tbody tr th:only-of-type {\n",
       "        vertical-align: middle;\n",
       "    }\n",
       "\n",
       "    .dataframe tbody tr th {\n",
       "        vertical-align: top;\n",
       "    }\n",
       "\n",
       "    .dataframe thead tr th {\n",
       "        text-align: left;\n",
       "    }\n",
       "</style>\n",
       "<table border=\"1\" class=\"dataframe\">\n",
       "  <thead>\n",
       "    <tr>\n",
       "      <th></th>\n",
       "      <th colspan=\"3\" halign=\"left\">hydrogen</th>\n",
       "    </tr>\n",
       "    <tr>\n",
       "      <th></th>\n",
       "      <th>Process</th>\n",
       "      <th>Capacity</th>\n",
       "      <th>Value</th>\n",
       "    </tr>\n",
       "  </thead>\n",
       "  <tbody>\n",
       "    <tr>\n",
       "      <th>Process 0</th>\n",
       "      <td>hydrogen production, biomass gasification, with CCS | hydrogen production, biomass gasification, with CCS | GLO</td>\n",
       "      <td>1.000000e+10</td>\n",
       "      <td>0.12239</td>\n",
       "    </tr>\n",
       "  </tbody>\n",
       "</table>\n",
       "</div>"
      ],
      "text/plain": [
       "                                                                                                                  hydrogen  \\\n",
       "                                                                                                                   Process   \n",
       "Process 0  hydrogen production, biomass gasification, with CCS | hydrogen production, biomass gasification, with CCS | GLO   \n",
       "\n",
       "                                  \n",
       "               Capacity    Value  \n",
       "Process 0  1.000000e+10  0.12239  "
      ]
     },
     "metadata": {},
     "output_type": "display_data"
    },
    {
     "name": "stdout",
     "output_type": "stream",
     "text": [
      "heat\n"
     ]
    },
    {
     "data": {
      "text/html": [
       "<div>\n",
       "<style scoped>\n",
       "    .dataframe tbody tr th:only-of-type {\n",
       "        vertical-align: middle;\n",
       "    }\n",
       "\n",
       "    .dataframe tbody tr th {\n",
       "        vertical-align: top;\n",
       "    }\n",
       "\n",
       "    .dataframe thead tr th {\n",
       "        text-align: left;\n",
       "    }\n",
       "</style>\n",
       "<table border=\"1\" class=\"dataframe\">\n",
       "  <thead>\n",
       "    <tr>\n",
       "      <th></th>\n",
       "      <th colspan=\"3\" halign=\"left\">heat</th>\n",
       "    </tr>\n",
       "    <tr>\n",
       "      <th></th>\n",
       "      <th>Process</th>\n",
       "      <th>Capacity</th>\n",
       "      <th>Value</th>\n",
       "    </tr>\n",
       "  </thead>\n",
       "  <tbody>\n",
       "    <tr>\n",
       "      <th>Process 0</th>\n",
       "      <td>heat from hydrogen | heat from hydrogen | GLO</td>\n",
       "      <td>1.000000e+10</td>\n",
       "      <td>13.952546</td>\n",
       "    </tr>\n",
       "  </tbody>\n",
       "</table>\n",
       "</div>"
      ],
      "text/plain": [
       "                                                    heat                \\\n",
       "                                                 Process      Capacity   \n",
       "Process 0  heat from hydrogen | heat from hydrogen | GLO  1.000000e+10   \n",
       "\n",
       "                      \n",
       "               Value  \n",
       "Process 0  13.952546  "
      ]
     },
     "metadata": {},
     "output_type": "display_data"
    },
    {
     "name": "stdout",
     "output_type": "stream",
     "text": [
      "biomethane\n"
     ]
    },
    {
     "data": {
      "text/html": [
       "<div>\n",
       "<style scoped>\n",
       "    .dataframe tbody tr th:only-of-type {\n",
       "        vertical-align: middle;\n",
       "    }\n",
       "\n",
       "    .dataframe tbody tr th {\n",
       "        vertical-align: top;\n",
       "    }\n",
       "\n",
       "    .dataframe thead tr th {\n",
       "        text-align: left;\n",
       "    }\n",
       "</style>\n",
       "<table border=\"1\" class=\"dataframe\">\n",
       "  <thead>\n",
       "    <tr>\n",
       "      <th></th>\n",
       "      <th colspan=\"3\" halign=\"left\">biomethane</th>\n",
       "    </tr>\n",
       "    <tr>\n",
       "      <th></th>\n",
       "      <th>Process</th>\n",
       "      <th>Capacity</th>\n",
       "      <th>Value</th>\n",
       "    </tr>\n",
       "  </thead>\n",
       "  <tbody>\n",
       "    <tr>\n",
       "      <th>Process 0</th>\n",
       "      <td>biogas upgrading to biomethane, chemical scrubbing w/ CCS | biomethane, 24 bar | GLO</td>\n",
       "      <td>1.000000e+10</td>\n",
       "      <td>0.628083</td>\n",
       "    </tr>\n",
       "  </tbody>\n",
       "</table>\n",
       "</div>"
      ],
      "text/plain": [
       "                                                                                     biomethane  \\\n",
       "                                                                                        Process   \n",
       "Process 0  biogas upgrading to biomethane, chemical scrubbing w/ CCS | biomethane, 24 bar | GLO   \n",
       "\n",
       "                                   \n",
       "               Capacity     Value  \n",
       "Process 0  1.000000e+10  0.628083  "
      ]
     },
     "metadata": {},
     "output_type": "display_data"
    },
    {
     "name": "stdout",
     "output_type": "stream",
     "text": [
      "ammonia\n"
     ]
    },
    {
     "data": {
      "text/html": [
       "<div>\n",
       "<style scoped>\n",
       "    .dataframe tbody tr th:only-of-type {\n",
       "        vertical-align: middle;\n",
       "    }\n",
       "\n",
       "    .dataframe tbody tr th {\n",
       "        vertical-align: top;\n",
       "    }\n",
       "\n",
       "    .dataframe thead tr th {\n",
       "        text-align: left;\n",
       "    }\n",
       "</style>\n",
       "<table border=\"1\" class=\"dataframe\">\n",
       "  <thead>\n",
       "    <tr>\n",
       "      <th></th>\n",
       "      <th colspan=\"3\" halign=\"left\">ammonia</th>\n",
       "    </tr>\n",
       "    <tr>\n",
       "      <th></th>\n",
       "      <th>Process</th>\n",
       "      <th>Capacity</th>\n",
       "      <th>Value</th>\n",
       "    </tr>\n",
       "  </thead>\n",
       "  <tbody>\n",
       "    <tr>\n",
       "      <th>Process 0</th>\n",
       "      <td>ammonia production, steam methane reforming of biomethane, with CCS | ammonia production, biomethane, with CCS | GLO</td>\n",
       "      <td>1.000000e+10</td>\n",
       "      <td>1.000033</td>\n",
       "    </tr>\n",
       "  </tbody>\n",
       "</table>\n",
       "</div>"
      ],
      "text/plain": [
       "                                                                                                                        ammonia  \\\n",
       "                                                                                                                        Process   \n",
       "Process 0  ammonia production, steam methane reforming of biomethane, with CCS | ammonia production, biomethane, with CCS | GLO   \n",
       "\n",
       "                                   \n",
       "               Capacity     Value  \n",
       "Process 0  1.000000e+10  1.000033  "
      ]
     },
     "metadata": {},
     "output_type": "display_data"
    },
    {
     "name": "stdout",
     "output_type": "stream",
     "text": [
      "No additional constraints have been passed.\n"
     ]
    }
   ],
   "source": [
    "pulpo_worker.summarize_results(choices=choices, demand=demand, zeroes=True)"
   ]
  },
  {
   "cell_type": "code",
   "execution_count": null,
   "metadata": {},
   "outputs": [],
   "source": []
  }
 ],
 "metadata": {
  "kernelspec": {
   "display_name": "pulpo-ammonia",
   "language": "python",
   "name": "python3"
  },
  "language_info": {
   "codemirror_mode": {
    "name": "ipython",
    "version": 3
   },
   "file_extension": ".py",
   "mimetype": "text/x-python",
   "name": "python",
   "nbconvert_exporter": "python",
   "pygments_lexer": "ipython3",
   "version": "3.10.16"
  }
 },
 "nbformat": 4,
 "nbformat_minor": 2
}
