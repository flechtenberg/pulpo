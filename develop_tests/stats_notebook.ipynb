{
 "cells": [
  {
   "cell_type": "markdown",
   "id": "653abd19",
   "metadata": {},
   "source": [
    "# Global sensitivity Analysis for PULPO\n",
    "\n",
    "In this notebook we show the workflow for the global sensitivity analysis (GSA) in PULPO."
   ]
  },
  {
   "cell_type": "code",
   "execution_count": null,
   "id": "7cbd9bcc",
   "metadata": {},
   "outputs": [],
   "source": [
    "%load_ext autoreload\n",
    "%autoreload 2\n",
    "import sys\n",
    "sys.path.append('../')\n",
    "sys.path.append('../develop_test')\n",
    "import stats as pulpostats\n",
    "import numpy as np\n",
    "import pandas as pd"
   ]
  },
  {
   "cell_type": "markdown",
   "id": "588029bb",
   "metadata": {},
   "source": [
    "## 1. Defining the case\n",
    "\n",
    "The case for which the sensitivity analysis will be performed for is on a solution of the LP:\n",
    "\n",
    "$$\n",
    "    \\begin{align}\n",
    "        & \\underset{s, slack}{\\text{min}}  && z_h \\\\\n",
    "        & \\text{s.t.}   && \\sum_{j}(a_{i,j}\\cdot s_j) = f_i && \\forall i \\\\\n",
    "        &               && s_j^{low} \\leq s_j \\leq s_j^{high} && \\forall j \\\\\n",
    "        &               && z_h = \\sum_e \\sum_j (q_{h,e}\\cdot b_{e,j} \\cdot s_j) && \\forall h \\\\\n",
    "    \\end{align}\n",
    "$$\n"
   ]
  },
  {
   "cell_type": "markdown",
   "id": "0c30d80e",
   "metadata": {},
   "source": [
    "### 1.1. Rice husk problem\n"
   ]
  },
  {
   "cell_type": "code",
   "execution_count": null,
   "id": "c920c084",
   "metadata": {},
   "outputs": [],
   "source": [
    "import bw2data as bd\n",
    "if \"rice_husk_example\" in bd.projects:\n",
    "    bd.projects.set_current(\"default\")\n",
    "    bd.projects.delete_project(\"rice_husk_example\", delete_dir=True)\n",
    "    print(\"Deleted rice_husk_example project\")\n",
    "case_study = pulpostats.RiceHuskCase()\n",
    "db = bd.Database(\"rice_husk_example_db\")\n",
    "print(len(db))\n",
    "case_study.create_pulpo_worker()\n",
    "case_study.define_problem()\n",
    "result_data = case_study.solve_and_summarize(file_name=\"rice_husk_test\")"
   ]
  },
  {
   "cell_type": "markdown",
   "id": "75063e1b",
   "metadata": {},
   "source": [
    "### 1.2. Defining the electricity showcase problem"
   ]
  },
  {
   "cell_type": "code",
   "execution_count": null,
   "id": "dd119e09",
   "metadata": {},
   "outputs": [],
   "source": [
    "case_study = pulpostats.ElectricityCase()\n",
    "case_study.create_pulpo_worker()\n",
    "case_study.define_problem()\n",
    "result_data = case_study.solve_and_summarize(file_name='electricity_test')"
   ]
  },
  {
   "cell_type": "markdown",
   "id": "fc4e64d8",
   "metadata": {},
   "source": [
    "### 1.3. Defining the Ammonia case study"
   ]
  },
  {
   "cell_type": "code",
   "execution_count": null,
   "id": "73760f89",
   "metadata": {},
   "outputs": [],
   "source": [
    "case_study = pulpostats.AmmoniaCase()\n",
    "case_study.create_pulpo_worker()\n",
    "case_study.define_problem()\n",
    "result_data = case_study.solve_and_summarize(file_name='ammonia_test')\n"
   ]
  },
  {
   "cell_type": "markdown",
   "id": "1e690c9c",
   "metadata": {},
   "source": [
    "## 2. Filtering out negletable uncertain parameters\n",
    "\n",
    "**Reformulating the problem for the sensitivity analysis**\n",
    "\n",
    "We only consider uncertainty in the $B$ and $Q$ parameter matrizes. The scaling vector is given by the optimal solution.\n",
    "\n",
    "We will look at the environmental impact objective:\n",
    "\n",
    "$$\n",
    "    e(Q, B) =  Q \\cdot B \\cdot s\n",
    "$$"
   ]
  },
  {
   "cell_type": "code",
   "execution_count": null,
   "id": "12cb2e9a",
   "metadata": {},
   "outputs": [],
   "source": [
    "paramfilter = pulpostats.ParameterFilter(\n",
    "    result_data=result_data, \n",
    "    lci_data=case_study.pulpo_worker.lci_data, \n",
    "    choices = case_study.choices,\n",
    "    demand = case_study.demand,\n",
    "    method = case_study.method\n",
    "    )"
   ]
  },
  {
   "cell_type": "markdown",
   "id": "e87c448a",
   "metadata": {},
   "source": [
    "Using the basic scaling vector which only includes the optimal choices in the scaling vector"
   ]
  },
  {
   "cell_type": "code",
   "execution_count": null,
   "id": "ce337f57",
   "metadata": {},
   "outputs": [],
   "source": [
    "scaling_vector_series = paramfilter.prepare_sampling(scaling_vector_strategy='naive')"
   ]
  },
  {
   "cell_type": "markdown",
   "id": "48fe6282",
   "metadata": {},
   "source": [
    "Using the scaling vector constructed from all choices"
   ]
  },
  {
   "cell_type": "code",
   "execution_count": null,
   "id": "e255401f",
   "metadata": {},
   "outputs": [],
   "source": [
    "scaling_vector_series = paramfilter.prepare_sampling(scaling_vector_strategy='constructed_demand')"
   ]
  },
  {
   "cell_type": "markdown",
   "id": "ba4046aa",
   "metadata": {},
   "source": [
    "Compute the LCA scores and return the characterized inventory to be used for the filtering"
   ]
  },
  {
   "cell_type": "code",
   "execution_count": null,
   "id": "90bcc5e9",
   "metadata": {},
   "outputs": [],
   "source": [
    "lca_score, characterized_inventory = paramfilter.compute_LCI_LCIA(scaling_vector_series)"
   ]
  },
  {
   "cell_type": "markdown",
   "id": "68ff5f70",
   "metadata": {},
   "source": [
    "Plot the largest contributors"
   ]
  },
  {
   "cell_type": "code",
   "execution_count": null,
   "id": "aef3fbb3",
   "metadata": {},
   "outputs": [],
   "source": [
    "paramfilter.plot_top_processes(characterized_inventory, top_amount=9)"
   ]
  },
  {
   "cell_type": "markdown",
   "id": "fbc9bffd",
   "metadata": {},
   "source": [
    "Filtering out the inventoryflows $B_{i,j}$ that have a neglectable impact"
   ]
  },
  {
   "cell_type": "code",
   "execution_count": null,
   "id": "64d77b21",
   "metadata": {},
   "outputs": [],
   "source": [
    "cutoff = 0.00002\n",
    "filtered_inventory_indcs = paramfilter.filter_inventoryflows(characterized_inventory, lca_score, cutoff)"
   ]
  },
  {
   "cell_type": "code",
   "execution_count": null,
   "id": "446da0b2",
   "metadata": {},
   "outputs": [],
   "source": [
    "filtered_characterization_indcs = paramfilter.filter_characterization_factors(filtered_inventory_indcs)"
   ]
  },
  {
   "cell_type": "markdown",
   "id": "974808a5",
   "metadata": {},
   "source": [
    "## 3. Getting the uncertainty of the parameter values"
   ]
  },
  {
   "cell_type": "markdown",
   "id": "f4f310e5",
   "metadata": {},
   "source": [
    "### 3.1. Interventions flows"
   ]
  },
  {
   "cell_type": "markdown",
   "id": "82e49eb4",
   "metadata": {},
   "source": [
    "Extract the metadata containing the uncertainty information to the filtered intervention flows and seperate the metadata into the parameters with and without defined uncertainty information"
   ]
  },
  {
   "cell_type": "code",
   "execution_count": null,
   "id": "aab2b382",
   "metadata": {},
   "outputs": [],
   "source": [
    "uncertainty_importer = pulpostats.UncertaintyImporter(lci_data=case_study.pulpo_worker.lci_data)\n",
    "backgroundDB_filtInv_indcs = uncertainty_importer.get_intervention_indcs_to_db('ecoinvent-3.10-cutoff', filtered_inventory_indcs)\n",
    "foregroundDB_filtInv_indcs = uncertainty_importer.get_intervention_indcs_to_db('ammonia-reduced', filtered_inventory_indcs)\n",
    "bg_inventory_metadata_df = uncertainty_importer.get_intervention_meta(inventory_indices=backgroundDB_filtInv_indcs)\n",
    "fg_inventory_metadata_df = uncertainty_importer.get_intervention_meta(inventory_indices=foregroundDB_filtInv_indcs)\n",
    "bg_inventory_defined,  bg_inventory_undefined = uncertainty_importer.separate(bg_inventory_metadata_df)\n",
    "fg_inventory_defined,  fg_inventory_undefined = uncertainty_importer.separate(fg_inventory_metadata_df)\n"
   ]
  },
  {
   "cell_type": "markdown",
   "id": "2cad4575",
   "metadata": {},
   "source": [
    "Apply the triangular strategy using bound interpolation to the missing intervention uncertainty parameters in the background database"
   ]
  },
  {
   "cell_type": "code",
   "execution_count": null,
   "id": "6a6eda0f",
   "metadata": {},
   "outputs": [],
   "source": [
    "if_bg_triangular_strategy = pulpostats.TriangularBoundInterpolationStrategy(\n",
    "    metadata_df=bg_inventory_metadata_df,\n",
    "    defined_uncertainty_metadata=bg_inventory_defined,\n",
    "    undefined_uncertainty_indices= bg_inventory_undefined,\n",
    "    noise_interval={'min':.1, 'max':.1}\n",
    "    )"
   ]
  },
  {
   "cell_type": "markdown",
   "id": "bcf913f8",
   "metadata": {},
   "source": [
    "Apply the Uniform strategy for the uncertainty parameters in the foreground database"
   ]
  },
  {
   "cell_type": "code",
   "execution_count": null,
   "id": "29ae9328",
   "metadata": {},
   "outputs": [],
   "source": [
    "if_fg_uniform_strategy = pulpostats.UniformBaseStrategy(\n",
    "    metadata_df=fg_inventory_metadata_df,\n",
    "    defined_uncertainty_metadata=fg_inventory_defined,\n",
    "    undefined_uncertainty_indices=fg_inventory_undefined,\n",
    "    upper_scaling_factor = .5,\n",
    "    lower_scaling_factor = .5,\n",
    "    noise_interval={'min':.2, 'max':.2}\n",
    ")"
   ]
  },
  {
   "cell_type": "markdown",
   "id": "dcce4ddd",
   "metadata": {},
   "source": [
    "### 3.2. Characterization factors"
   ]
  },
  {
   "cell_type": "markdown",
   "id": "e2d6a1ee",
   "metadata": {},
   "source": [
    "Extract the metadata containing the uncertainty information to the filtered characterization factors and seperate the metadata into the parameters with and without defined uncertainty information"
   ]
  },
  {
   "cell_type": "code",
   "execution_count": null,
   "id": "ef29bd76",
   "metadata": {},
   "outputs": [],
   "source": [
    "characterization_metadata_df = uncertainty_importer.get_cf_meta(\n",
    "    characterization_indices=filtered_characterization_indcs,\n",
    "    method=case_study.method\n",
    "    )\n",
    "cf_defined,  cf_undefined = uncertainty_importer.separate(characterization_metadata_df)"
   ]
  },
  {
   "cell_type": "markdown",
   "id": "7ff51723",
   "metadata": {},
   "source": [
    "Apply the triangular strategy using predefined scaling factors to the missing uncertainty parameters"
   ]
  },
  {
   "cell_type": "code",
   "execution_count": null,
   "id": "08d05694",
   "metadata": {},
   "outputs": [],
   "source": [
    "upper_scaling_factor_cf = 0.15\n",
    "lower_scaling_factor_cf = 0.15\n",
    "cf_triangular_strategy = pulpostats.TriangluarBaseStrategy(\n",
    "    metadata_df=characterization_metadata_df,\n",
    "    defined_uncertainty_metadata=cf_defined,\n",
    "    undefined_uncertainty_indices=cf_undefined,\n",
    "    upper_scaling_factor = upper_scaling_factor_cf,\n",
    "    lower_scaling_factor = lower_scaling_factor_cf,\n",
    "    noise_interval={'min':.1, 'max':.1}\n",
    ")"
   ]
  },
  {
   "cell_type": "code",
   "execution_count": null,
   "id": "43dadc9c",
   "metadata": {},
   "outputs": [],
   "source": [
    "unc_metadata = {\n",
    "    'cf': cf_triangular_strategy.metadata_assigned_df,\n",
    "    'if': pd.concat([if_fg_uniform_strategy.metadata_assigned_df, if_bg_triangular_strategy.metadata_assigned_df])\n",
    "}"
   ]
  },
  {
   "cell_type": "markdown",
   "id": "52cae496",
   "metadata": {},
   "source": [
    "## 4. Define the global sensitivity problem\n",
    "### 4.1. Define the bound/interval of the parameters"
   ]
  },
  {
   "cell_type": "markdown",
   "id": "6b9420e6",
   "metadata": {},
   "source": [
    "Check if all parameters have gotten uncertainty information asigned"
   ]
  },
  {
   "cell_type": "code",
   "execution_count": null,
   "id": "4328e3d1",
   "metadata": {},
   "outputs": [],
   "source": [
    "from SALib.sample import sobol as sample_method\n",
    "from SALib.analyze import sobol as SA_method\n",
    "N = 2**3\n",
    "\n",
    "gsa = pulpostats.GlobalSensitivityAnalysis(\n",
    "    result_data=result_data,\n",
    "    lci_data=case_study.pulpo_worker.lci_data,\n",
    "    unc_metadata=unc_metadata,\n",
    "    sampler=sample_method,\n",
    "    analyser=SA_method,\n",
    "    sample_size=N,\n",
    "    method=case_study.method\n",
    ")\n",
    "gsa_problem, all_bounds_indx_dict = gsa.define_problem()"
   ]
  },
  {
   "cell_type": "code",
   "execution_count": null,
   "id": "504cc969",
   "metadata": {},
   "outputs": [],
   "source": [
    "sample_data_if, sample_data_cf = gsa.sample(gsa_problem, all_bounds_indx_dict)"
   ]
  },
  {
   "cell_type": "code",
   "execution_count": null,
   "id": "616dca5d",
   "metadata": {},
   "outputs": [],
   "source": [
    "sample_impacts, sample_characterized_inv entories = gsa.run_model(sample_data_if, sample_data_cf)"
   ]
  },
  {
   "cell_type": "code",
   "execution_count": null,
   "id": "39952384",
   "metadata": {},
   "outputs": [],
   "source": [
    "total_Si = gsa.analyze(gsa_problem, sample_impacts)"
   ]
  },
  {
   "cell_type": "code",
   "execution_count": null,
   "id": "af0813b5",
   "metadata": {},
   "outputs": [],
   "source": [
    "total_Si_metadata = gsa.generate_Si_metadata(all_bounds_indx_dict, total_Si)\n",
    "colormap_base, colormap_SA_barplot = gsa.plot_top_total_sensitivity_indices(total_Si, total_Si_metadata)"
   ]
  },
  {
   "cell_type": "code",
   "execution_count": null,
   "id": "160df0cc",
   "metadata": {},
   "outputs": [],
   "source": [
    "data_plot = gsa.plot_total_env_impact_contribution(\n",
    "    sample_characterized_inventories, \n",
    "    total_Si_metadata, \n",
    "    colormap_base=colormap_base, \n",
    "    colormap_SA_barplot=colormap_SA_barplot,\n",
    "    )"
   ]
  },
  {
   "cell_type": "markdown",
   "id": "5c5c7722",
   "metadata": {},
   "source": [
    "## 5. CC formulation"
   ]
  },
  {
   "cell_type": "markdown",
   "id": "2bb9aa3e",
   "metadata": {},
   "source": [
    "Formulate the chance constrain optimization problem. \n",
    "\n",
    "In the future multiple formulations might be possible, represented by different `CCFormulation` classes"
   ]
  },
  {
   "cell_type": "code",
   "execution_count": null,
   "id": "b5b10c8a",
   "metadata": {},
   "outputs": [],
   "source": [
    "cc_formulation = pulpostats.CCFormulationObjIndividualNormalL1(\n",
    "    unc_metadata=unc_metadata,\n",
    "    pulpo_worker=case_study.pulpo_worker,\n",
    "    method=case_study.method,\n",
    "    choices=case_study.choices,\n",
    "    demand=case_study.demand\n",
    ")"
   ]
  },
  {
   "cell_type": "markdown",
   "id": "8718e634",
   "metadata": {},
   "source": [
    "Initiate epsilon solver for the Pareto Problem"
   ]
  },
  {
   "cell_type": "code",
   "execution_count": null,
   "id": "c9c27aed",
   "metadata": {},
   "outputs": [],
   "source": [
    "epsilon_pareto_solver = pulpostats.EpsilonConstraintSolver(cc_formulation)"
   ]
  },
  {
   "cell_type": "markdown",
   "id": "e171250b",
   "metadata": {},
   "source": [
    "Solve single Pareto point"
   ]
  },
  {
   "cell_type": "code",
   "execution_count": null,
   "id": "1b1dc82c",
   "metadata": {},
   "outputs": [],
   "source": [
    "CC_solution = epsilon_pareto_solver.solve_single_pareto_point(lambda_level=.5)\n",
    "CC_solution"
   ]
  },
  {
   "cell_type": "markdown",
   "id": "a95aeb2c",
   "metadata": {},
   "source": [
    "Solve for an array of lambda epsilon constraints"
   ]
  },
  {
   "cell_type": "code",
   "execution_count": null,
   "id": "ca59d9d9",
   "metadata": {},
   "outputs": [],
   "source": [
    "lambda_epsilon_array = np.linspace(0.5,1, 5, endpoint=False)\n",
    "CC_solutions = epsilon_pareto_solver.solve(lambda_epsilon_array)"
   ]
  },
  {
   "cell_type": "markdown",
   "id": "df4e6a15",
   "metadata": {},
   "source": [
    "Plot Pareto front"
   ]
  },
  {
   "cell_type": "code",
   "execution_count": null,
   "id": "068dddad",
   "metadata": {},
   "outputs": [],
   "source": [
    "epsilon_pareto_solver.plot_pareto_front(CC_solutions, 0.03)"
   ]
  },
  {
   "cell_type": "markdown",
   "id": "48e81b44",
   "metadata": {},
   "source": [
    "Compare the Pareto points"
   ]
  },
  {
   "cell_type": "code",
   "execution_count": null,
   "id": "1e2b8f5f",
   "metadata": {},
   "outputs": [],
   "source": [
    "epsilon_pareto_solver.compare_subsequent_paretosolutions(CC_solutions)"
   ]
  },
  {
   "cell_type": "code",
   "execution_count": null,
   "id": "359c5e2f",
   "metadata": {},
   "outputs": [],
   "source": []
  },
  {
   "cell_type": "code",
   "execution_count": null,
   "id": "bdb0e1c8",
   "metadata": {},
   "outputs": [],
   "source": []
  }
 ],
 "metadata": {
  "kernelspec": {
   "display_name": "pulpo-stats",
   "language": "python",
   "name": "python3"
  },
  "language_info": {
   "codemirror_mode": {
    "name": "ipython",
    "version": 3
   },
   "file_extension": ".py",
   "mimetype": "text/x-python",
   "name": "python",
   "nbconvert_exporter": "python",
   "pygments_lexer": "ipython3",
   "version": "3.11.11"
  }
 },
 "nbformat": 4,
 "nbformat_minor": 5
}
