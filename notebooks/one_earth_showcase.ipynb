{
 "cells": [
  {
   "cell_type": "markdown",
   "id": "403e20db",
   "metadata": {},
   "source": [
    "### Import Section"
   ]
  },
  {
   "cell_type": "code",
   "execution_count": null,
   "id": "f644476e",
   "metadata": {},
   "outputs": [],
   "source": [
    "import brightway2 as bw\n",
    "bw.projects.set_current(\"pulpo\")"
   ]
  },
  {
   "cell_type": "markdown",
   "id": "bb3807fb",
   "metadata": {},
   "source": [
    "To import the methanol inventories from the [One Earth](https://doi.org/10.1016/j.oneear.2021.04.001) paper you will need to have a the ecoinvent cutoff 3.8 database in your project, named \"cutoff38\"."
   ]
  },
  {
   "cell_type": "code",
   "execution_count": null,
   "id": "05f71156",
   "metadata": {},
   "outputs": [],
   "source": [
    "if \"one_earth_38\" not in bw.databases:\n",
    "    bw.BW2Package.import_file(\"inventories/one_earth_38.bw2package\")\n",
    "    print(\"Imported the One Earth inventories!\")\n",
    "else:\n",
    "    print(\"One Earth inventories already loaded.\")"
   ]
  },
  {
   "cell_type": "code",
   "execution_count": null,
   "id": "050be36d",
   "metadata": {},
   "outputs": [],
   "source": [
    "import os\n",
    "import sys\n",
    "sys.path.append('../')\n",
    "from pulpo import pulpo\n",
    "\n",
    "import pandas as pd\n",
    "pd.set_option('display.max_colwidth', None)"
   ]
  },
  {
   "cell_type": "markdown",
   "id": "d4ab2974",
   "metadata": {},
   "source": [
    "You may want to use the premise adjusted IPCC method:"
   ]
  },
  {
   "cell_type": "code",
   "execution_count": null,
   "id": "4c8cfb6f",
   "metadata": {
    "scrolled": true
   },
   "outputs": [],
   "source": [
    "#from premise_gwp import add_premise_gwp\n",
    "#add_premise_gwp()  "
   ]
  },
  {
   "cell_type": "markdown",
   "id": "6136fade",
   "metadata": {},
   "source": [
    "<div style=\"text-align: center; background-color: #f0f0f0; padding: 10px;\">\n",
    "    <h2 style=\"font-family: 'Arial', sans-serif; font-weight: bold; color: #555;\">(1) Selection of LCI Data</h2>\n",
    "</div>"
   ]
  },
  {
   "cell_type": "markdown",
   "id": "669030d0",
   "metadata": {},
   "source": [
    "### Setup"
   ]
  },
  {
   "cell_type": "code",
   "execution_count": null,
   "id": "8e5246ee",
   "metadata": {},
   "outputs": [],
   "source": [
    "project = \"pulpo\"\n",
    "database = \"one_earth_38\"\n",
    "methods = \"('IPCC 2013', 'climate change', 'GWP 100a')\" #, incl. H')\"\n",
    "\n",
    "# Substitute with your working directory of choice\n",
    "notebook_dir = os.path.dirname(os.getcwd())\n",
    "directory = os.path.join(notebook_dir, 'data')\n",
    "\n",
    "# Substitute with your GAMS path\n",
    "GAMS_PATH = \"C:/GAMS/37/gams.exe\""
   ]
  },
  {
   "cell_type": "code",
   "execution_count": null,
   "id": "6b2c7ecc",
   "metadata": {},
   "outputs": [],
   "source": [
    "pulpo_worker = pulpo.PulpoOptimizer(project, database, methods, directory)"
   ]
  },
  {
   "cell_type": "code",
   "execution_count": null,
   "id": "18f92396",
   "metadata": {},
   "outputs": [],
   "source": [
    "pulpo_worker.get_lci_data()"
   ]
  },
  {
   "cell_type": "markdown",
   "id": "4ef5baf0",
   "metadata": {},
   "source": [
    "<div style=\"text-align: center; background-color: #f0f0f0; padding: 10px;\">\n",
    "    <h2 style=\"font-family: 'Arial', sans-serif; font-weight: bold; color: #555;\">(2) User Specifications</h2>\n",
    "</div>"
   ]
  },
  {
   "cell_type": "markdown",
   "id": "715b05fa",
   "metadata": {},
   "source": [
    "<div style=\"text-align: center;\">\n",
    "    <img src=\"pictures/one_earth_showcase.png\" alt=\"Image Alt Text\" style=\"width: 80%;\" />\n",
    "</div>"
   ]
  },
  {
   "cell_type": "markdown",
   "id": "2fb45979",
   "metadata": {},
   "source": [
    "### Specify the **functional unit**"
   ]
  },
  {
   "cell_type": "code",
   "execution_count": null,
   "id": "6d70b24c",
   "metadata": {},
   "outputs": [],
   "source": [
    "methanol = pulpo_worker.retrieve_activities(activities=[\"market for methanol\"])"
   ]
  },
  {
   "cell_type": "code",
   "execution_count": null,
   "id": "80861cf3",
   "metadata": {},
   "outputs": [],
   "source": [
    "demand = {methanol[0]: 100}"
   ]
  },
  {
   "cell_type": "markdown",
   "id": "a4e3a8cf",
   "metadata": {},
   "source": [
    "### Specify the **choices**"
   ]
  },
  {
   "cell_type": "code",
   "execution_count": null,
   "id": "cd2de9aa",
   "metadata": {},
   "outputs": [],
   "source": [
    "electricity = pulpo_worker.retrieve_activities(reference_products=[\"electricity\"])"
   ]
  },
  {
   "cell_type": "markdown",
   "id": "835ea6a8",
   "metadata": {},
   "source": [
    "Exclude BECCS for now:"
   ]
  },
  {
   "cell_type": "code",
   "execution_count": null,
   "id": "b0b4f55c",
   "metadata": {},
   "outputs": [],
   "source": [
    "#electricity = [elec for elec in electricity if elec['name'] != 'BECCS']"
   ]
  },
  {
   "cell_type": "code",
   "execution_count": null,
   "id": "56856f09",
   "metadata": {},
   "outputs": [],
   "source": [
    "CO2 = pulpo_worker.retrieve_activities(reference_products=[\"CO2\"])"
   ]
  },
  {
   "cell_type": "code",
   "execution_count": null,
   "id": "72b3f6a3",
   "metadata": {},
   "outputs": [],
   "source": [
    "H2 = pulpo_worker.retrieve_activities(reference_products=[\"H2\"])"
   ]
  },
  {
   "cell_type": "code",
   "execution_count": null,
   "id": "1d30c0a3",
   "metadata": {},
   "outputs": [],
   "source": [
    "methanol = pulpo_worker.retrieve_activities(reference_products=[\"methanol\"])"
   ]
  },
  {
   "cell_type": "code",
   "execution_count": null,
   "id": "71bfa31b",
   "metadata": {},
   "outputs": [],
   "source": [
    "choices  = {'electricity': {elec: 1e6 for elec in electricity},\n",
    "            'CO2': {co2: 1e6 for co2 in CO2},\n",
    "            'H2': {h2: 1e6 for h2 in H2},\n",
    "            'methanol': {meoh: 1e6 for meoh in methanol},}"
   ]
  },
  {
   "cell_type": "markdown",
   "id": "23f95f83",
   "metadata": {},
   "source": [
    "<div style=\"text-align: center; background-color: #f0f0f0; padding: 10px;\">\n",
    "    <h2 style=\"font-family: 'Arial', sans-serif; font-weight: bold; color: #555;\">(3) Solution</h2>\n",
    "</div>"
   ]
  },
  {
   "cell_type": "code",
   "execution_count": null,
   "id": "9dbcd0d9",
   "metadata": {},
   "outputs": [],
   "source": [
    "instance = pulpo_worker.instantiate(choices=choices, demand=demand)"
   ]
  },
  {
   "cell_type": "code",
   "execution_count": null,
   "id": "7b5f5721",
   "metadata": {
    "scrolled": true
   },
   "outputs": [],
   "source": [
    "results = pulpo_worker.solve(GAMS_PATH=GAMS_PATH)"
   ]
  },
  {
   "cell_type": "code",
   "execution_count": null,
   "id": "de0c7b5b",
   "metadata": {
    "scrolled": true
   },
   "outputs": [],
   "source": [
    "pulpo_worker.summarize_results(choices=choices, demand=demand, zeroes=True)"
   ]
  },
  {
   "cell_type": "code",
   "execution_count": null,
   "id": "ae10cd89",
   "metadata": {},
   "outputs": [],
   "source": [
    "pulpo_worker.save_results(choices=choices, demand=demand, name='one_earth_results.xlsx')"
   ]
  }
 ],
 "metadata": {
  "kernelspec": {
   "display_name": "Python 3 (ipykernel)",
   "language": "python",
   "name": "python3"
  },
  "language_info": {
   "codemirror_mode": {
    "name": "ipython",
    "version": 3
   },
   "file_extension": ".py",
   "mimetype": "text/x-python",
   "name": "python",
   "nbconvert_exporter": "python",
   "pygments_lexer": "ipython3",
   "version": "3.9.16"
  }
 },
 "nbformat": 4,
 "nbformat_minor": 5
}
