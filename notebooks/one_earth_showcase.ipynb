{
 "cells": [
  {
   "cell_type": "markdown",
   "id": "d8b03235",
   "metadata": {},
   "source": [
    "### Import Section"
   ]
  },
  {
   "cell_type": "code",
   "execution_count": 1,
   "id": "22f61497",
   "metadata": {},
   "outputs": [],
   "source": [
    "import brightway2 as bw\n",
    "bw.projects.set_current(\"pulpo\")"
   ]
  },
  {
   "cell_type": "markdown",
   "id": "b3276210",
   "metadata": {},
   "source": [
    "To import the methanol inventories from the [One Earth](https://doi.org/10.1016/j.oneear.2021.04.001) paper you will need to have a the ecoinvent cutoff 3.8 database in your project, named \"cutoff38\"."
   ]
  },
  {
   "cell_type": "code",
   "execution_count": 2,
   "id": "14cbe793",
   "metadata": {},
   "outputs": [
    {
     "name": "stdout",
     "output_type": "stream",
     "text": [
      "One Earth inventories already loaded.\n"
     ]
    }
   ],
   "source": [
    "if \"one_earth_38\" not in bw.databases:\n",
    "    bw.BW2Package.import_file(\"data/one_earth_38.bw2package\")\n",
    "    print(\"Imported the One Earth inventories!\")\n",
    "else:\n",
    "    print(\"One Earth inventories already loaded.\")"
   ]
  },
  {
   "cell_type": "code",
   "execution_count": 3,
   "id": "fef6480c",
   "metadata": {},
   "outputs": [],
   "source": [
    "import os\n",
    "import sys\n",
    "sys.path.append('../')\n",
    "from pulpo import pulpo\n",
    "\n",
    "import pandas as pd\n",
    "pd.set_option('display.max_colwidth', None)"
   ]
  },
  {
   "cell_type": "markdown",
   "id": "f965b9f3",
   "metadata": {},
   "source": [
    "You may want to use the premise adjusted IPCC method:"
   ]
  },
  {
   "cell_type": "code",
   "execution_count": 4,
   "id": "0de2355b",
   "metadata": {
    "scrolled": true
   },
   "outputs": [],
   "source": [
    "#from premise_gwp import add_premise_gwp\n",
    "#add_premise_gwp()  "
   ]
  },
  {
   "cell_type": "markdown",
   "id": "95081e5c",
   "metadata": {},
   "source": [
    "<div style=\"text-align: center; background-color: #f0f0f0; padding: 10px;\">\n",
    "    <h2 style=\"font-family: 'Arial', sans-serif; font-weight: bold; color: #555;\">(1) Selection of LCI Data</h2>\n",
    "</div>"
   ]
  },
  {
   "cell_type": "markdown",
   "id": "8a684568",
   "metadata": {},
   "source": [
    "### Setup"
   ]
  },
  {
   "cell_type": "code",
   "execution_count": 5,
   "id": "eaac67e6",
   "metadata": {},
   "outputs": [],
   "source": [
    "project = \"pulpo\"\n",
    "database = \"one_earth_38\"\n",
    "methods = \"('IPCC 2013', 'climate change', 'GWP 100a')\" #, incl. H')\"\n",
    "\n",
    "# Substitute with your working directory of choice\n",
    "notebook_dir = os.path.dirname(os.getcwd())\n",
    "directory = os.path.join(notebook_dir, 'data')\n",
    "\n",
    "# Substitute with your GAMS path\n",
    "GAMS_PATH = \"C:/GAMS/37/gams.exe\""
   ]
  },
  {
   "cell_type": "code",
   "execution_count": 6,
   "id": "4c6d74d6",
   "metadata": {},
   "outputs": [],
   "source": [
    "pulpo_worker = pulpo.PulpoOptimizer(project, database, methods, directory)"
   ]
  },
  {
   "cell_type": "code",
   "execution_count": 7,
   "id": "fcb96d16",
   "metadata": {},
   "outputs": [],
   "source": [
    "pulpo_worker.get_lci_data()"
   ]
  },
  {
   "cell_type": "markdown",
   "id": "4c217117",
   "metadata": {},
   "source": [
    "<div style=\"text-align: center; background-color: #f0f0f0; padding: 10px;\">\n",
    "    <h2 style=\"font-family: 'Arial', sans-serif; font-weight: bold; color: #555;\">(2) User Specifications</h2>\n",
    "</div>"
   ]
  },
  {
   "cell_type": "markdown",
   "id": "8d002b9a",
   "metadata": {},
   "source": [
    "<div style=\"text-align: center;\">\n",
    "    <img src=\"pictures/one_earth_showcase.png\" alt=\"Image Alt Text\" style=\"width: 80%;\" />\n",
    "</div>"
   ]
  },
  {
   "cell_type": "markdown",
   "id": "2fa52dbd",
   "metadata": {},
   "source": [
    "### Specify the **functional unit**"
   ]
  },
  {
   "cell_type": "code",
   "execution_count": 8,
   "id": "71ea39de",
   "metadata": {},
   "outputs": [],
   "source": [
    "methanol = pulpo_worker.retrieve_activities(activities=[\"market for methanol\"])"
   ]
  },
  {
   "cell_type": "code",
   "execution_count": 9,
   "id": "24e67016",
   "metadata": {},
   "outputs": [],
   "source": [
    "demand = {methanol[0]: 100}"
   ]
  },
  {
   "cell_type": "markdown",
   "id": "3a953ac6",
   "metadata": {},
   "source": [
    "### Specify the **choices**"
   ]
  },
  {
   "cell_type": "code",
   "execution_count": 10,
   "id": "bc01fb00",
   "metadata": {},
   "outputs": [],
   "source": [
    "electricity = pulpo_worker.retrieve_activities(reference_products=[\"electricity\"])"
   ]
  },
  {
   "cell_type": "markdown",
   "id": "33a11e81",
   "metadata": {},
   "source": [
    "Exclude BECCS for now:"
   ]
  },
  {
   "cell_type": "code",
   "execution_count": 11,
   "id": "2e0af93b",
   "metadata": {},
   "outputs": [],
   "source": [
    "#electricity = [elec for elec in electricity if elec['name'] != 'BECCS']"
   ]
  },
  {
   "cell_type": "code",
   "execution_count": 12,
   "id": "36c04637",
   "metadata": {},
   "outputs": [],
   "source": [
    "CO2 = pulpo_worker.retrieve_activities(reference_products=[\"CO2\"])"
   ]
  },
  {
   "cell_type": "code",
   "execution_count": 13,
   "id": "eead0daa",
   "metadata": {},
   "outputs": [],
   "source": [
    "H2 = pulpo_worker.retrieve_activities(reference_products=[\"H2\"])"
   ]
  },
  {
   "cell_type": "code",
   "execution_count": 14,
   "id": "015204b2",
   "metadata": {},
   "outputs": [],
   "source": [
    "methanol = pulpo_worker.retrieve_activities(reference_products=[\"methanol\"])"
   ]
  },
  {
   "cell_type": "code",
   "execution_count": 15,
   "id": "91f83ac6",
   "metadata": {},
   "outputs": [],
   "source": [
    "choices  = {'electricity': {elec: 1e6 for elec in electricity},\n",
    "            'CO2': {co2: 1e6 for co2 in CO2},\n",
    "            'H2': {h2: 1e6 for h2 in H2},\n",
    "            'methanol': {meoh: 1e6 for meoh in methanol},}"
   ]
  },
  {
   "cell_type": "markdown",
   "id": "d6f88c3d",
   "metadata": {},
   "source": [
    "<div style=\"text-align: center; background-color: #f0f0f0; padding: 10px;\">\n",
    "    <h2 style=\"font-family: 'Arial', sans-serif; font-weight: bold; color: #555;\">(3) Solution</h2>\n",
    "</div>"
   ]
  },
  {
   "cell_type": "code",
   "execution_count": 16,
   "id": "d00b6972",
   "metadata": {},
   "outputs": [
    {
     "name": "stdout",
     "output_type": "stream",
     "text": [
      "Creating Instance\n",
      "Instance created\n"
     ]
    }
   ],
   "source": [
    "instance = pulpo_worker.instantiate(choices=choices, demand=demand)"
   ]
  },
  {
   "cell_type": "code",
   "execution_count": null,
   "id": "eb84dd8d",
   "metadata": {
    "scrolled": true
   },
   "outputs": [
    {
     "name": "stdout",
     "output_type": "stream",
     "text": [
      "GAMS solvers library availability: True\n",
      "Solver path: C:\\GAMS\\37\\gams.exe\n"
     ]
    }
   ],
   "source": [
    "results = pulpo_worker.solve(GAMS_PATH=GAMS_PATH)"
   ]
  },
  {
   "cell_type": "code",
   "execution_count": null,
   "id": "0585748e",
   "metadata": {
    "scrolled": true
   },
   "outputs": [],
   "source": [
    "pulpo_worker.summarize_results(choices=choices, demand=demand, zeroes=True)"
   ]
  },
  {
   "cell_type": "code",
   "execution_count": null,
   "id": "36474933",
   "metadata": {},
   "outputs": [],
   "source": [
    "pulpo_worker.save_results(choices=choices, demand=demand, name='one_earth_results.xlsx')"
   ]
  }
 ],
 "metadata": {
  "kernelspec": {
   "display_name": "Python 3 (ipykernel)",
   "language": "python",
   "name": "python3"
  },
  "language_info": {
   "codemirror_mode": {
    "name": "ipython",
    "version": 3
   },
   "file_extension": ".py",
   "mimetype": "text/x-python",
   "name": "python",
   "nbconvert_exporter": "python",
   "pygments_lexer": "ipython3",
   "version": "3.9.16"
  }
 },
 "nbformat": 4,
 "nbformat_minor": 5
}
