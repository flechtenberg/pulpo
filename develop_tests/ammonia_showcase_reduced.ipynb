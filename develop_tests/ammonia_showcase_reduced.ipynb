{
 "cells": [
  {
   "cell_type": "code",
   "execution_count": 180,
   "metadata": {},
   "outputs": [
    {
     "name": "stdout",
     "output_type": "stream",
     "text": [
      "The autoreload extension is already loaded. To reload it, use:\n",
      "  %reload_ext autoreload\n"
     ]
    }
   ],
   "source": [
    "%load_ext autoreload\n",
    "%autoreload 2\n",
    "import os\n",
    "import sys\n",
    "sys.path.append('../')\n",
    "from pulpo import pulpo\n",
    "import pandas as pd\n",
    "pd.set_option('display.max_colwidth', None)"
   ]
  },
  {
   "cell_type": "markdown",
   "metadata": {},
   "source": [
    "### Setup the Worker"
   ]
  },
  {
   "cell_type": "code",
   "execution_count": 181,
   "metadata": {},
   "outputs": [],
   "source": [
    "project = \"ammonia_reduced\"\n",
    "databases = [\"ecoinvent-3.10-cutoff\", \"ammonia-reduced\"]\n",
    "methods = \"('IPCC 2021', 'climate change', 'GWP 100a, incl. H and bio CO2')\""
   ]
  },
  {
   "cell_type": "code",
   "execution_count": 182,
   "metadata": {},
   "outputs": [],
   "source": [
    "# Substitute with your working directory of choice\n",
    "notebook_dir = os.path.dirname(os.getcwd())\n",
    "directory = os.path.join(notebook_dir, 'data')\n",
    "\n",
    "# Substitute with your GAMS path\n",
    "# GAMS_PATH = r\"C:\\APPS\\GAMS\\win64\\40.1\\gams.exe\""
   ]
  },
  {
   "cell_type": "code",
   "execution_count": 183,
   "metadata": {},
   "outputs": [],
   "source": [
    "pulpo_worker = pulpo.PulpoOptimizer(project, databases, methods, directory)\n",
    "pulpo_worker.intervention_matrix=\"ecoinvent-3.10-biosphere\""
   ]
  },
  {
   "cell_type": "code",
   "execution_count": 184,
   "metadata": {},
   "outputs": [],
   "source": [
    "pulpo_worker.get_lci_data()"
   ]
  },
  {
   "cell_type": "markdown",
   "metadata": {},
   "source": [
    "### Get the Choices"
   ]
  },
  {
   "cell_type": "code",
   "execution_count": 185,
   "metadata": {},
   "outputs": [],
   "source": [
    "\n",
    "choices_biomethane_CS = [\"biogas upgrading to biomethane, chemical scrubbing\"]\n",
    "choices_biomethane_CSwCCS = [\"biogas upgrading to biomethane, chemical scrubbing w/ CCS\"]\n",
    "choices_biomethane_WS = [\"biogas upgrading to biomethane, water scrubbing\"]\n",
    "choices_biomethane_WSwCCS = [\"biogas upgrading to biomethane, water scrubbing w/ CCS\"]\n",
    "\n",
    "choices_methane_market = [\n",
    "    \"market for bio methane\",\n",
    "    \"market group for natural gas, high pressure\"\n",
    "]\n",
    "\n",
    "choices_hydrogen_SMR = [\"hydrogen production, steam methane reforming fg\"]\n",
    "choices_hydrogen_SMRwCCS = [\"hydrogen production, steam methane reforming, w/ CCS\"]\n",
    "choices_hydrogen_PEM = [\"hydrogen production, PEM electrolysis, yellow\"]\n",
    "choices_hydrogen_plastic = [\"hydrogen production, plastics gasification\"]\n",
    "choices_hydrogen_plasticCCS = [\"hydrogen production, plastics gasification, w/ CCS\"]\n",
    "\n",
    "choices_hydrogen_market = [\n",
    "    \"market for hydrogen\",\n",
    "    \"market for hydrogen, gaseous, low pressure\"\n",
    "]\n",
    "\n",
    "choices_heat_H2 = [\"heat from hydrogen\"]\n",
    "choices_heat_CH4wCCS = [\"heat from methane, w/ CCS\"]\n",
    "choices_heat_CH4 = [\"heat from methane\"]\n",
    "\n",
    "choices_ammonia = [\n",
    "    \"ammonia production, steam methane reforming\",\n",
    "    # \"ammonia production, steam methane reforming, w/ CCS\",\n",
    "    \"ammonia production, from nitrogen and hydrogen\"\n",
    "]\n",
    "\n",
    "choices_ammonia_market = [\n",
    "    \"market for ammonia\",\n",
    "    \"market for ammonia, anhydrous, liquid\"\n",
    "]\n",
    "\n"
   ]
  },
  {
   "cell_type": "code",
   "execution_count": 186,
   "metadata": {},
   "outputs": [],
   "source": [
    "# Retrieve activities for each category and assign to appropriately named variables\n",
    "\n",
    "# Biomethane upgrading\n",
    "biomethane_activities_CS = pulpo_worker.retrieve_activities(activities=choices_biomethane_CS, locations=[\"RER\", \"Europe without Switzerland\"])\n",
    "biomethane_activities_CSwCCS = pulpo_worker.retrieve_activities(activities=choices_biomethane_CSwCCS, locations=[\"RER\", \"Europe without Switzerland\"])\n",
    "biomethane_activities_WS = pulpo_worker.retrieve_activities(activities=choices_biomethane_WS, locations=[\"RER\", \"Europe without Switzerland\"])\n",
    "biomethane_activities_WSwCCS = pulpo_worker.retrieve_activities(activities=choices_biomethane_WSwCCS, locations=[\"RER\", \"Europe without Switzerland\"])\n",
    "\n",
    "methane_market_activities = pulpo_worker.retrieve_activities(activities=choices_methane_market, locations=[\"RER\", \"Europe without Switzerland\"])\n",
    "# Hydrogen\n",
    "hydrogen_activities_PEM = pulpo_worker.retrieve_activities(activities=choices_hydrogen_PEM, locations=[\"RER\", \"Europe without Switzerland\"])\n",
    "hydrogen_activities_plastic = pulpo_worker.retrieve_activities(activities=choices_hydrogen_plastic, locations=[\"RER\", \"Europe without Switzerland\"])\n",
    "hydrogen_activities_plasticCCS = pulpo_worker.retrieve_activities(activities=choices_hydrogen_plasticCCS, locations=[\"RER\", \"Europe without Switzerland\"])\n",
    "hydrogen_activities_SMR = pulpo_worker.retrieve_activities(activities=choices_hydrogen_SMR, locations=[\"RER\", \"Europe without Switzerland\"])\n",
    "hydrogen_activities_SMRwCCS = pulpo_worker.retrieve_activities(activities=choices_hydrogen_SMRwCCS, locations=[\"RER\", \"Europe without Switzerland\"])\n",
    "hydrogen_market_activities = pulpo_worker.retrieve_activities(activities=choices_hydrogen_market, locations=[\"RER\", \"Europe without Switzerland\"])\n",
    "# Heat\n",
    "heat_activities_CH4 = pulpo_worker.retrieve_activities(activities=choices_heat_CH4, locations=[\"RER\", \"Europe without Switzerland\"])\n",
    "heat_activities_CH4wCCS = pulpo_worker.retrieve_activities(activities=choices_heat_CH4wCCS, locations=[\"RER\", \"Europe without Switzerland\"])\n",
    "heat_activities_H2 = pulpo_worker.retrieve_activities(activities=choices_heat_H2, locations=[\"RER\", \"Europe without Switzerland\"])\n",
    "# Ammonia\n",
    "ammonia_activities = pulpo_worker.retrieve_activities(activities=choices_ammonia, locations=[\"RER\", \"Europe without Switzerland\"])\n",
    "ammonia_market_activities = pulpo_worker.retrieve_activities(activities=choices_ammonia_market, locations=[\"RER\", \"Europe without Switzerland\"])"
   ]
  },
  {
   "cell_type": "code",
   "execution_count": 187,
   "metadata": {},
   "outputs": [
    {
     "name": "stdout",
     "output_type": "stream",
     "text": [
      "Biomethane Activities: ['biogas upgrading to biomethane, chemical scrubbing' (cubic meter, RER, None), 'biogas upgrading to biomethane, chemical scrubbing w/ CCS' (cubic meter, RER, None), 'biogas upgrading to biomethane, water scrubbing' (cubic meter, RER, None), 'biogas upgrading to biomethane, water scrubbing w/ CCS' (cubic meter, RER, None)]\n",
      "Methane Market Activities: ['market group for natural gas, high pressure' (cubic meter, Europe without Switzerland, None), 'market for bio methane' (cubic meter, RER, None)]\n",
      "Hydrogen Activities: ['hydrogen production, PEM electrolysis, yellow' (kilogram, RER, None), 'hydrogen production, plastics gasification' (kilogram, RER, None), 'hydrogen production, plastics gasification, w/ CCS' (kilogram, RER, None), 'hydrogen production, steam methane reforming fg' (kilogram, RER, None), 'hydrogen production, steam methane reforming, w/ CCS' (kilogram, RER, None)]\n",
      "Hydrogen Market Activities: ['market for hydrogen, gaseous, low pressure' (kilogram, RER, None), 'market for hydrogen' (kilogram, RER, None)]\n",
      "Heat Activities: ['heat from methane' (megajoule, RER, None), 'heat from methane, w/ CCS' (megajoule, RER, None), 'heat from hydrogen' (megajoule, RER, None)]\n",
      "Ammonia Activities: ['ammonia production, steam methane reforming' (kilogram, RER, None), 'ammonia production, from nitrogen and hydrogen' (kilogram, RER, None)]\n",
      "Ammonia Market Activities: ['market for ammonia, anhydrous, liquid' (kilogram, RER, None), 'market for ammonia' (kilogram, RER, None)]\n"
     ]
    }
   ],
   "source": [
    "# Display the results\n",
    "print(\"Biomethane Activities:\", biomethane_activities_CS+biomethane_activities_CSwCCS+biomethane_activities_WS+biomethane_activities_WSwCCS)\n",
    "print(\"Methane Market Activities:\", methane_market_activities)\n",
    "print(\"Hydrogen Activities:\", hydrogen_activities_PEM + hydrogen_activities_plastic + hydrogen_activities_plasticCCS + hydrogen_activities_SMR + hydrogen_activities_SMRwCCS)\n",
    "print(\"Hydrogen Market Activities:\", hydrogen_market_activities)\n",
    "print(\"Heat Activities:\", heat_activities_CH4+heat_activities_CH4wCCS+heat_activities_H2)\n",
    "print(\"Ammonia Activities:\", ammonia_activities)\n",
    "print(\"Ammonia Market Activities:\", ammonia_market_activities)"
   ]
  },
  {
   "cell_type": "markdown",
   "metadata": {},
   "source": [
    "### Set constraints on choices"
   ]
  },
  {
   "cell_type": "code",
   "execution_count": 188,
   "metadata": {},
   "outputs": [],
   "source": [
    "# Since we can not solve the problem with high demands we need to scale the constraints\n",
    "demand_value = 3000e6"
   ]
  },
  {
   "cell_type": "code",
   "execution_count": 189,
   "metadata": {},
   "outputs": [],
   "source": [
    "# Setting the manure biomgas availability\n",
    "manure_biogas = 1.8e9"
   ]
  },
  {
   "cell_type": "code",
   "execution_count": 190,
   "metadata": {},
   "outputs": [],
   "source": [
    "choices = {\n",
    "    \"ammonia\": {x: 1e20 for x in ammonia_activities},\n",
    "    \"methane_market\": {x: 1e20 for x in methane_market_activities},\n",
    "    \"hydrogen_market\": {x: 1e20 for x in hydrogen_market_activities},\n",
    "    \"ammonia_market\": {x: 1e20 for x in ammonia_market_activities},\n",
    "}\n",
    "choices[\"hydrogen\"] = {\n",
    "    hydrogen_activities_PEM[0] : .3*.1e9/demand_value, # 0.1 Mt H2 -- 30% of PEM to NH3\n",
    "    hydrogen_activities_SMR[0] : 1e20, # SMR\n",
    "    hydrogen_activities_SMRwCCS[0] : .3*.5e9/demand_value, # 0.5 Mt H2 -- 30% of SMR w CCS H2 for NH3\n",
    "    hydrogen_activities_plastic[0] : .3*40e6/demand_value, # 40 kt H2 -- 30% of plastic gasification for NH3\n",
    "    hydrogen_activities_plasticCCS[0] : .3*1e6/demand_value, # 10 kt H2 -- 30% of plastic gasification w CCS for NH3\n",
    "}\n",
    "choices[\"heat\"] = {\n",
    "    heat_activities_CH4[0]: 1e20,\n",
    "    heat_activities_CH4wCCS[0]: .1*1.4e10/demand_value, # Assuming 10% of the heat currently needed for Ammonia produciton\n",
    "    heat_activities_H2[0]:1*1.4e10/demand_value, # Assuming 10% of the heat currently needed for Ammonia produciton\n",
    "}\n",
    "choices[\"biomethane\"] = {\n",
    "    biomethane_activities_CS[0]: 1e20, # Assumingly the same potential as WS\n",
    "    biomethane_activities_CSwCCS[0]: .1*.2*manure_biogas/demand_value, # Guess: the same as WS wCCS\n",
    "    biomethane_activities_WS[0]: 1e20, # Assumingly the base case technology\n",
    "    biomethane_activities_WSwCCS[0]: .1*.2*manure_biogas/demand_value #  20% (biomethane for NH3) of 10% (CCS for biomethane )of 1.8 mt (biomethane) for which is the max capacity 2030\n",
    "}"
   ]
  },
  {
   "cell_type": "markdown",
   "metadata": {},
   "source": [
    "### Demand"
   ]
  },
  {
   "cell_type": "code",
   "execution_count": 191,
   "metadata": {},
   "outputs": [],
   "source": [
    "ammonia_market = pulpo_worker.retrieve_activities(activities=\"market for ammonia\")"
   ]
  },
  {
   "cell_type": "code",
   "execution_count": 192,
   "metadata": {},
   "outputs": [],
   "source": [
    "demand = {\"ammonia_market\": 1}  # 3000e6"
   ]
  },
  {
   "cell_type": "markdown",
   "metadata": {},
   "source": [
    "### Add additional constraints"
   ]
  },
  {
   "cell_type": "code",
   "execution_count": 193,
   "metadata": {},
   "outputs": [],
   "source": [
    "# manure_collection_act = pulpo_worker.retrieve_activities(activities='animal manure collection', locations=[\"RER\", \"Europe without Switzerland\"])"
   ]
  },
  {
   "cell_type": "code",
   "execution_count": 194,
   "metadata": {},
   "outputs": [],
   "source": [
    "anaerobic_digestion = pulpo_worker.retrieve_activities(activities='anaerobic digestion of animal manure, with biogenic carbon uptake', locations=[\"RER\", \"Europe without Switzerland\"])"
   ]
  },
  {
   "cell_type": "code",
   "execution_count": 195,
   "metadata": {},
   "outputs": [],
   "source": [
    "upper_bound = {\n",
    "    # manure_collection_act[0]: 1e6/demand_value,# From (Liebetrau, 2021) assuming sustainable food systems\n",
    "    anaerobic_digestion[0]:.2*1.8e9/demand_value # 20% of 1.8 mt which is the max capacity 2030\n",
    "    } "
   ]
  },
  {
   "cell_type": "markdown",
   "metadata": {},
   "source": [
    "### Instantiate and Solve"
   ]
  },
  {
   "cell_type": "code",
   "execution_count": 196,
   "metadata": {},
   "outputs": [
    {
     "name": "stdout",
     "output_type": "stream",
     "text": [
      "Creating Instance\n",
      "Instance created\n"
     ]
    }
   ],
   "source": [
    "instance = pulpo_worker.instantiate(choices=choices, demand=demand, upper_limit=upper_bound)\n",
    "# instance = pulpo_worker.instantiate(choices=choices, demand=demand)"
   ]
  },
  {
   "cell_type": "code",
   "execution_count": 197,
   "metadata": {},
   "outputs": [],
   "source": [
    "# results = pulpo_worker.solve(GAMS_PATH=GAMS_PATH)\n",
    "# options = {'NEOS_EMAIL':'b.j.p.m.haussling.lowgren@cml.leidenuniv.nl'}\n",
    "# results_pyomo = pulpo_worker.solve(solver_name='baron', options=options)"
   ]
  },
  {
   "cell_type": "code",
   "execution_count": 198,
   "metadata": {},
   "outputs": [],
   "source": [
    "# pulpo_worker.summarize_results(zeroes=True)"
   ]
  },
  {
   "cell_type": "code",
   "execution_count": 199,
   "metadata": {},
   "outputs": [
    {
     "name": "stdout",
     "output_type": "stream",
     "text": [
      "Running HiGHS 1.8.0 (git hash: eda5cbe): Copyright (c) 2024 HiGHS under MIT licence terms\n",
      "Cols:       47102 lower bounds    less than or equal to       -1e+20 are treated as -Infinity\n",
      "Cols:       47102 upper bounds greater than or equal to        1e+20 are treated as +Infinity\n",
      "Rows:       23537 lower bounds    less than or equal to       -1e+20 are treated as -Infinity\n",
      "Rows:       23549 upper bounds greater than or equal to        1e+20 are treated as +Infinity\n",
      "WARNING: LP matrix packed vector contains 23121 |values| in [0, 1e-09] less than or equal to 1e-09: ignored\n",
      "optimal solution found:  1.2847673773958053\n"
     ]
    }
   ],
   "source": [
    "results_pyomo_highs = pulpo_worker.solve()"
   ]
  },
  {
   "cell_type": "code",
   "execution_count": 200,
   "metadata": {},
   "outputs": [
    {
     "data": {
      "text/markdown": [
       "## Total Impact(s)"
      ],
      "text/plain": [
       "<IPython.core.display.Markdown object>"
      ]
     },
     "metadata": {},
     "output_type": "display_data"
    },
    {
     "data": {
      "application/vnd.microsoft.datawrangler.viewer.v0+json": {
       "columns": [
        {
         "name": "Method",
         "rawType": "object",
         "type": "string"
        },
        {
         "name": "Weight",
         "rawType": "int64",
         "type": "integer"
        },
        {
         "name": "Value",
         "rawType": "float64",
         "type": "float"
        }
       ],
       "conversionMethod": "pd.DataFrame",
       "ref": "74b8d9c7-6e9f-41e3-bb18-be3bb477edcf",
       "rows": [
        [
         "('IPCC 2021', 'climate change', 'GWP 100a, incl. H and bio CO2')",
         "1",
         "1.2847673773958053"
        ]
       ],
       "shape": {
        "columns": 2,
        "rows": 1
       }
      },
      "text/html": [
       "<div>\n",
       "<style scoped>\n",
       "    .dataframe tbody tr th:only-of-type {\n",
       "        vertical-align: middle;\n",
       "    }\n",
       "\n",
       "    .dataframe tbody tr th {\n",
       "        vertical-align: top;\n",
       "    }\n",
       "\n",
       "    .dataframe thead th {\n",
       "        text-align: right;\n",
       "    }\n",
       "</style>\n",
       "<table border=\"1\" class=\"dataframe\">\n",
       "  <thead>\n",
       "    <tr style=\"text-align: right;\">\n",
       "      <th></th>\n",
       "      <th>Weight</th>\n",
       "      <th>Value</th>\n",
       "    </tr>\n",
       "    <tr>\n",
       "      <th>Method</th>\n",
       "      <th></th>\n",
       "      <th></th>\n",
       "    </tr>\n",
       "  </thead>\n",
       "  <tbody>\n",
       "    <tr>\n",
       "      <th>('IPCC 2021', 'climate change', 'GWP 100a, incl. H and bio CO2')</th>\n",
       "      <td>1</td>\n",
       "      <td>1.284767</td>\n",
       "    </tr>\n",
       "  </tbody>\n",
       "</table>\n",
       "</div>"
      ],
      "text/plain": [
       "                                                                  Weight  \\\n",
       "Method                                                                     \n",
       "('IPCC 2021', 'climate change', 'GWP 100a, incl. H and bio CO2')       1   \n",
       "\n",
       "                                                                     Value  \n",
       "Method                                                                      \n",
       "('IPCC 2021', 'climate change', 'GWP 100a, incl. H and bio CO2')  1.284767  "
      ]
     },
     "metadata": {},
     "output_type": "display_data"
    },
    {
     "data": {
      "text/markdown": [
       "## Choices Made"
      ],
      "text/plain": [
       "<IPython.core.display.Markdown object>"
      ]
     },
     "metadata": {},
     "output_type": "display_data"
    },
    {
     "data": {
      "text/markdown": [
       "### ammonia"
      ],
      "text/plain": [
       "<IPython.core.display.Markdown object>"
      ]
     },
     "metadata": {},
     "output_type": "display_data"
    },
    {
     "data": {
      "application/vnd.microsoft.datawrangler.viewer.v0+json": {
       "columns": [
        {
         "name": "Metadata",
         "rawType": "object",
         "type": "string"
        },
        {
         "name": "Value",
         "rawType": "float64",
         "type": "float"
        },
        {
         "name": "Capacity",
         "rawType": "float64",
         "type": "float"
        }
       ],
       "conversionMethod": "pd.DataFrame",
       "ref": "6d2637fa-a9ec-4a02-8992-0cf6739b10f3",
       "rows": [
        [
         "ammonia production, from nitrogen and hydrogen | ammonia production, from nitrogen and hydrogen | RER",
         "0.6700287000671508",
         "1e+20"
        ]
       ],
       "shape": {
        "columns": 2,
        "rows": 1
       }
      },
      "text/html": [
       "<div>\n",
       "<style scoped>\n",
       "    .dataframe tbody tr th:only-of-type {\n",
       "        vertical-align: middle;\n",
       "    }\n",
       "\n",
       "    .dataframe tbody tr th {\n",
       "        vertical-align: top;\n",
       "    }\n",
       "\n",
       "    .dataframe thead th {\n",
       "        text-align: right;\n",
       "    }\n",
       "</style>\n",
       "<table border=\"1\" class=\"dataframe\">\n",
       "  <thead>\n",
       "    <tr style=\"text-align: right;\">\n",
       "      <th></th>\n",
       "      <th>Value</th>\n",
       "      <th>Capacity</th>\n",
       "    </tr>\n",
       "    <tr>\n",
       "      <th>Metadata</th>\n",
       "      <th></th>\n",
       "      <th></th>\n",
       "    </tr>\n",
       "  </thead>\n",
       "  <tbody>\n",
       "    <tr>\n",
       "      <th>ammonia production, from nitrogen and hydrogen | ammonia production, from nitrogen and hydrogen | RER</th>\n",
       "      <td>0.670029</td>\n",
       "      <td>1.000000e+20</td>\n",
       "    </tr>\n",
       "  </tbody>\n",
       "</table>\n",
       "</div>"
      ],
      "text/plain": [
       "                                                                                                          Value  \\\n",
       "Metadata                                                                                                          \n",
       "ammonia production, from nitrogen and hydrogen | ammonia production, from nitrogen and hydrogen | RER  0.670029   \n",
       "\n",
       "                                                                                                           Capacity  \n",
       "Metadata                                                                                                             \n",
       "ammonia production, from nitrogen and hydrogen | ammonia production, from nitrogen and hydrogen | RER  1.000000e+20  "
      ]
     },
     "metadata": {},
     "output_type": "display_data"
    },
    {
     "data": {
      "text/markdown": [
       "### methane_market"
      ],
      "text/plain": [
       "<IPython.core.display.Markdown object>"
      ]
     },
     "metadata": {},
     "output_type": "display_data"
    },
    {
     "data": {
      "application/vnd.microsoft.datawrangler.viewer.v0+json": {
       "columns": [
        {
         "name": "Metadata",
         "rawType": "object",
         "type": "string"
        },
        {
         "name": "Value",
         "rawType": "float64",
         "type": "float"
        },
        {
         "name": "Capacity",
         "rawType": "float64",
         "type": "float"
        }
       ],
       "conversionMethod": "pd.DataFrame",
       "ref": "2f998017-d30b-4efc-8fa1-4fe38dff5b9e",
       "rows": [
        [
         "market group for natural gas, high pressure | natural gas, high pressure | Europe without Switzerland",
         "0.6984926515255729",
         "1e+20"
        ],
        [
         "market for bio methane | methane | RER",
         "0.0697385277543988",
         "1e+20"
        ]
       ],
       "shape": {
        "columns": 2,
        "rows": 2
       }
      },
      "text/html": [
       "<div>\n",
       "<style scoped>\n",
       "    .dataframe tbody tr th:only-of-type {\n",
       "        vertical-align: middle;\n",
       "    }\n",
       "\n",
       "    .dataframe tbody tr th {\n",
       "        vertical-align: top;\n",
       "    }\n",
       "\n",
       "    .dataframe thead th {\n",
       "        text-align: right;\n",
       "    }\n",
       "</style>\n",
       "<table border=\"1\" class=\"dataframe\">\n",
       "  <thead>\n",
       "    <tr style=\"text-align: right;\">\n",
       "      <th></th>\n",
       "      <th>Value</th>\n",
       "      <th>Capacity</th>\n",
       "    </tr>\n",
       "    <tr>\n",
       "      <th>Metadata</th>\n",
       "      <th></th>\n",
       "      <th></th>\n",
       "    </tr>\n",
       "  </thead>\n",
       "  <tbody>\n",
       "    <tr>\n",
       "      <th>market group for natural gas, high pressure | natural gas, high pressure | Europe without Switzerland</th>\n",
       "      <td>0.698493</td>\n",
       "      <td>1.000000e+20</td>\n",
       "    </tr>\n",
       "    <tr>\n",
       "      <th>market for bio methane | methane | RER</th>\n",
       "      <td>0.069739</td>\n",
       "      <td>1.000000e+20</td>\n",
       "    </tr>\n",
       "  </tbody>\n",
       "</table>\n",
       "</div>"
      ],
      "text/plain": [
       "                                                                                                          Value  \\\n",
       "Metadata                                                                                                          \n",
       "market group for natural gas, high pressure | natural gas, high pressure | Europe without Switzerland  0.698493   \n",
       "market for bio methane | methane | RER                                                                 0.069739   \n",
       "\n",
       "                                                                                                           Capacity  \n",
       "Metadata                                                                                                             \n",
       "market group for natural gas, high pressure | natural gas, high pressure | Europe without Switzerland  1.000000e+20  \n",
       "market for bio methane | methane | RER                                                                 1.000000e+20  "
      ]
     },
     "metadata": {},
     "output_type": "display_data"
    },
    {
     "data": {
      "text/markdown": [
       "### hydrogen_market"
      ],
      "text/plain": [
       "<IPython.core.display.Markdown object>"
      ]
     },
     "metadata": {},
     "output_type": "display_data"
    },
    {
     "data": {
      "application/vnd.microsoft.datawrangler.viewer.v0+json": {
       "columns": [
        {
         "name": "Metadata",
         "rawType": "object",
         "type": "string"
        },
        {
         "name": "Value",
         "rawType": "float64",
         "type": "float"
        },
        {
         "name": "Capacity",
         "rawType": "float64",
         "type": "float"
        }
       ],
       "conversionMethod": "pd.DataFrame",
       "ref": "b51d6bdc-3096-406f-97ab-81da41aede69",
       "rows": [
        [
         "market for hydrogen, gaseous, low pressure | hydrogen, gaseous, low pressure | RER",
         "0.067825285500912",
         "1e+20"
        ],
        [
         "market for hydrogen | hydrogen | RER",
         "0.05009999925345184",
         "1e+20"
        ]
       ],
       "shape": {
        "columns": 2,
        "rows": 2
       }
      },
      "text/html": [
       "<div>\n",
       "<style scoped>\n",
       "    .dataframe tbody tr th:only-of-type {\n",
       "        vertical-align: middle;\n",
       "    }\n",
       "\n",
       "    .dataframe tbody tr th {\n",
       "        vertical-align: top;\n",
       "    }\n",
       "\n",
       "    .dataframe thead th {\n",
       "        text-align: right;\n",
       "    }\n",
       "</style>\n",
       "<table border=\"1\" class=\"dataframe\">\n",
       "  <thead>\n",
       "    <tr style=\"text-align: right;\">\n",
       "      <th></th>\n",
       "      <th>Value</th>\n",
       "      <th>Capacity</th>\n",
       "    </tr>\n",
       "    <tr>\n",
       "      <th>Metadata</th>\n",
       "      <th></th>\n",
       "      <th></th>\n",
       "    </tr>\n",
       "  </thead>\n",
       "  <tbody>\n",
       "    <tr>\n",
       "      <th>market for hydrogen, gaseous, low pressure | hydrogen, gaseous, low pressure | RER</th>\n",
       "      <td>0.067825</td>\n",
       "      <td>1.000000e+20</td>\n",
       "    </tr>\n",
       "    <tr>\n",
       "      <th>market for hydrogen | hydrogen | RER</th>\n",
       "      <td>0.050100</td>\n",
       "      <td>1.000000e+20</td>\n",
       "    </tr>\n",
       "  </tbody>\n",
       "</table>\n",
       "</div>"
      ],
      "text/plain": [
       "                                                                                       Value  \\\n",
       "Metadata                                                                                       \n",
       "market for hydrogen, gaseous, low pressure | hydrogen, gaseous, low pressure | RER  0.067825   \n",
       "market for hydrogen | hydrogen | RER                                                0.050100   \n",
       "\n",
       "                                                                                        Capacity  \n",
       "Metadata                                                                                          \n",
       "market for hydrogen, gaseous, low pressure | hydrogen, gaseous, low pressure | RER  1.000000e+20  \n",
       "market for hydrogen | hydrogen | RER                                                1.000000e+20  "
      ]
     },
     "metadata": {},
     "output_type": "display_data"
    },
    {
     "data": {
      "text/markdown": [
       "### ammonia_market"
      ],
      "text/plain": [
       "<IPython.core.display.Markdown object>"
      ]
     },
     "metadata": {},
     "output_type": "display_data"
    },
    {
     "data": {
      "application/vnd.microsoft.datawrangler.viewer.v0+json": {
       "columns": [
        {
         "name": "Metadata",
         "rawType": "object",
         "type": "string"
        },
        {
         "name": "Value",
         "rawType": "float64",
         "type": "float"
        },
        {
         "name": "Capacity",
         "rawType": "float64",
         "type": "float"
        }
       ],
       "conversionMethod": "pd.DataFrame",
       "ref": "470d572f-0578-4b14-99e2-ba4c722d0500",
       "rows": [
        [
         "market for ammonia | ammonia | RER",
         "1.0000428110106503",
         "1e+20"
        ]
       ],
       "shape": {
        "columns": 2,
        "rows": 1
       }
      },
      "text/html": [
       "<div>\n",
       "<style scoped>\n",
       "    .dataframe tbody tr th:only-of-type {\n",
       "        vertical-align: middle;\n",
       "    }\n",
       "\n",
       "    .dataframe tbody tr th {\n",
       "        vertical-align: top;\n",
       "    }\n",
       "\n",
       "    .dataframe thead th {\n",
       "        text-align: right;\n",
       "    }\n",
       "</style>\n",
       "<table border=\"1\" class=\"dataframe\">\n",
       "  <thead>\n",
       "    <tr style=\"text-align: right;\">\n",
       "      <th></th>\n",
       "      <th>Value</th>\n",
       "      <th>Capacity</th>\n",
       "    </tr>\n",
       "    <tr>\n",
       "      <th>Metadata</th>\n",
       "      <th></th>\n",
       "      <th></th>\n",
       "    </tr>\n",
       "  </thead>\n",
       "  <tbody>\n",
       "    <tr>\n",
       "      <th>market for ammonia | ammonia | RER</th>\n",
       "      <td>1.000043</td>\n",
       "      <td>1.000000e+20</td>\n",
       "    </tr>\n",
       "  </tbody>\n",
       "</table>\n",
       "</div>"
      ],
      "text/plain": [
       "                                       Value      Capacity\n",
       "Metadata                                                  \n",
       "market for ammonia | ammonia | RER  1.000043  1.000000e+20"
      ]
     },
     "metadata": {},
     "output_type": "display_data"
    },
    {
     "data": {
      "text/markdown": [
       "### hydrogen"
      ],
      "text/plain": [
       "<IPython.core.display.Markdown object>"
      ]
     },
     "metadata": {},
     "output_type": "display_data"
    },
    {
     "data": {
      "application/vnd.microsoft.datawrangler.viewer.v0+json": {
       "columns": [
        {
         "name": "Metadata",
         "rawType": "object",
         "type": "string"
        },
        {
         "name": "Value",
         "rawType": "float64",
         "type": "float"
        },
        {
         "name": "Capacity",
         "rawType": "float64",
         "type": "float"
        }
       ],
       "conversionMethod": "pd.DataFrame",
       "ref": "10eec115-963f-4d5c-afe8-f34d10a07423",
       "rows": [
        [
         "hydrogen production, steam methane reforming, w/ CCS | hydrogen production, biomethane, with CCS | RER",
         "0.05",
         "0.05"
        ],
        [
         "hydrogen production, plastics gasification, w/ CCS | hydrogen production, plastics gasification, with CCS | RER",
         "0.0001",
         "0.0001"
        ]
       ],
       "shape": {
        "columns": 2,
        "rows": 2
       }
      },
      "text/html": [
       "<div>\n",
       "<style scoped>\n",
       "    .dataframe tbody tr th:only-of-type {\n",
       "        vertical-align: middle;\n",
       "    }\n",
       "\n",
       "    .dataframe tbody tr th {\n",
       "        vertical-align: top;\n",
       "    }\n",
       "\n",
       "    .dataframe thead th {\n",
       "        text-align: right;\n",
       "    }\n",
       "</style>\n",
       "<table border=\"1\" class=\"dataframe\">\n",
       "  <thead>\n",
       "    <tr style=\"text-align: right;\">\n",
       "      <th></th>\n",
       "      <th>Value</th>\n",
       "      <th>Capacity</th>\n",
       "    </tr>\n",
       "    <tr>\n",
       "      <th>Metadata</th>\n",
       "      <th></th>\n",
       "      <th></th>\n",
       "    </tr>\n",
       "  </thead>\n",
       "  <tbody>\n",
       "    <tr>\n",
       "      <th>hydrogen production, steam methane reforming, w/ CCS | hydrogen production, biomethane, with CCS | RER</th>\n",
       "      <td>0.0500</td>\n",
       "      <td>0.0500</td>\n",
       "    </tr>\n",
       "    <tr>\n",
       "      <th>hydrogen production, plastics gasification, w/ CCS | hydrogen production, plastics gasification, with CCS | RER</th>\n",
       "      <td>0.0001</td>\n",
       "      <td>0.0001</td>\n",
       "    </tr>\n",
       "  </tbody>\n",
       "</table>\n",
       "</div>"
      ],
      "text/plain": [
       "                                                                                                                  Value  \\\n",
       "Metadata                                                                                                                  \n",
       "hydrogen production, steam methane reforming, w/ CCS | hydrogen production, biomethane, with CCS | RER           0.0500   \n",
       "hydrogen production, plastics gasification, w/ CCS | hydrogen production, plastics gasification, with CCS | RER  0.0001   \n",
       "\n",
       "                                                                                                                 Capacity  \n",
       "Metadata                                                                                                                   \n",
       "hydrogen production, steam methane reforming, w/ CCS | hydrogen production, biomethane, with CCS | RER             0.0500  \n",
       "hydrogen production, plastics gasification, w/ CCS | hydrogen production, plastics gasification, with CCS | RER    0.0001  "
      ]
     },
     "metadata": {},
     "output_type": "display_data"
    },
    {
     "data": {
      "text/markdown": [
       "### heat"
      ],
      "text/plain": [
       "<IPython.core.display.Markdown object>"
      ]
     },
     "metadata": {},
     "output_type": "display_data"
    },
    {
     "data": {
      "application/vnd.microsoft.datawrangler.viewer.v0+json": {
       "columns": [
        {
         "name": "Metadata",
         "rawType": "object",
         "type": "string"
        },
        {
         "name": "Value",
         "rawType": "float64",
         "type": "float"
        },
        {
         "name": "Capacity",
         "rawType": "float64",
         "type": "float"
        }
       ],
       "conversionMethod": "pd.DataFrame",
       "ref": "a709a6d3-3c54-494c-877d-65c8979538c5",
       "rows": [
        [
         "heat from methane | heat from methane | RER",
         "2.6182721211049476",
         "1e+20"
        ],
        [
         "heat from methane, w/ CCS | heat from biomethane, with CCS | RER",
         "0.4666666666666667",
         "0.4666666666666667"
        ]
       ],
       "shape": {
        "columns": 2,
        "rows": 2
       }
      },
      "text/html": [
       "<div>\n",
       "<style scoped>\n",
       "    .dataframe tbody tr th:only-of-type {\n",
       "        vertical-align: middle;\n",
       "    }\n",
       "\n",
       "    .dataframe tbody tr th {\n",
       "        vertical-align: top;\n",
       "    }\n",
       "\n",
       "    .dataframe thead th {\n",
       "        text-align: right;\n",
       "    }\n",
       "</style>\n",
       "<table border=\"1\" class=\"dataframe\">\n",
       "  <thead>\n",
       "    <tr style=\"text-align: right;\">\n",
       "      <th></th>\n",
       "      <th>Value</th>\n",
       "      <th>Capacity</th>\n",
       "    </tr>\n",
       "    <tr>\n",
       "      <th>Metadata</th>\n",
       "      <th></th>\n",
       "      <th></th>\n",
       "    </tr>\n",
       "  </thead>\n",
       "  <tbody>\n",
       "    <tr>\n",
       "      <th>heat from methane | heat from methane | RER</th>\n",
       "      <td>2.618272</td>\n",
       "      <td>1.000000e+20</td>\n",
       "    </tr>\n",
       "    <tr>\n",
       "      <th>heat from methane, w/ CCS | heat from biomethane, with CCS | RER</th>\n",
       "      <td>0.466667</td>\n",
       "      <td>4.666667e-01</td>\n",
       "    </tr>\n",
       "  </tbody>\n",
       "</table>\n",
       "</div>"
      ],
      "text/plain": [
       "                                                                     Value  \\\n",
       "Metadata                                                                     \n",
       "heat from methane | heat from methane | RER                       2.618272   \n",
       "heat from methane, w/ CCS | heat from biomethane, with CCS | RER  0.466667   \n",
       "\n",
       "                                                                      Capacity  \n",
       "Metadata                                                                        \n",
       "heat from methane | heat from methane | RER                       1.000000e+20  \n",
       "heat from methane, w/ CCS | heat from biomethane, with CCS | RER  4.666667e-01  "
      ]
     },
     "metadata": {},
     "output_type": "display_data"
    },
    {
     "data": {
      "text/markdown": [
       "### biomethane"
      ],
      "text/plain": [
       "<IPython.core.display.Markdown object>"
      ]
     },
     "metadata": {},
     "output_type": "display_data"
    },
    {
     "data": {
      "application/vnd.microsoft.datawrangler.viewer.v0+json": {
       "columns": [
        {
         "name": "Metadata",
         "rawType": "object",
         "type": "string"
        },
        {
         "name": "Value",
         "rawType": "float64",
         "type": "float"
        },
        {
         "name": "Capacity",
         "rawType": "float64",
         "type": "float"
        }
       ],
       "conversionMethod": "pd.DataFrame",
       "ref": "8cf24715-5162-4583-b0a8-a449ff6ab23d",
       "rows": [
        [
         "biogas upgrading to biomethane, chemical scrubbing | biomethane, 24 bar | RER",
         "0.045041142102748184",
         "1e+20"
        ],
        [
         "biogas upgrading to biomethane, chemical scrubbing w/ CCS | biomethane, 24 bar | RER",
         "0.012000000000000002",
         "0.012000000000000002"
        ],
        [
         "biogas upgrading to biomethane, water scrubbing w/ CCS | biomethane, 24 bar | RER",
         "0.012000000000000002",
         "0.012000000000000002"
        ]
       ],
       "shape": {
        "columns": 2,
        "rows": 3
       }
      },
      "text/html": [
       "<div>\n",
       "<style scoped>\n",
       "    .dataframe tbody tr th:only-of-type {\n",
       "        vertical-align: middle;\n",
       "    }\n",
       "\n",
       "    .dataframe tbody tr th {\n",
       "        vertical-align: top;\n",
       "    }\n",
       "\n",
       "    .dataframe thead th {\n",
       "        text-align: right;\n",
       "    }\n",
       "</style>\n",
       "<table border=\"1\" class=\"dataframe\">\n",
       "  <thead>\n",
       "    <tr style=\"text-align: right;\">\n",
       "      <th></th>\n",
       "      <th>Value</th>\n",
       "      <th>Capacity</th>\n",
       "    </tr>\n",
       "    <tr>\n",
       "      <th>Metadata</th>\n",
       "      <th></th>\n",
       "      <th></th>\n",
       "    </tr>\n",
       "  </thead>\n",
       "  <tbody>\n",
       "    <tr>\n",
       "      <th>biogas upgrading to biomethane, chemical scrubbing | biomethane, 24 bar | RER</th>\n",
       "      <td>0.045041</td>\n",
       "      <td>1.000000e+20</td>\n",
       "    </tr>\n",
       "    <tr>\n",
       "      <th>biogas upgrading to biomethane, chemical scrubbing w/ CCS | biomethane, 24 bar | RER</th>\n",
       "      <td>0.012000</td>\n",
       "      <td>1.200000e-02</td>\n",
       "    </tr>\n",
       "    <tr>\n",
       "      <th>biogas upgrading to biomethane, water scrubbing w/ CCS | biomethane, 24 bar | RER</th>\n",
       "      <td>0.012000</td>\n",
       "      <td>1.200000e-02</td>\n",
       "    </tr>\n",
       "  </tbody>\n",
       "</table>\n",
       "</div>"
      ],
      "text/plain": [
       "                                                                                         Value  \\\n",
       "Metadata                                                                                         \n",
       "biogas upgrading to biomethane, chemical scrubbing | biomethane, 24 bar | RER         0.045041   \n",
       "biogas upgrading to biomethane, chemical scrubbing w/ CCS | biomethane, 24 bar | RER  0.012000   \n",
       "biogas upgrading to biomethane, water scrubbing w/ CCS | biomethane, 24 bar | RER     0.012000   \n",
       "\n",
       "                                                                                          Capacity  \n",
       "Metadata                                                                                            \n",
       "biogas upgrading to biomethane, chemical scrubbing | biomethane, 24 bar | RER         1.000000e+20  \n",
       "biogas upgrading to biomethane, chemical scrubbing w/ CCS | biomethane, 24 bar | RER  1.200000e-02  \n",
       "biogas upgrading to biomethane, water scrubbing w/ CCS | biomethane, 24 bar | RER     1.200000e-02  "
      ]
     },
     "metadata": {},
     "output_type": "display_data"
    },
    {
     "data": {
      "text/markdown": [
       "## Constraints"
      ],
      "text/plain": [
       "<IPython.core.display.Markdown object>"
      ]
     },
     "metadata": {},
     "output_type": "display_data"
    },
    {
     "data": {
      "text/markdown": [
       "### Constraints Upper"
      ],
      "text/plain": [
       "<IPython.core.display.Markdown object>"
      ]
     },
     "metadata": {},
     "output_type": "display_data"
    },
    {
     "data": {
      "application/vnd.microsoft.datawrangler.viewer.v0+json": {
       "columns": [
        {
         "name": "ID",
         "rawType": "int64",
         "type": "integer"
        },
        {
         "name": "Key",
         "rawType": "object",
         "type": "unknown"
        },
        {
         "name": "Metadata",
         "rawType": "object",
         "type": "string"
        },
        {
         "name": "Value",
         "rawType": "float64",
         "type": "float"
        },
        {
         "name": "Limit",
         "rawType": "float64",
         "type": "float"
        }
       ],
       "conversionMethod": "pd.DataFrame",
       "ref": "83866b35-e1e4-4771-a4cf-ea98a6b9a5f6",
       "rows": [
        [
         "23532",
         "('ammonia-reduced', 'a2610a42cd93afb46b13b2e95273e1f7_copy1')",
         "anaerobic digestion of animal manure, with biogenic carbon uptake | biogas | RER",
         "0.12",
         "0.12"
        ]
       ],
       "shape": {
        "columns": 4,
        "rows": 1
       }
      },
      "text/html": [
       "<div>\n",
       "<style scoped>\n",
       "    .dataframe tbody tr th:only-of-type {\n",
       "        vertical-align: middle;\n",
       "    }\n",
       "\n",
       "    .dataframe tbody tr th {\n",
       "        vertical-align: top;\n",
       "    }\n",
       "\n",
       "    .dataframe thead th {\n",
       "        text-align: right;\n",
       "    }\n",
       "</style>\n",
       "<table border=\"1\" class=\"dataframe\">\n",
       "  <thead>\n",
       "    <tr style=\"text-align: right;\">\n",
       "      <th></th>\n",
       "      <th>Key</th>\n",
       "      <th>Metadata</th>\n",
       "      <th>Value</th>\n",
       "      <th>Limit</th>\n",
       "    </tr>\n",
       "    <tr>\n",
       "      <th>ID</th>\n",
       "      <th></th>\n",
       "      <th></th>\n",
       "      <th></th>\n",
       "      <th></th>\n",
       "    </tr>\n",
       "  </thead>\n",
       "  <tbody>\n",
       "    <tr>\n",
       "      <th>23532</th>\n",
       "      <td>(ammonia-reduced, a2610a42cd93afb46b13b2e95273e1f7_copy1)</td>\n",
       "      <td>anaerobic digestion of animal manure, with biogenic carbon uptake | biogas | RER</td>\n",
       "      <td>0.12</td>\n",
       "      <td>0.12</td>\n",
       "    </tr>\n",
       "  </tbody>\n",
       "</table>\n",
       "</div>"
      ],
      "text/plain": [
       "                                                             Key  \\\n",
       "ID                                                                 \n",
       "23532  (ammonia-reduced, a2610a42cd93afb46b13b2e95273e1f7_copy1)   \n",
       "\n",
       "                                                                               Metadata  \\\n",
       "ID                                                                                        \n",
       "23532  anaerobic digestion of animal manure, with biogenic carbon uptake | biogas | RER   \n",
       "\n",
       "       Value  Limit  \n",
       "ID                   \n",
       "23532   0.12   0.12  "
      ]
     },
     "metadata": {},
     "output_type": "display_data"
    }
   ],
   "source": [
    "pulpo_worker.summarize_results(zeroes=True)"
   ]
  },
  {
   "cell_type": "code",
   "execution_count": 201,
   "metadata": {},
   "outputs": [],
   "source": [
    "results_data = pulpo_worker.extract_results()"
   ]
  }
 ],
 "metadata": {
  "kernelspec": {
   "display_name": "pulpo_dev",
   "language": "python",
   "name": "python3"
  },
  "language_info": {
   "codemirror_mode": {
    "name": "ipython",
    "version": 3
   },
   "file_extension": ".py",
   "mimetype": "text/x-python",
   "name": "python",
   "nbconvert_exporter": "python",
   "pygments_lexer": "ipython3",
   "version": "3.10.0"
  }
 },
 "nbformat": 4,
 "nbformat_minor": 2
}
